{
 "cells": [
  {
   "cell_type": "markdown",
   "metadata": {},
   "source": [
    "## 11.1 Output Formatting"
   ]
  },
  {
   "cell_type": "code",
   "execution_count": 4,
   "metadata": {},
   "outputs": [
    {
     "data": {
      "text/plain": [
       "str"
      ]
     },
     "execution_count": 4,
     "metadata": {},
     "output_type": "execute_result"
    }
   ],
   "source": [
    "import reprlib\n",
    "reprlib.repr(set(\"bestdefinitionofaset\"))\n",
    "type(reprlib.repr(set(\"bestdefinitionofaset\")))\n",
    "\n",
    "\n",
    "## It returns a string, while abbreviating the lengthy parts"
   ]
  },
  {
   "cell_type": "code",
   "execution_count": 3,
   "metadata": {},
   "outputs": [
    {
     "data": {
      "text/plain": [
       "set"
      ]
     },
     "execution_count": 3,
     "metadata": {},
     "output_type": "execute_result"
    }
   ],
   "source": [
    "set(\"bestdefinitionofaset\")\n",
    "type(set(\"bestdefinitionofaset\"))\n",
    "\n",
    "## while this returns the set itself"
   ]
  },
  {
   "cell_type": "markdown",
   "metadata": {},
   "source": [
    "pprint"
   ]
  },
  {
   "cell_type": "code",
   "execution_count": 9,
   "metadata": {},
   "outputs": [
    {
     "name": "stdout",
     "output_type": "stream",
     "text": [
      "[[[['black',\n",
      "    'cyan'],\n",
      "   'white',\n",
      "   ['green',\n",
      "    'red']],\n",
      "  [['magenta',\n",
      "    'yellow'],\n",
      "   'blue']]]\n"
     ]
    }
   ],
   "source": [
    "import pprint\n",
    "\n",
    "t = [[[['black', 'cyan'], 'white', ['green', 'red']], [['magenta',\n",
    "    'yellow'], 'blue']]]\n",
    "\n",
    "pprint.pprint(t, width=8)"
   ]
  },
  {
   "cell_type": "markdown",
   "metadata": {},
   "source": [
    "textwrap"
   ]
  },
  {
   "cell_type": "code",
   "execution_count": 10,
   "metadata": {},
   "outputs": [],
   "source": [
    "import textwrap\n",
    "t = \"\"\"The wrap() is just like fill() except that it returns a list of strings instead of one big string with newlines to separate the wrapped lines.\"\"\""
   ]
  },
  {
   "cell_type": "code",
   "execution_count": 14,
   "metadata": {},
   "outputs": [
    {
     "name": "stdout",
     "output_type": "stream",
     "text": [
      "The wrap() is just like fill() except that it returns a list of\n",
      "strings instead of one big string with newlines to separate the\n",
      "wrapped lines.\n",
      "The wrap() is just like fill() except that it returns a list of\n",
      "strings instead of one big string with newlines to separate the\n",
      "wrapped lines.\n"
     ]
    },
    {
     "data": {
      "text/plain": [
       "NoneType"
      ]
     },
     "execution_count": 14,
     "metadata": {},
     "output_type": "execute_result"
    }
   ],
   "source": [
    "print(textwrap.fill(t))\n",
    "type(print(textwrap.fill(t)))  ##the return type is not a string"
   ]
  },
  {
   "cell_type": "markdown",
   "metadata": {},
   "source": [
    "## 11.2 Templating"
   ]
  },
  {
   "cell_type": "code",
   "execution_count": 16,
   "metadata": {},
   "outputs": [
    {
     "data": {
      "text/plain": [
       "'Arara is a place in rural India'"
      ]
     },
     "execution_count": 16,
     "metadata": {},
     "output_type": "execute_result"
    }
   ],
   "source": [
    "from string import Template\n",
    "\n",
    "t = Template('${village} is a place in rural $country')\n",
    "t.substitute(village='Arara', country=\"India\")"
   ]
  },
  {
   "cell_type": "code",
   "execution_count": 20,
   "metadata": {},
   "outputs": [
    {
     "name": "stdout",
     "output_type": "stream",
     "text": [
      "img1 --> arka\n",
      "img2 --> arka\n",
      "img3 --> arka\n"
     ]
    }
   ],
   "source": [
    "import time, os.path\n",
    "\n",
    "\n",
    "photos = ['img1','img2', 'img3']\n",
    "\n",
    "class BatchRename(Template):\n",
    "    delimiter='%'\n",
    "\n",
    "fmt = input('Enter rename style (%d-date %n-seqnum %f-format):  ')\n",
    "\n",
    "t=BatchRename(fmt)\n",
    "date = time.strftime('%d%b%y')\n",
    "for i, filename in enumerate(photos):\n",
    "    base, ext= os.path.splitext(filename)\n",
    "    newname=t.substitute(d=date, n=i, f=ext)\n",
    "    print('{0} --> {1}'.format(filename, newname))"
   ]
  },
  {
   "cell_type": "code",
   "execution_count": 22,
   "metadata": {},
   "outputs": [],
   "source": [
    "#skipped 11.3"
   ]
  },
  {
   "cell_type": "markdown",
   "metadata": {},
   "source": [
    "\n",
    "## 11.3 Multi-threading"
   ]
  },
  {
   "cell_type": "code",
   "execution_count": 23,
   "metadata": {},
   "outputs": [],
   "source": [
    "import threading, zipfile\n",
    "\n",
    "class AsyncZip(threading.Thread):\n",
    "    def __init__(self, infile, outfile):\n",
    "        threading.Thread.__init__(self)\n",
    "        self.infile=infile\n",
    "        self.outfile=outfile\n",
    "\n",
    "    def run(self):\n",
    "        f = zipfile.ZipFile(self.outfile, 'w', zipfile.ZIP_DEFLATED)\n",
    "        f.write(self.infile)\n",
    "        f.close()\n",
    "        print('Finished background zip of:', self.infile)"
   ]
  },
  {
   "cell_type": "code",
   "execution_count": 25,
   "metadata": {},
   "outputs": [
    {
     "name": "stdout",
     "output_type": "stream",
     "text": [
      "The main program continues to run in foreground.\n",
      "Finished background zip of: mydata.txt\n"
     ]
    }
   ],
   "source": [
    "background = AsyncZip('mydata.txt', 'myarchive.zip')\n",
    "background.start()\n",
    "print('The main program continues to run in foreground.')"
   ]
  },
  {
   "cell_type": "markdown",
   "metadata": {},
   "source": [
    "## 11.4 Logging"
   ]
  },
  {
   "cell_type": "code",
   "execution_count": 31,
   "metadata": {},
   "outputs": [
    {
     "name": "stderr",
     "output_type": "stream",
     "text": [
      "WARNING:root:Alert initiated\n"
     ]
    }
   ],
   "source": [
    "# The logging modules offers a full featured and flexible logging system.At its simplest, log messages are sent to a file or to sys.stderr\n",
    "\n",
    "import sys\n",
    "import logging\n",
    "logging.debug(\"debugging info\")\n",
    "logging.warning(\"Alert initiated\")"
   ]
  },
  {
   "cell_type": "markdown",
   "metadata": {},
   "source": [
    "## 11.6 Weak References "
   ]
  },
  {
   "cell_type": "code",
   "execution_count": 52,
   "metadata": {},
   "outputs": [
    {
     "data": {
      "text/plain": [
       "{'_remove': <function weakref.WeakValueDictionary.__init__.<locals>.remove(wr, selfref=<weakref at 0x7f6dfa210ae0; to 'WeakValueDictionary' at 0x7f6e10115af0>, _atomic_removal=<built-in function _remove_dead_weakref>)>,\n",
       " '_pending_removals': [],\n",
       " '_iterating': set(),\n",
       " 'data': {'primary': <weakref at 0x7f6dfabddb40; to 'A' at 0x7f6e10114d10>}}"
      ]
     },
     "execution_count": 52,
     "metadata": {},
     "output_type": "execute_result"
    }
   ],
   "source": [
    "import gc, weakref\n",
    "\n",
    "class A:\n",
    "    def __init__(self,value) -> None:\n",
    "        self.value = value\n",
    "    \n",
    "    def __repr__(self):\n",
    "        return str(self.value)\n",
    "\n",
    "a = A(10)\n",
    "d = weakref.WeakValueDictionary()\n",
    "d['primary'] = a   ## although doesnt create a reference\n",
    "\n",
    "d.__dict__"
   ]
  },
  {
   "cell_type": "code",
   "execution_count": 53,
   "metadata": {},
   "outputs": [
    {
     "data": {
      "text/plain": [
       "10"
      ]
     },
     "execution_count": 53,
     "metadata": {},
     "output_type": "execute_result"
    }
   ],
   "source": [
    "d['primary']"
   ]
  },
  {
   "cell_type": "code",
   "execution_count": 54,
   "metadata": {},
   "outputs": [
    {
     "data": {
      "text/plain": [
       "10"
      ]
     },
     "execution_count": 54,
     "metadata": {},
     "output_type": "execute_result"
    }
   ],
   "source": [
    "del a\n",
    "gc.collect()\n",
    "d['primary']"
   ]
  },
  {
   "cell_type": "markdown",
   "metadata": {},
   "source": [
    "## 11.7 Tools for working with lists"
   ]
  },
  {
   "cell_type": "code",
   "execution_count": 65,
   "metadata": {},
   "outputs": [
    {
     "data": {
      "text/plain": [
       "158"
      ]
     },
     "execution_count": 65,
     "metadata": {},
     "output_type": "execute_result"
    }
   ],
   "source": [
    "## Many data structure needs can be met with the built-in list type. However sometimes there is a need for alternativ3e implementations with different performance trade-offs\n",
    "\n",
    "## array() object is like a list that stores only homogeneous data and stores it more compactly\n",
    "\n",
    "from array import array\n",
    "\n",
    "a = array('H',[45,45,25,43])\n",
    "sum(a)"
   ]
  },
  {
   "cell_type": "code",
   "execution_count": 66,
   "metadata": {},
   "outputs": [],
   "source": [
    "## collections module provides a deque() object that is like a list with faster appends and pops from the left lside but slower lookups in the middle."
   ]
  },
  {
   "cell_type": "code",
   "execution_count": 68,
   "metadata": {},
   "outputs": [
    {
     "name": "stdout",
     "output_type": "stream",
     "text": [
      "Handling task5\n"
     ]
    }
   ],
   "source": [
    "from collections import deque\n",
    "d = deque(['task1', \"task2\", 'task3'])\n",
    "d.append('task5')\n",
    "print(\"Handling\", d.pop())"
   ]
  },
  {
   "cell_type": "code",
   "execution_count": null,
   "metadata": {},
   "outputs": [],
   "source": []
  }
 ],
 "metadata": {
  "kernelspec": {
   "display_name": "Python 3",
   "language": "python",
   "name": "python3"
  },
  "language_info": {
   "codemirror_mode": {
    "name": "ipython",
    "version": 3
   },
   "file_extension": ".py",
   "mimetype": "text/x-python",
   "name": "python",
   "nbconvert_exporter": "python",
   "pygments_lexer": "ipython3",
   "version": "3.12.0"
  }
 },
 "nbformat": 4,
 "nbformat_minor": 2
}
