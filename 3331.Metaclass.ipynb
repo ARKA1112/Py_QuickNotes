{
 "cells": [
  {
   "cell_type": "code",
   "execution_count": 1,
   "metadata": {},
   "outputs": [],
   "source": [
    "#By default, classes are constructed using type(). The class body is executed in a new namespace and the class name is bound locally to the result of type(name, bases, namespcae)\n",
    "\n",
    "\n",
    "# Meta is the metaclass and both myclass and mysubclass are the instances of the metaclass\n",
    "\n",
    "\n",
    "class Meta(type):\n",
    "    pass\n",
    "\n",
    "\n",
    "class Myclass(metaclass = Meta):\n",
    "    pass\n",
    "\n",
    "class Mysubclass(metaclass = Meta):\n",
    "    pass"
   ]
  },
  {
   "cell_type": "code",
   "execution_count": 8,
   "metadata": {},
   "outputs": [],
   "source": [
    "# In additon to bypassing any instance attributes in the interest of correctness, implicit special method lookup generally also bypasses the __getattribute__() method even of the objects metaclass\n",
    "\n",
    "\n",
    "\n",
    "from typing import Any\n",
    "\n",
    "\n",
    "class Meta(type):\n",
    "    def __getattribute__(*args):\n",
    "            print(\"Metaclass getattribute invoked\")\n",
    "            return type.__getattribute__(*args)\n",
    "    \n",
    "class C(object, metaclass=Meta):\n",
    "    def __len__(self):\n",
    "        return 10\n",
    "          \n",
    "    def __getattribute__(*args):\n",
    "        (\"Class getattribute invoked\")\n",
    "        return object.__getattribute__(*args)"
   ]
  },
  {
   "cell_type": "code",
   "execution_count": 10,
   "metadata": {},
   "outputs": [
    {
     "data": {
      "text/plain": [
       "10"
      ]
     },
     "execution_count": 10,
     "metadata": {},
     "output_type": "execute_result"
    }
   ],
   "source": [
    "c = C()\n",
    "c.__len__()"
   ]
  },
  {
   "cell_type": "code",
   "execution_count": null,
   "metadata": {},
   "outputs": [],
   "source": []
  }
 ],
 "metadata": {
  "kernelspec": {
   "display_name": "Python 3",
   "language": "python",
   "name": "python3"
  },
  "language_info": {
   "codemirror_mode": {
    "name": "ipython",
    "version": 3
   },
   "file_extension": ".py",
   "mimetype": "text/x-python",
   "name": "python",
   "nbconvert_exporter": "python",
   "pygments_lexer": "ipython3",
   "version": "3.12.0"
  },
  "orig_nbformat": 4
 },
 "nbformat": 4,
 "nbformat_minor": 2
}
