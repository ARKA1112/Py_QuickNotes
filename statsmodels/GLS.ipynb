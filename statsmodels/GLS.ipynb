{
 "cells": [
  {
   "cell_type": "code",
   "execution_count": 1,
   "metadata": {},
   "outputs": [],
   "source": [
    "import numpy as np\n",
    "import statsmodels.api as sm"
   ]
  },
  {
   "cell_type": "code",
   "execution_count": 5,
   "metadata": {},
   "outputs": [
    {
     "data": {
      "text/html": [
       "<div>\n",
       "<style scoped>\n",
       "    .dataframe tbody tr th:only-of-type {\n",
       "        vertical-align: middle;\n",
       "    }\n",
       "\n",
       "    .dataframe tbody tr th {\n",
       "        vertical-align: top;\n",
       "    }\n",
       "\n",
       "    .dataframe thead th {\n",
       "        text-align: right;\n",
       "    }\n",
       "</style>\n",
       "<table border=\"1\" class=\"dataframe\">\n",
       "  <thead>\n",
       "    <tr style=\"text-align: right;\">\n",
       "      <th></th>\n",
       "      <th>const</th>\n",
       "      <th>GNPDEFL</th>\n",
       "      <th>GNP</th>\n",
       "      <th>UNEMP</th>\n",
       "      <th>ARMED</th>\n",
       "      <th>POP</th>\n",
       "      <th>YEAR</th>\n",
       "    </tr>\n",
       "  </thead>\n",
       "  <tbody>\n",
       "    <tr>\n",
       "      <th>0</th>\n",
       "      <td>1.0</td>\n",
       "      <td>83.0</td>\n",
       "      <td>234289.0</td>\n",
       "      <td>2356.0</td>\n",
       "      <td>1590.0</td>\n",
       "      <td>107608.0</td>\n",
       "      <td>1947.0</td>\n",
       "    </tr>\n",
       "    <tr>\n",
       "      <th>1</th>\n",
       "      <td>1.0</td>\n",
       "      <td>88.5</td>\n",
       "      <td>259426.0</td>\n",
       "      <td>2325.0</td>\n",
       "      <td>1456.0</td>\n",
       "      <td>108632.0</td>\n",
       "      <td>1948.0</td>\n",
       "    </tr>\n",
       "    <tr>\n",
       "      <th>2</th>\n",
       "      <td>1.0</td>\n",
       "      <td>88.2</td>\n",
       "      <td>258054.0</td>\n",
       "      <td>3682.0</td>\n",
       "      <td>1616.0</td>\n",
       "      <td>109773.0</td>\n",
       "      <td>1949.0</td>\n",
       "    </tr>\n",
       "    <tr>\n",
       "      <th>3</th>\n",
       "      <td>1.0</td>\n",
       "      <td>89.5</td>\n",
       "      <td>284599.0</td>\n",
       "      <td>3351.0</td>\n",
       "      <td>1650.0</td>\n",
       "      <td>110929.0</td>\n",
       "      <td>1950.0</td>\n",
       "    </tr>\n",
       "    <tr>\n",
       "      <th>4</th>\n",
       "      <td>1.0</td>\n",
       "      <td>96.2</td>\n",
       "      <td>328975.0</td>\n",
       "      <td>2099.0</td>\n",
       "      <td>3099.0</td>\n",
       "      <td>112075.0</td>\n",
       "      <td>1951.0</td>\n",
       "    </tr>\n",
       "  </tbody>\n",
       "</table>\n",
       "</div>"
      ],
      "text/plain": [
       "   const  GNPDEFL       GNP   UNEMP   ARMED       POP    YEAR\n",
       "0    1.0     83.0  234289.0  2356.0  1590.0  107608.0  1947.0\n",
       "1    1.0     88.5  259426.0  2325.0  1456.0  108632.0  1948.0\n",
       "2    1.0     88.2  258054.0  3682.0  1616.0  109773.0  1949.0\n",
       "3    1.0     89.5  284599.0  3351.0  1650.0  110929.0  1950.0\n",
       "4    1.0     96.2  328975.0  2099.0  3099.0  112075.0  1951.0"
      ]
     },
     "execution_count": 5,
     "metadata": {},
     "output_type": "execute_result"
    }
   ],
   "source": [
    "# The longley dataset is a time series dataset\n",
    "\n",
    "data = sm.datasets.longley.load()\n",
    "data.exog = sm.add_constant(data.exog)\n",
    "data.exog.head()"
   ]
  },
  {
   "cell_type": "code",
   "execution_count": 9,
   "metadata": {},
   "outputs": [],
   "source": [
    "# Lets assume that the data is heteroskedastic and that we know the nature of the heteroskedasticity. We can then define sigma and use it to give us a GLD model\n",
    "\n",
    "\n",
    "ols_resid = sm.OLS(data.endog, data.exog).fit().resid"
   ]
  },
  {
   "cell_type": "code",
   "execution_count": 10,
   "metadata": {},
   "outputs": [
    {
     "data": {
      "text/plain": [
       "0     267.340030\n",
       "1     -94.013942\n",
       "2      46.287168\n",
       "3    -410.114622\n",
       "4     309.714591\n",
       "5    -249.311215\n",
       "6    -164.048956\n",
       "7     -13.180357\n",
       "8      14.304773\n",
       "9     455.394095\n",
       "10    -17.268927\n",
       "11    -39.055043\n",
       "12   -155.549974\n",
       "13    -85.671308\n",
       "14    341.931514\n",
       "15   -206.757825\n",
       "dtype: float64"
      ]
     },
     "execution_count": 10,
     "metadata": {},
     "output_type": "execute_result"
    }
   ],
   "source": [
    "old_resid"
   ]
  },
  {
   "cell_type": "code",
   "execution_count": 11,
   "metadata": {},
   "outputs": [
    {
     "name": "stdout",
     "output_type": "stream",
     "text": [
      "-1.4390229839654487\n",
      "0.17378444789040948\n"
     ]
    }
   ],
   "source": [
    "resid_fit = sm.OLS(\n",
    "    np.asarray(ols_resid)[1:], sm.add_constant(np.asarray(ols_resid)[:-1])\n",
    ").fit()\n",
    "print(resid_fit.tvalues[1])\n",
    "print(resid_fit.pvalues[1])\n"
   ]
  },
  {
   "cell_type": "code",
   "execution_count": 13,
   "metadata": {},
   "outputs": [],
   "source": [
    "from scipy.linalg import toeplitz"
   ]
  },
  {
   "cell_type": "code",
   "execution_count": 14,
   "metadata": {},
   "outputs": [
    {
     "data": {
      "text/plain": [
       "array([[0, 1, 2, 3, 4],\n",
       "       [1, 0, 1, 2, 3],\n",
       "       [2, 1, 0, 1, 2],\n",
       "       [3, 2, 1, 0, 1],\n",
       "       [4, 3, 2, 1, 0]])"
      ]
     },
     "execution_count": 14,
     "metadata": {},
     "output_type": "execute_result"
    }
   ],
   "source": [
    "toeplitz(range(5))"
   ]
  },
  {
   "cell_type": "code",
   "execution_count": 15,
   "metadata": {},
   "outputs": [],
   "source": [
    "order = toeplitz(range(len(ols_resid)))"
   ]
  },
  {
   "cell_type": "code",
   "execution_count": 16,
   "metadata": {},
   "outputs": [
    {
     "ename": "NameError",
     "evalue": "name 'rho' is not defined",
     "output_type": "error",
     "traceback": [
      "\u001b[0;31m---------------------------------------------------------------------------\u001b[0m",
      "\u001b[0;31mNameError\u001b[0m                                 Traceback (most recent call last)",
      "\u001b[1;32m/home/susearc/Documents/github/Py_QuickNotes/statsmodels/GLS.ipynb Cell 9\u001b[0m line \u001b[0;36m4\n\u001b[1;32m      <a href='vscode-notebook-cell:/home/susearc/Documents/github/Py_QuickNotes/statsmodels/GLS.ipynb#X12sZmlsZQ%3D%3D?line=0'>1</a>\u001b[0m \u001b[39m# so that our error covariance structure is actually rho**order which defines and autocorrelation structure\u001b[39;00m\n\u001b[0;32m----> <a href='vscode-notebook-cell:/home/susearc/Documents/github/Py_QuickNotes/statsmodels/GLS.ipynb#X12sZmlsZQ%3D%3D?line=3'>4</a>\u001b[0m sigma \u001b[39m=\u001b[39m rho \u001b[39m*\u001b[39m\u001b[39m*\u001b[39m order\n\u001b[1;32m      <a href='vscode-notebook-cell:/home/susearc/Documents/github/Py_QuickNotes/statsmodels/GLS.ipynb#X12sZmlsZQ%3D%3D?line=4'>5</a>\u001b[0m gls_model \u001b[39m=\u001b[39m sm\u001b[39m.\u001b[39mGLS(data\u001b[39m.\u001b[39mendog, data\u001b[39m.\u001b[39mexog, sigma\u001b[39m=\u001b[39msigma)\n\u001b[1;32m      <a href='vscode-notebook-cell:/home/susearc/Documents/github/Py_QuickNotes/statsmodels/GLS.ipynb#X12sZmlsZQ%3D%3D?line=5'>6</a>\u001b[0m gls_results \u001b[39m=\u001b[39m gls_model\u001b[39m.\u001b[39mfit()\n",
      "\u001b[0;31mNameError\u001b[0m: name 'rho' is not defined"
     ]
    }
   ],
   "source": [
    "# so that our error covariance structure is actually rho**order which defines and autocorrelation structure\n",
    "\n",
    "\n",
    "sigma = rho ** order\n",
    "gls_model = sm.GLS(data.endog, data.exog, sigma=sigma)\n",
    "gls_results = gls_model.fit()"
   ]
  },
  {
   "cell_type": "code",
   "execution_count": 17,
   "metadata": {},
   "outputs": [
    {
     "name": "stdout",
     "output_type": "stream",
     "text": [
      "                           GLSAR Regression Results                           \n",
      "==============================================================================\n",
      "Dep. Variable:                 TOTEMP   R-squared:                       0.996\n",
      "Model:                          GLSAR   Adj. R-squared:                  0.992\n",
      "Method:                 Least Squares   F-statistic:                     295.2\n",
      "Date:                Thu, 26 Oct 2023   Prob (F-statistic):           6.09e-09\n",
      "Time:                        13:28:14   Log-Likelihood:                -102.04\n",
      "No. Observations:                  15   AIC:                             218.1\n",
      "Df Residuals:                       8   BIC:                             223.0\n",
      "Df Model:                           6                                         \n",
      "Covariance Type:            nonrobust                                         \n",
      "==============================================================================\n",
      "                 coef    std err          t      P>|t|      [0.025      0.975]\n",
      "------------------------------------------------------------------------------\n",
      "const      -3.468e+06   8.72e+05     -3.979      0.004   -5.48e+06   -1.46e+06\n",
      "GNPDEFL       34.5568     84.734      0.408      0.694    -160.840     229.953\n",
      "GNP           -0.0343      0.033     -1.047      0.326      -0.110       0.041\n",
      "UNEMP         -1.9621      0.481     -4.083      0.004      -3.070      -0.854\n",
      "ARMED         -1.0020      0.211     -4.740      0.001      -1.489      -0.515\n",
      "POP           -0.0978      0.225     -0.435      0.675      -0.616       0.421\n",
      "YEAR        1823.1829    445.829      4.089      0.003     795.100    2851.266\n",
      "==============================================================================\n",
      "Omnibus:                        1.960   Durbin-Watson:                   2.554\n",
      "Prob(Omnibus):                  0.375   Jarque-Bera (JB):                1.423\n",
      "Skew:                           0.713   Prob(JB):                        0.491\n",
      "Kurtosis:                       2.508   Cond. No.                     4.80e+09\n",
      "==============================================================================\n",
      "\n",
      "Notes:\n",
      "[1] Standard Errors assume that the covariance matrix of the errors is correctly specified.\n",
      "[2] The condition number is large, 4.8e+09. This might indicate that there are\n",
      "strong multicollinearity or other numerical problems.\n"
     ]
    },
    {
     "name": "stderr",
     "output_type": "stream",
     "text": [
      "/home/susearc/Macos/py3.11/lib/python3.11/site-packages/scipy/stats/_stats_py.py:1806: UserWarning: kurtosistest only valid for n>=20 ... continuing anyway, n=15\n",
      "  warnings.warn(\"kurtosistest only valid for n>=20 ... continuing \"\n"
     ]
    }
   ],
   "source": [
    "glsar_model = sm.GLSAR(data.endog, data.exog, 1)\n",
    "glsar_results = glsar_model.iterative_fit(1)\n",
    "print(glsar_results.summary())\n"
   ]
  },
  {
   "cell_type": "code",
   "execution_count": null,
   "metadata": {},
   "outputs": [],
   "source": []
  }
 ],
 "metadata": {
  "kernelspec": {
   "display_name": "Python 3",
   "language": "python",
   "name": "python3"
  },
  "language_info": {
   "codemirror_mode": {
    "name": "ipython",
    "version": 3
   },
   "file_extension": ".py",
   "mimetype": "text/x-python",
   "name": "python",
   "nbconvert_exporter": "python",
   "pygments_lexer": "ipython3",
   "version": "3.11.6"
  }
 },
 "nbformat": 4,
 "nbformat_minor": 2
}
