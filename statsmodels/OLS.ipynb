{
 "cells": [
  {
   "cell_type": "markdown",
   "metadata": {},
   "source": [
    "## Performing Linear Regression(OLS)"
   ]
  },
  {
   "cell_type": "code",
   "execution_count": null,
   "metadata": {},
   "outputs": [],
   "source": [
    "#%pip install statsmodels"
   ]
  },
  {
   "cell_type": "code",
   "execution_count": 1,
   "metadata": {},
   "outputs": [],
   "source": [
    "import statsmodels.api as sm\n",
    "import numpy as np\n",
    "import pandas as pd\n",
    "%matplotlib inline\n",
    "\n",
    "np.random.seed(33)"
   ]
  },
  {
   "cell_type": "markdown",
   "metadata": {},
   "source": [
    "#### OLS estimation with artificial data"
   ]
  },
  {
   "cell_type": "code",
   "execution_count": 2,
   "metadata": {},
   "outputs": [],
   "source": [
    "n_sample=1000\n",
    "X=np.linspace(0,10,1000)\n",
    "X=np.column_stack((X,X**2))\n",
    "beta = np.array([1,0.1,10])   #Here beta is the coefficients of x and x^2\n",
    "\n",
    "\n",
    "\n",
    "e=np.random.normal(size=n_sample)"
   ]
  },
  {
   "cell_type": "code",
   "execution_count": 3,
   "metadata": {},
   "outputs": [
    {
     "data": {
      "text/plain": [
       "(1000,)"
      ]
     },
     "execution_count": 3,
     "metadata": {},
     "output_type": "execute_result"
    }
   ],
   "source": [
    "#Our model needs an intercept so we add a column of 1s:\n",
    "\n",
    "X = sm.add_constant(X)\n",
    "y = np.dot(X,beta) + e\n",
    "np.shape(y)\n",
    "#np.shape(beta)\n"
   ]
  },
  {
   "cell_type": "markdown",
   "metadata": {},
   "source": [
    "### Fit and summary"
   ]
  },
  {
   "cell_type": "code",
   "execution_count": 4,
   "metadata": {},
   "outputs": [
    {
     "name": "stdout",
     "output_type": "stream",
     "text": [
      "                            OLS Regression Results                            \n",
      "==============================================================================\n",
      "Dep. Variable:                      y   R-squared:                       1.000\n",
      "Model:                            OLS   Adj. R-squared:                  1.000\n",
      "Method:                 Least Squares   F-statistic:                 4.768e+07\n",
      "Date:                Wed, 18 Oct 2023   Prob (F-statistic):               0.00\n",
      "Time:                        21:09:24   Log-Likelihood:                -1384.3\n",
      "No. Observations:                1000   AIC:                             2775.\n",
      "Df Residuals:                     997   BIC:                             2789.\n",
      "Df Model:                           2                                         \n",
      "Covariance Type:            nonrobust                                         \n",
      "==============================================================================\n",
      "                 coef    std err          t      P>|t|      [0.025      0.975]\n",
      "------------------------------------------------------------------------------\n",
      "const          0.9326      0.092     10.182      0.000       0.753       1.112\n",
      "x1             0.1239      0.042      2.928      0.003       0.041       0.207\n",
      "x2             9.9982      0.004   2440.775      0.000       9.990      10.006\n",
      "==============================================================================\n",
      "Omnibus:                        0.694   Durbin-Watson:                   1.923\n",
      "Prob(Omnibus):                  0.707   Jarque-Bera (JB):                0.655\n",
      "Skew:                          -0.062   Prob(JB):                        0.721\n",
      "Kurtosis:                       3.012   Cond. No.                         146.\n",
      "==============================================================================\n",
      "\n",
      "Notes:\n",
      "[1] Standard Errors assume that the covariance matrix of the errors is correctly specified.\n"
     ]
    }
   ],
   "source": [
    "model =  sm.OLS(y,X)\n",
    "results=model.fit()\n",
    "print(results.summary())"
   ]
  },
  {
   "cell_type": "code",
   "execution_count": 5,
   "metadata": {},
   "outputs": [
    {
     "data": {
      "text/plain": [
       "['HC0_se',\n",
       " 'HC1_se',\n",
       " 'HC2_se',\n",
       " 'HC3_se',\n",
       " '_HCCM',\n",
       " '__class__',\n",
       " '__delattr__',\n",
       " '__dict__',\n",
       " '__dir__',\n",
       " '__doc__',\n",
       " '__eq__',\n",
       " '__format__',\n",
       " '__ge__',\n",
       " '__getattribute__',\n",
       " '__getstate__',\n",
       " '__gt__',\n",
       " '__hash__',\n",
       " '__init__',\n",
       " '__init_subclass__',\n",
       " '__le__',\n",
       " '__lt__',\n",
       " '__module__',\n",
       " '__ne__',\n",
       " '__new__',\n",
       " '__reduce__',\n",
       " '__reduce_ex__',\n",
       " '__repr__',\n",
       " '__setattr__',\n",
       " '__sizeof__',\n",
       " '__str__',\n",
       " '__subclasshook__',\n",
       " '__weakref__',\n",
       " '_abat_diagonal',\n",
       " '_cache',\n",
       " '_data_attr',\n",
       " '_data_in_cache',\n",
       " '_get_robustcov_results',\n",
       " '_get_wald_nonlinear',\n",
       " '_is_nested',\n",
       " '_transform_predict_exog',\n",
       " '_use_t',\n",
       " '_wexog_singular_values',\n",
       " 'aic',\n",
       " 'bic',\n",
       " 'bse',\n",
       " 'centered_tss',\n",
       " 'compare_f_test',\n",
       " 'compare_lm_test',\n",
       " 'compare_lr_test',\n",
       " 'condition_number',\n",
       " 'conf_int',\n",
       " 'conf_int_el',\n",
       " 'cov_HC0',\n",
       " 'cov_HC1',\n",
       " 'cov_HC2',\n",
       " 'cov_HC3',\n",
       " 'cov_kwds',\n",
       " 'cov_params',\n",
       " 'cov_type',\n",
       " 'df_model',\n",
       " 'df_resid',\n",
       " 'diagn',\n",
       " 'eigenvals',\n",
       " 'el_test',\n",
       " 'ess',\n",
       " 'f_pvalue',\n",
       " 'f_test',\n",
       " 'fittedvalues',\n",
       " 'fvalue',\n",
       " 'get_influence',\n",
       " 'get_prediction',\n",
       " 'get_robustcov_results',\n",
       " 'info_criteria',\n",
       " 'initialize',\n",
       " 'k_constant',\n",
       " 'llf',\n",
       " 'load',\n",
       " 'model',\n",
       " 'mse_model',\n",
       " 'mse_resid',\n",
       " 'mse_total',\n",
       " 'nobs',\n",
       " 'normalized_cov_params',\n",
       " 'outlier_test',\n",
       " 'params',\n",
       " 'predict',\n",
       " 'pvalues',\n",
       " 'remove_data',\n",
       " 'resid',\n",
       " 'resid_pearson',\n",
       " 'rsquared',\n",
       " 'rsquared_adj',\n",
       " 'save',\n",
       " 'scale',\n",
       " 'ssr',\n",
       " 'summary',\n",
       " 'summary2',\n",
       " 't_test',\n",
       " 't_test_pairwise',\n",
       " 'tvalues',\n",
       " 'uncentered_tss',\n",
       " 'use_t',\n",
       " 'wald_test',\n",
       " 'wald_test_terms',\n",
       " 'wresid']"
      ]
     },
     "execution_count": 5,
     "metadata": {},
     "output_type": "execute_result"
    }
   ],
   "source": [
    "dir(results)"
   ]
  },
  {
   "cell_type": "code",
   "execution_count": 6,
   "metadata": {},
   "outputs": [
    {
     "name": "stdout",
     "output_type": "stream",
     "text": [
      "Parameters:  [0.93259525 0.12386822 9.99820614]\n",
      "R2:  0.9999895450933209\n"
     ]
    }
   ],
   "source": [
    "print('Parameters: ', results.params)\n",
    "print('R2: ', results.rsquared)"
   ]
  },
  {
   "cell_type": "markdown",
   "metadata": {},
   "source": [
    "### OLS non-Linear curve but linear in parameters"
   ]
  },
  {
   "cell_type": "code",
   "execution_count": 7,
   "metadata": {},
   "outputs": [],
   "source": [
    "nsample = 50\n",
    "\n",
    "sig=0.5\n",
    "x = np.linspace(0,11, nsample)\n",
    "X = np.column_stack((x, np.sin(x), (x-5)**2, np.ones(nsample)))\n",
    "beta = np.array([0.22,0.3,0.43,5.0])\n",
    "y_true=np.dot(X,beta)"
   ]
  },
  {
   "cell_type": "code",
   "execution_count": 8,
   "metadata": {},
   "outputs": [
    {
     "data": {
      "text/plain": [
       "array([15.75      , 14.92253447, 14.13505776, 13.38438662, 12.66766574,\n",
       "       11.98251102, 11.32712925, 10.7004081 , 10.10197192,  9.53220059,\n",
       "        8.99221048,  8.48379841,  8.00935147,  7.57172727,  7.17411045,\n",
       "        6.81985294,  6.51230572,  6.25465062,  6.04974069,  5.899957  ,\n",
       "        5.80708914,  5.77224544,  5.79579729,  5.87736058,  6.01581492,\n",
       "        6.20935987,  6.45560533,  6.75169145,  7.09443216,  7.48047507,\n",
       "        7.90646971,  8.36923563,  8.86592207,  9.39415098,  9.95213639,\n",
       "       10.53877401, 11.15369667, 11.79729272, 12.47068659, 13.1756823 ,\n",
       "       13.91467298, 14.69052071, 15.50641298, 16.36570264, 17.27173967,\n",
       "       18.22770309, 19.23644138, 20.30032956, 21.42115   , 22.60000294])"
      ]
     },
     "execution_count": 8,
     "metadata": {},
     "output_type": "execute_result"
    }
   ],
   "source": [
    "y_true"
   ]
  },
  {
   "cell_type": "code",
   "execution_count": 9,
   "metadata": {},
   "outputs": [],
   "source": [
    "y = y_true + sig*np.random.normal(size=nsample)"
   ]
  },
  {
   "cell_type": "code",
   "execution_count": 10,
   "metadata": {},
   "outputs": [
    {
     "name": "stdout",
     "output_type": "stream",
     "text": [
      "\u001b[0;31mDocstring:\u001b[0m\n",
      "normal(loc=0.0, scale=1.0, size=None)\n",
      "\n",
      "Draw random samples from a normal (Gaussian) distribution.\n",
      "\n",
      "The probability density function of the normal distribution, first\n",
      "derived by De Moivre and 200 years later by both Gauss and Laplace\n",
      "independently [2]_, is often called the bell curve because of\n",
      "its characteristic shape (see the example below).\n",
      "\n",
      "The normal distributions occurs often in nature.  For example, it\n",
      "describes the commonly occurring distribution of samples influenced\n",
      "by a large number of tiny, random disturbances, each with its own\n",
      "unique distribution [2]_.\n",
      "\n",
      ".. note::\n",
      "    New code should use the `~numpy.random.Generator.normal`\n",
      "    method of a `~numpy.random.Generator` instance instead;\n",
      "    please see the :ref:`random-quick-start`.\n",
      "\n",
      "Parameters\n",
      "----------\n",
      "loc : float or array_like of floats\n",
      "    Mean (\"centre\") of the distribution.\n",
      "scale : float or array_like of floats\n",
      "    Standard deviation (spread or \"width\") of the distribution. Must be\n",
      "    non-negative.\n",
      "size : int or tuple of ints, optional\n",
      "    Output shape.  If the given shape is, e.g., ``(m, n, k)``, then\n",
      "    ``m * n * k`` samples are drawn.  If size is ``None`` (default),\n",
      "    a single value is returned if ``loc`` and ``scale`` are both scalars.\n",
      "    Otherwise, ``np.broadcast(loc, scale).size`` samples are drawn.\n",
      "\n",
      "Returns\n",
      "-------\n",
      "out : ndarray or scalar\n",
      "    Drawn samples from the parameterized normal distribution.\n",
      "\n",
      "See Also\n",
      "--------\n",
      "scipy.stats.norm : probability density function, distribution or\n",
      "    cumulative density function, etc.\n",
      "random.Generator.normal: which should be used for new code.\n",
      "\n",
      "Notes\n",
      "-----\n",
      "The probability density for the Gaussian distribution is\n",
      "\n",
      ".. math:: p(x) = \\frac{1}{\\sqrt{ 2 \\pi \\sigma^2 }}\n",
      "                 e^{ - \\frac{ (x - \\mu)^2 } {2 \\sigma^2} },\n",
      "\n",
      "where :math:`\\mu` is the mean and :math:`\\sigma` the standard\n",
      "deviation. The square of the standard deviation, :math:`\\sigma^2`,\n",
      "is called the variance.\n",
      "\n",
      "The function has its peak at the mean, and its \"spread\" increases with\n",
      "the standard deviation (the function reaches 0.607 times its maximum at\n",
      ":math:`x + \\sigma` and :math:`x - \\sigma` [2]_).  This implies that\n",
      "normal is more likely to return samples lying close to the mean, rather\n",
      "than those far away.\n",
      "\n",
      "References\n",
      "----------\n",
      ".. [1] Wikipedia, \"Normal distribution\",\n",
      "       https://en.wikipedia.org/wiki/Normal_distribution\n",
      ".. [2] P. R. Peebles Jr., \"Central Limit Theorem\" in \"Probability,\n",
      "       Random Variables and Random Signal Principles\", 4th ed., 2001,\n",
      "       pp. 51, 51, 125.\n",
      "\n",
      "Examples\n",
      "--------\n",
      "Draw samples from the distribution:\n",
      "\n",
      ">>> mu, sigma = 0, 0.1 # mean and standard deviation\n",
      ">>> s = np.random.normal(mu, sigma, 1000)\n",
      "\n",
      "Verify the mean and the variance:\n",
      "\n",
      ">>> abs(mu - np.mean(s))\n",
      "0.0  # may vary\n",
      "\n",
      ">>> abs(sigma - np.std(s, ddof=1))\n",
      "0.1  # may vary\n",
      "\n",
      "Display the histogram of the samples, along with\n",
      "the probability density function:\n",
      "\n",
      ">>> import matplotlib.pyplot as plt\n",
      ">>> count, bins, ignored = plt.hist(s, 30, density=True)\n",
      ">>> plt.plot(bins, 1/(sigma * np.sqrt(2 * np.pi)) *\n",
      "...                np.exp( - (bins - mu)**2 / (2 * sigma**2) ),\n",
      "...          linewidth=2, color='r')\n",
      ">>> plt.show()\n",
      "\n",
      "Two-by-four array of samples from the normal distribution with\n",
      "mean 3 and standard deviation 2.5:\n",
      "\n",
      ">>> np.random.normal(3, 2.5, size=(2, 4))\n",
      "array([[-4.49401501,  4.00950034, -1.81814867,  7.29718677],   # random\n",
      "       [ 0.39924804,  4.68456316,  4.99394529,  4.84057254]])  # random\n",
      "\u001b[0;31mType:\u001b[0m      builtin_function_or_method"
     ]
    }
   ],
   "source": [
    "np.random.normal?\n"
   ]
  },
  {
   "cell_type": "code",
   "execution_count": 11,
   "metadata": {},
   "outputs": [
    {
     "name": "stdout",
     "output_type": "stream",
     "text": [
      "                            OLS Regression Results                            \n",
      "==============================================================================\n",
      "Dep. Variable:                      y   R-squared:                       0.991\n",
      "Model:                            OLS   Adj. R-squared:                  0.990\n",
      "Method:                 Least Squares   F-statistic:                     1601.\n",
      "Date:                Wed, 18 Oct 2023   Prob (F-statistic):           1.62e-46\n",
      "Time:                        21:09:24   Log-Likelihood:                -30.217\n",
      "No. Observations:                  50   AIC:                             68.43\n",
      "Df Residuals:                      46   BIC:                             76.08\n",
      "Df Model:                           3                                         \n",
      "Covariance Type:            nonrobust                                         \n",
      "==============================================================================\n",
      "                 coef    std err          t      P>|t|      [0.025      0.975]\n",
      "------------------------------------------------------------------------------\n",
      "x1             0.2151      0.022      9.679      0.000       0.170       0.260\n",
      "x2             0.1926      0.097      1.988      0.053      -0.002       0.388\n",
      "x3             0.4290      0.007     61.528      0.000       0.415       0.443\n",
      "const          5.0125      0.139     36.086      0.000       4.733       5.292\n",
      "==============================================================================\n",
      "Omnibus:                        1.065   Durbin-Watson:                   2.507\n",
      "Prob(Omnibus):                  0.587   Jarque-Bera (JB):                0.920\n",
      "Skew:                           0.062   Prob(JB):                        0.631\n",
      "Kurtosis:                       2.347   Cond. No.                         34.1\n",
      "==============================================================================\n",
      "\n",
      "Notes:\n",
      "[1] Standard Errors assume that the covariance matrix of the errors is correctly specified.\n"
     ]
    }
   ],
   "source": [
    "res=sm.OLS(y,X).fit()\n",
    "print(res.summary())\n"
   ]
  },
  {
   "cell_type": "code",
   "execution_count": 12,
   "metadata": {},
   "outputs": [
    {
     "data": {
      "text/html": [
       "<table class=\"simpletable\">\n",
       "<tr>\n",
       "        <td>Model:</td>               <td>OLS</td>         <td>Adj. R-squared:</td>     <td>0.990</td> \n",
       "</tr>\n",
       "<tr>\n",
       "  <td>Dependent Variable:</td>         <td>y</td>               <td>AIC:</td>          <td>68.4347</td>\n",
       "</tr>\n",
       "<tr>\n",
       "         <td>Date:</td>        <td>2023-10-18 21:09</td>        <td>BIC:</td>          <td>76.0828</td>\n",
       "</tr>\n",
       "<tr>\n",
       "   <td>No. Observations:</td>         <td>50</td>          <td>Log-Likelihood:</td>    <td>-30.217</td>\n",
       "</tr>\n",
       "<tr>\n",
       "       <td>Df Model:</td>              <td>3</td>           <td>F-statistic:</td>       <td>1601.</td> \n",
       "</tr>\n",
       "<tr>\n",
       "     <td>Df Residuals:</td>           <td>46</td>        <td>Prob (F-statistic):</td> <td>1.62e-46</td>\n",
       "</tr>\n",
       "<tr>\n",
       "      <td>R-squared:</td>            <td>0.991</td>            <td>Scale:</td>         <td>0.21314</td>\n",
       "</tr>\n",
       "</table>\n",
       "<table class=\"simpletable\">\n",
       "<tr>\n",
       "    <td></td>     <th>Coef.</th> <th>Std.Err.</th>    <th>t</th>     <th>P>|t|</th> <th>[0.025</th>  <th>0.975]</th>\n",
       "</tr>\n",
       "<tr>\n",
       "  <th>x1</th>    <td>0.2151</td>  <td>0.0222</td>  <td>9.6787</td>  <td>0.0000</td> <td>0.1704</td>  <td>0.2599</td>\n",
       "</tr>\n",
       "<tr>\n",
       "  <th>x2</th>    <td>0.1926</td>  <td>0.0969</td>  <td>1.9877</td>  <td>0.0528</td> <td>-0.0024</td> <td>0.3877</td>\n",
       "</tr>\n",
       "<tr>\n",
       "  <th>x3</th>    <td>0.4290</td>  <td>0.0070</td>  <td>61.5281</td> <td>0.0000</td> <td>0.4150</td>  <td>0.4430</td>\n",
       "</tr>\n",
       "<tr>\n",
       "  <th>const</th> <td>5.0125</td>  <td>0.1389</td>  <td>36.0856</td> <td>0.0000</td> <td>4.7329</td>  <td>5.2921</td>\n",
       "</tr>\n",
       "</table>\n",
       "<table class=\"simpletable\">\n",
       "<tr>\n",
       "     <td>Omnibus:</td>    <td>1.065</td>  <td>Durbin-Watson:</td>   <td>2.507</td>\n",
       "</tr>\n",
       "<tr>\n",
       "  <td>Prob(Omnibus):</td> <td>0.587</td> <td>Jarque-Bera (JB):</td> <td>0.920</td>\n",
       "</tr>\n",
       "<tr>\n",
       "       <td>Skew:</td>     <td>0.062</td>     <td>Prob(JB):</td>     <td>0.631</td>\n",
       "</tr>\n",
       "<tr>\n",
       "     <td>Kurtosis:</td>   <td>2.347</td>  <td>Condition No.:</td>    <td>34</td>  \n",
       "</tr>\n",
       "</table><br/>\n",
       "Notes:<br/>\n",
       "[1] Standard Errors assume that the covariance matrix of the errors is correctly specified."
      ],
      "text/latex": [
       "\\begin{table}\n",
       "\\caption{Results: Ordinary least squares}\n",
       "\\label{}\n",
       "\\begin{center}\n",
       "\\begin{tabular}{llll}\n",
       "\\hline\n",
       "Model:              & OLS              & Adj. R-squared:     & 0.990     \\\\\n",
       "Dependent Variable: & y                & AIC:                & 68.4347   \\\\\n",
       "Date:               & 2023-10-18 21:09 & BIC:                & 76.0828   \\\\\n",
       "No. Observations:   & 50               & Log-Likelihood:     & -30.217   \\\\\n",
       "Df Model:           & 3                & F-statistic:        & 1601.     \\\\\n",
       "Df Residuals:       & 46               & Prob (F-statistic): & 1.62e-46  \\\\\n",
       "R-squared:          & 0.991            & Scale:              & 0.21314   \\\\\n",
       "\\hline\n",
       "\\end{tabular}\n",
       "\\end{center}\n",
       "\n",
       "\\begin{center}\n",
       "\\begin{tabular}{lrrrrrr}\n",
       "\\hline\n",
       "      &  Coef. & Std.Err. &       t & P$> |$t$|$ &  [0.025 & 0.975]  \\\\\n",
       "\\hline\n",
       "x1    & 0.2151 &   0.0222 &  9.6787 &      0.0000 &  0.1704 & 0.2599  \\\\\n",
       "x2    & 0.1926 &   0.0969 &  1.9877 &      0.0528 & -0.0024 & 0.3877  \\\\\n",
       "x3    & 0.4290 &   0.0070 & 61.5281 &      0.0000 &  0.4150 & 0.4430  \\\\\n",
       "const & 5.0125 &   0.1389 & 36.0856 &      0.0000 &  4.7329 & 5.2921  \\\\\n",
       "\\hline\n",
       "\\end{tabular}\n",
       "\\end{center}\n",
       "\n",
       "\\begin{center}\n",
       "\\begin{tabular}{llll}\n",
       "\\hline\n",
       "Omnibus:       & 1.065 & Durbin-Watson:    & 2.507  \\\\\n",
       "Prob(Omnibus): & 0.587 & Jarque-Bera (JB): & 0.920  \\\\\n",
       "Skew:          & 0.062 & Prob(JB):         & 0.631  \\\\\n",
       "Kurtosis:      & 2.347 & Condition No.:    & 34     \\\\\n",
       "\\hline\n",
       "\\end{tabular}\n",
       "\\end{center}\n",
       "\\end{table}\n",
       "\\bigskip\n",
       "Notes: \\newline \n",
       "[1] Standard Errors assume that the covariance matrix of the errors is correctly specified."
      ],
      "text/plain": [
       "<class 'statsmodels.iolib.summary2.Summary'>\n",
       "\"\"\"\n",
       "                 Results: Ordinary least squares\n",
       "=================================================================\n",
       "Model:              OLS              Adj. R-squared:     0.990   \n",
       "Dependent Variable: y                AIC:                68.4347 \n",
       "Date:               2023-10-18 21:09 BIC:                76.0828 \n",
       "No. Observations:   50               Log-Likelihood:     -30.217 \n",
       "Df Model:           3                F-statistic:        1601.   \n",
       "Df Residuals:       46               Prob (F-statistic): 1.62e-46\n",
       "R-squared:          0.991            Scale:              0.21314 \n",
       "-------------------------------------------------------------------\n",
       "            Coef.    Std.Err.      t      P>|t|     [0.025   0.975]\n",
       "-------------------------------------------------------------------\n",
       "x1          0.2151     0.0222    9.6787   0.0000    0.1704   0.2599\n",
       "x2          0.1926     0.0969    1.9877   0.0528   -0.0024   0.3877\n",
       "x3          0.4290     0.0070   61.5281   0.0000    0.4150   0.4430\n",
       "const       5.0125     0.1389   36.0856   0.0000    4.7329   5.2921\n",
       "-----------------------------------------------------------------\n",
       "Omnibus:              1.065        Durbin-Watson:           2.507\n",
       "Prob(Omnibus):        0.587        Jarque-Bera (JB):        0.920\n",
       "Skew:                 0.062        Prob(JB):                0.631\n",
       "Kurtosis:             2.347        Condition No.:           34   \n",
       "=================================================================\n",
       "Notes:\n",
       "[1] Standard Errors assume that the covariance matrix of the\n",
       "errors is correctly specified.\n",
       "\"\"\""
      ]
     },
     "execution_count": 12,
     "metadata": {},
     "output_type": "execute_result"
    }
   ],
   "source": [
    "res.summary2()"
   ]
  },
  {
   "cell_type": "code",
   "execution_count": 13,
   "metadata": {},
   "outputs": [
    {
     "name": "stdout",
     "output_type": "stream",
     "text": [
      "parameters [0.21514165 0.19260505 0.42900944 5.01250538]\n",
      "Standard errors [0.0222284  0.09689938 0.00697258 0.13890614]\n",
      "Predicted values [15.73774132 14.88745184 14.07825112 13.30809543 12.57515163 11.87788909\n",
      " 11.21515654 10.58623983  9.9908978   9.42937433  8.90238616  8.41108687\n",
      "  7.95700901  7.54198722  7.16806609  6.83739762  6.55213319  6.31431558\n",
      "  6.12577652  5.98804467  5.902269    5.86916106  5.8889593   5.9614171\n",
      "  6.08581516  6.26099758  6.48542985  6.75727592  7.07449027  7.43492061\n",
      "  7.83641587  8.27693417  8.75464526  9.26802241  9.81591897 10.39762598\n",
      " 11.01290771 11.66201349 12.34566522 13.06502112 13.8216176  14.61729218\n",
      " 15.45409128 16.33416748 17.25967153 18.23264441 19.25491489 20.32800779\n",
      " 21.45306739 22.63080009]\n"
     ]
    }
   ],
   "source": [
    "print(\"parameters\", res.params)\n",
    "print('Standard errors', res.bse)\n",
    "print('Predicted values', res.predict())"
   ]
  },
  {
   "cell_type": "code",
   "execution_count": 14,
   "metadata": {},
   "outputs": [],
   "source": [
    "#Now draw a plot to compare the true relationship to OLS predictions. Confidence intereval s around the predictions are built using the wls_prediction_std\n",
    "\n",
    "pred_ols = res.get_prediction()\n",
    "iv_l = pred_ols.summary_frame()[\"obs_ci_lower\"]\n",
    "import matplotlib.pyplot as plt\n"
   ]
  },
  {
   "cell_type": "code",
   "execution_count": 15,
   "metadata": {},
   "outputs": [
    {
     "data": {
      "text/plain": [
       "<matplotlib.legend.Legend at 0x7fe7444abb90>"
      ]
     },
     "execution_count": 15,
     "metadata": {},
     "output_type": "execute_result"
    },
    {
     "data": {
      "image/png": "[encoded data removed]",
      "text/plain": [
       "<Figure size 800x600 with 1 Axes>"
      ]
     },
     "metadata": {},
     "output_type": "display_data"
    }
   ],
   "source": [
    "pred_ols=res.get_prediction()\n",
    "iv_l = pred_ols.summary_frame()['obs_ci_lower']\n",
    "iv_u = pred_ols.summary_frame()['obs_ci_upper']\n",
    "\n",
    "fig, ax = plt.subplots(figsize=(8,6))\n",
    "\n",
    "ax.plot(x,y,\"o\",label=\"data\")\n",
    "# plt.xlim((4,6))\n",
    "# plt.ylim((4,10))\n",
    "ax.plot(x,y_true,'b-',label=True)\n",
    "ax.plot(x,res.fittedvalues,\"r--\",label=\"OLS\")\n",
    "ax.plot(x, iv_u, \"r--\")\n",
    "ax.plot(x, iv_l, \"r--\")\n",
    "ax.legend(loc='best')"
   ]
  },
  {
   "cell_type": "markdown",
   "metadata": {},
   "source": [
    "OLS with dummy variables"
   ]
  },
  {
   "cell_type": "code",
   "execution_count": 16,
   "metadata": {},
   "outputs": [],
   "source": [
    "nsample = 50\n",
    "groups = np.zeros(nsample, int)\n",
    "groups[20:40] = 1\n",
    "groups[40:] = 2\n",
    "# dummy = (groups[:,None] == np.unique(groups)).astype(float)\n",
    "\n",
    "dummy = pd.get_dummies(groups).values\n",
    "x = np.linspace(0, 20, nsample)\n",
    "# drop reference category\n",
    "X = np.column_stack((x, dummy[:, 1:]))\n",
    "X = sm.add_constant(X, prepend=False)\n",
    "\n",
    "beta = [1.0, 3, -3, 10]\n",
    "y_true = np.dot(X, beta)\n",
    "e = np.random.normal(size=nsample)\n",
    "y = y_true + e"
   ]
  },
  {
   "cell_type": "code",
   "execution_count": 17,
   "metadata": {},
   "outputs": [
    {
     "data": {
      "text/plain": [
       "array([[ 0.        ,  0.        ,  0.        ,  1.        ],\n",
       "       [ 0.40816327,  0.        ,  0.        ,  1.        ],\n",
       "       [ 0.81632653,  0.        ,  0.        ,  1.        ],\n",
       "       [ 1.2244898 ,  0.        ,  0.        ,  1.        ],\n",
       "       [ 1.63265306,  0.        ,  0.        ,  1.        ],\n",
       "       [ 2.04081633,  0.        ,  0.        ,  1.        ],\n",
       "       [ 2.44897959,  0.        ,  0.        ,  1.        ],\n",
       "       [ 2.85714286,  0.        ,  0.        ,  1.        ],\n",
       "       [ 3.26530612,  0.        ,  0.        ,  1.        ],\n",
       "       [ 3.67346939,  0.        ,  0.        ,  1.        ],\n",
       "       [ 4.08163265,  0.        ,  0.        ,  1.        ],\n",
       "       [ 4.48979592,  0.        ,  0.        ,  1.        ],\n",
       "       [ 4.89795918,  0.        ,  0.        ,  1.        ],\n",
       "       [ 5.30612245,  0.        ,  0.        ,  1.        ],\n",
       "       [ 5.71428571,  0.        ,  0.        ,  1.        ],\n",
       "       [ 6.12244898,  0.        ,  0.        ,  1.        ],\n",
       "       [ 6.53061224,  0.        ,  0.        ,  1.        ],\n",
       "       [ 6.93877551,  0.        ,  0.        ,  1.        ],\n",
       "       [ 7.34693878,  0.        ,  0.        ,  1.        ],\n",
       "       [ 7.75510204,  0.        ,  0.        ,  1.        ],\n",
       "       [ 8.16326531,  1.        ,  0.        ,  1.        ],\n",
       "       [ 8.57142857,  1.        ,  0.        ,  1.        ],\n",
       "       [ 8.97959184,  1.        ,  0.        ,  1.        ],\n",
       "       [ 9.3877551 ,  1.        ,  0.        ,  1.        ],\n",
       "       [ 9.79591837,  1.        ,  0.        ,  1.        ],\n",
       "       [10.20408163,  1.        ,  0.        ,  1.        ],\n",
       "       [10.6122449 ,  1.        ,  0.        ,  1.        ],\n",
       "       [11.02040816,  1.        ,  0.        ,  1.        ],\n",
       "       [11.42857143,  1.        ,  0.        ,  1.        ],\n",
       "       [11.83673469,  1.        ,  0.        ,  1.        ],\n",
       "       [12.24489796,  1.        ,  0.        ,  1.        ],\n",
       "       [12.65306122,  1.        ,  0.        ,  1.        ],\n",
       "       [13.06122449,  1.        ,  0.        ,  1.        ],\n",
       "       [13.46938776,  1.        ,  0.        ,  1.        ],\n",
       "       [13.87755102,  1.        ,  0.        ,  1.        ],\n",
       "       [14.28571429,  1.        ,  0.        ,  1.        ],\n",
       "       [14.69387755,  1.        ,  0.        ,  1.        ],\n",
       "       [15.10204082,  1.        ,  0.        ,  1.        ],\n",
       "       [15.51020408,  1.        ,  0.        ,  1.        ],\n",
       "       [15.91836735,  1.        ,  0.        ,  1.        ],\n",
       "       [16.32653061,  0.        ,  1.        ,  1.        ],\n",
       "       [16.73469388,  0.        ,  1.        ,  1.        ],\n",
       "       [17.14285714,  0.        ,  1.        ,  1.        ],\n",
       "       [17.55102041,  0.        ,  1.        ,  1.        ],\n",
       "       [17.95918367,  0.        ,  1.        ,  1.        ],\n",
       "       [18.36734694,  0.        ,  1.        ,  1.        ],\n",
       "       [18.7755102 ,  0.        ,  1.        ,  1.        ],\n",
       "       [19.18367347,  0.        ,  1.        ,  1.        ],\n",
       "       [19.59183673,  0.        ,  1.        ,  1.        ],\n",
       "       [20.        ,  0.        ,  1.        ,  1.        ]])"
      ]
     },
     "execution_count": 17,
     "metadata": {},
     "output_type": "execute_result"
    }
   ],
   "source": [
    "X"
   ]
  },
  {
   "cell_type": "code",
   "execution_count": 18,
   "metadata": {},
   "outputs": [
    {
     "name": "stdout",
     "output_type": "stream",
     "text": [
      "                            OLS Regression Results                            \n",
      "==============================================================================\n",
      "Dep. Variable:                      y   R-squared:                       0.979\n",
      "Model:                            OLS   Adj. R-squared:                  0.978\n",
      "Method:                 Least Squares   F-statistic:                     726.1\n",
      "Date:                Wed, 18 Oct 2023   Prob (F-statistic):           9.87e-39\n",
      "Time:                        21:09:25   Log-Likelihood:                -63.751\n",
      "No. Observations:                  50   AIC:                             135.5\n",
      "Df Residuals:                      46   BIC:                             143.2\n",
      "Df Model:                           3                                         \n",
      "Covariance Type:            nonrobust                                         \n",
      "==============================================================================\n",
      "                 coef    std err          t      P>|t|      [0.025      0.975]\n",
      "------------------------------------------------------------------------------\n",
      "x1             0.9490      0.059     16.124      0.000       0.831       1.067\n",
      "x2             3.7153      0.559      6.648      0.000       2.590       4.840\n",
      "x3            -2.2380      0.911     -2.458      0.018      -4.071      -0.405\n",
      "const          9.9327      0.305     32.600      0.000       9.319      10.546\n",
      "==============================================================================\n",
      "Omnibus:                        0.381   Durbin-Watson:                   2.389\n",
      "Prob(Omnibus):                  0.827   Jarque-Bera (JB):                0.540\n",
      "Skew:                           0.010   Prob(JB):                        0.763\n",
      "Kurtosis:                       2.491   Cond. No.                         96.3\n",
      "==============================================================================\n",
      "\n",
      "Notes:\n",
      "[1] Standard Errors assume that the covariance matrix of the errors is correctly specified.\n"
     ]
    }
   ],
   "source": [
    "res2 = sm.OLS(y,X).fit()\n",
    "print(res2.summary())"
   ]
  },
  {
   "cell_type": "code",
   "execution_count": 22,
   "metadata": {},
   "outputs": [
    {
     "data": {
      "text/plain": [
       "[<matplotlib.lines.Line2D at 0x7fe741e070d0>]"
      ]
     },
     "execution_count": 22,
     "metadata": {},
     "output_type": "execute_result"
    },
    {
     "data": {
      "image/png": "[encoded data removed]",
      "text/plain": [
       "<Figure size 1000x800 with 1 Axes>"
      ]
     },
     "metadata": {},
     "output_type": "display_data"
    }
   ],
   "source": [
    "pred_ols2 = res2.get_prediction()\n",
    "iv_1 = pred_ols2.summary_frame()['obs_ci_lower']\n",
    "iv_1 = pred_ols2.summary_frame()['obs_ci_upper']\n",
    "\n",
    "#%%\n",
    "# plotting\n",
    "fig, ax = plt.subplots(1, 1, figsize=(10, 8))\n",
    "ax.plot(x, y, 'o', label=\"Data\")\n",
    "ax.plot(x, y_true, \"b-\", label=\"True\")"
   ]
  },
  {
   "cell_type": "code",
   "execution_count": null,
   "metadata": {},
   "outputs": [],
   "source": []
  },
  {
   "cell_type": "code",
   "execution_count": null,
   "metadata": {},
   "outputs": [],
   "source": []
  },
  {
   "cell_type": "code",
   "execution_count": null,
   "metadata": {},
   "outputs": [],
   "source": []
  },
  {
   "cell_type": "code",
   "execution_count": null,
   "metadata": {},
   "outputs": [],
   "source": []
  },
  {
   "cell_type": "markdown",
   "metadata": {},
   "source": [
    "## Joint hypothesis test"
   ]
  },
  {
   "cell_type": "code",
   "execution_count": 19,
   "metadata": {},
   "outputs": [],
   "source": [
    "#F-test"
   ]
  },
  {
   "cell_type": "code",
   "execution_count": 25,
   "metadata": {},
   "outputs": [
    {
     "name": "stdout",
     "output_type": "stream",
     "text": [
      "[[0 1 0 0]\n",
      " [0 0 1 0]]\n",
      "<F test: F=166.64902533800557, p=8.450376939358393e-22, df_denom=46, df_num=2>\n"
     ]
    }
   ],
   "source": [
    "#we want to check whether both the coeffs of the dummy variables are equal to zero\n",
    "# we perform F-test for that\n",
    "\n",
    "R = [[0, 1, 0, 0], [0, 0, 1, 0]]\n",
    "print(np.array(R))\n",
    "print(res2.f_test(R))\n",
    "\n",
    "\n",
    "#p-value well over 0.05 rejects the null hypothesis"
   ]
  },
  {
   "cell_type": "code",
   "execution_count": 26,
   "metadata": {},
   "outputs": [
    {
     "name": "stdout",
     "output_type": "stream",
     "text": [
      "<F test: F=935.903687640832, p=5.481702805173599e-38, df_denom=46, df_num=2>\n"
     ]
    }
   ],
   "source": [
    "#also can use formula like string syntax\n",
    "\n",
    "print(res2.f_test(\"x2=x1=0\"))"
   ]
  },
  {
   "cell_type": "code",
   "execution_count": 27,
   "metadata": {},
   "outputs": [],
   "source": [
    "beta = [1.0, 0.3, -0.0, 10]\n",
    "y_true = np.dot(X, beta)\n",
    "y = y_true + np.random.normal(size=nsample)\n",
    "\n",
    "res3 = sm.OLS(y, X).fit()\n"
   ]
  },
  {
   "cell_type": "code",
   "execution_count": 35,
   "metadata": {},
   "outputs": [
    {
     "name": "stdout",
     "output_type": "stream",
     "text": [
      "<F test: F=4.012791685396595, p=0.024753831540982464, df_denom=46, df_num=2>\n"
     ]
    }
   ],
   "source": [
    "print(res3.f_test('x2 = x3 = 2'))"
   ]
  },
  {
   "cell_type": "code",
   "execution_count": 38,
   "metadata": {},
   "outputs": [
    {
     "name": "stdout",
     "output_type": "stream",
     "text": [
      "<F test: F=3.1028523355802347, p=0.054439859703947366, df_denom=46, df_num=2>\n"
     ]
    }
   ],
   "source": [
    "print(res3.f_test(R))"
   ]
  },
  {
   "cell_type": "code",
   "execution_count": 39,
   "metadata": {},
   "outputs": [
    {
     "data": {
      "text/plain": [
       "[[0, 1, 0, 0], [0, 0, 1, 0]]"
      ]
     },
     "execution_count": 39,
     "metadata": {},
     "output_type": "execute_result"
    }
   ],
   "source": []
  },
  {
   "cell_type": "markdown",
   "metadata": {},
   "source": [
    "Checking Multicollinearity"
   ]
  },
  {
   "cell_type": "code",
   "execution_count": 45,
   "metadata": {},
   "outputs": [],
   "source": [
    "from statsmodels.datasets.longley import load_pandas\n",
    "y = load_pandas().endog\n",
    "X = load_pandas().exog"
   ]
  },
  {
   "cell_type": "code",
   "execution_count": 46,
   "metadata": {},
   "outputs": [],
   "source": [
    "X = sm.add_constant(X)"
   ]
  },
  {
   "cell_type": "code",
   "execution_count": 47,
   "metadata": {},
   "outputs": [
    {
     "data": {
      "text/html": [
       "<div>\n",
       "<style scoped>\n",
       "    .dataframe tbody tr th:only-of-type {\n",
       "        vertical-align: middle;\n",
       "    }\n",
       "\n",
       "    .dataframe tbody tr th {\n",
       "        vertical-align: top;\n",
       "    }\n",
       "\n",
       "    .dataframe thead th {\n",
       "        text-align: right;\n",
       "    }\n",
       "</style>\n",
       "<table border=\"1\" class=\"dataframe\">\n",
       "  <thead>\n",
       "    <tr style=\"text-align: right;\">\n",
       "      <th></th>\n",
       "      <th>const</th>\n",
       "      <th>GNPDEFL</th>\n",
       "      <th>GNP</th>\n",
       "      <th>UNEMP</th>\n",
       "      <th>ARMED</th>\n",
       "      <th>POP</th>\n",
       "      <th>YEAR</th>\n",
       "    </tr>\n",
       "  </thead>\n",
       "  <tbody>\n",
       "    <tr>\n",
       "      <th>0</th>\n",
       "      <td>1.0</td>\n",
       "      <td>83.0</td>\n",
       "      <td>234289.0</td>\n",
       "      <td>2356.0</td>\n",
       "      <td>1590.0</td>\n",
       "      <td>107608.0</td>\n",
       "      <td>1947.0</td>\n",
       "    </tr>\n",
       "    <tr>\n",
       "      <th>1</th>\n",
       "      <td>1.0</td>\n",
       "      <td>88.5</td>\n",
       "      <td>259426.0</td>\n",
       "      <td>2325.0</td>\n",
       "      <td>1456.0</td>\n",
       "      <td>108632.0</td>\n",
       "      <td>1948.0</td>\n",
       "    </tr>\n",
       "    <tr>\n",
       "      <th>2</th>\n",
       "      <td>1.0</td>\n",
       "      <td>88.2</td>\n",
       "      <td>258054.0</td>\n",
       "      <td>3682.0</td>\n",
       "      <td>1616.0</td>\n",
       "      <td>109773.0</td>\n",
       "      <td>1949.0</td>\n",
       "    </tr>\n",
       "    <tr>\n",
       "      <th>3</th>\n",
       "      <td>1.0</td>\n",
       "      <td>89.5</td>\n",
       "      <td>284599.0</td>\n",
       "      <td>3351.0</td>\n",
       "      <td>1650.0</td>\n",
       "      <td>110929.0</td>\n",
       "      <td>1950.0</td>\n",
       "    </tr>\n",
       "    <tr>\n",
       "      <th>4</th>\n",
       "      <td>1.0</td>\n",
       "      <td>96.2</td>\n",
       "      <td>328975.0</td>\n",
       "      <td>2099.0</td>\n",
       "      <td>3099.0</td>\n",
       "      <td>112075.0</td>\n",
       "      <td>1951.0</td>\n",
       "    </tr>\n",
       "    <tr>\n",
       "      <th>5</th>\n",
       "      <td>1.0</td>\n",
       "      <td>98.1</td>\n",
       "      <td>346999.0</td>\n",
       "      <td>1932.0</td>\n",
       "      <td>3594.0</td>\n",
       "      <td>113270.0</td>\n",
       "      <td>1952.0</td>\n",
       "    </tr>\n",
       "    <tr>\n",
       "      <th>6</th>\n",
       "      <td>1.0</td>\n",
       "      <td>99.0</td>\n",
       "      <td>365385.0</td>\n",
       "      <td>1870.0</td>\n",
       "      <td>3547.0</td>\n",
       "      <td>115094.0</td>\n",
       "      <td>1953.0</td>\n",
       "    </tr>\n",
       "    <tr>\n",
       "      <th>7</th>\n",
       "      <td>1.0</td>\n",
       "      <td>100.0</td>\n",
       "      <td>363112.0</td>\n",
       "      <td>3578.0</td>\n",
       "      <td>3350.0</td>\n",
       "      <td>116219.0</td>\n",
       "      <td>1954.0</td>\n",
       "    </tr>\n",
       "    <tr>\n",
       "      <th>8</th>\n",
       "      <td>1.0</td>\n",
       "      <td>101.2</td>\n",
       "      <td>397469.0</td>\n",
       "      <td>2904.0</td>\n",
       "      <td>3048.0</td>\n",
       "      <td>117388.0</td>\n",
       "      <td>1955.0</td>\n",
       "    </tr>\n",
       "    <tr>\n",
       "      <th>9</th>\n",
       "      <td>1.0</td>\n",
       "      <td>104.6</td>\n",
       "      <td>419180.0</td>\n",
       "      <td>2822.0</td>\n",
       "      <td>2857.0</td>\n",
       "      <td>118734.0</td>\n",
       "      <td>1956.0</td>\n",
       "    </tr>\n",
       "    <tr>\n",
       "      <th>10</th>\n",
       "      <td>1.0</td>\n",
       "      <td>108.4</td>\n",
       "      <td>442769.0</td>\n",
       "      <td>2936.0</td>\n",
       "      <td>2798.0</td>\n",
       "      <td>120445.0</td>\n",
       "      <td>1957.0</td>\n",
       "    </tr>\n",
       "    <tr>\n",
       "      <th>11</th>\n",
       "      <td>1.0</td>\n",
       "      <td>110.8</td>\n",
       "      <td>444546.0</td>\n",
       "      <td>4681.0</td>\n",
       "      <td>2637.0</td>\n",
       "      <td>121950.0</td>\n",
       "      <td>1958.0</td>\n",
       "    </tr>\n",
       "    <tr>\n",
       "      <th>12</th>\n",
       "      <td>1.0</td>\n",
       "      <td>112.6</td>\n",
       "      <td>482704.0</td>\n",
       "      <td>3813.0</td>\n",
       "      <td>2552.0</td>\n",
       "      <td>123366.0</td>\n",
       "      <td>1959.0</td>\n",
       "    </tr>\n",
       "    <tr>\n",
       "      <th>13</th>\n",
       "      <td>1.0</td>\n",
       "      <td>114.2</td>\n",
       "      <td>502601.0</td>\n",
       "      <td>3931.0</td>\n",
       "      <td>2514.0</td>\n",
       "      <td>125368.0</td>\n",
       "      <td>1960.0</td>\n",
       "    </tr>\n",
       "    <tr>\n",
       "      <th>14</th>\n",
       "      <td>1.0</td>\n",
       "      <td>115.7</td>\n",
       "      <td>518173.0</td>\n",
       "      <td>4806.0</td>\n",
       "      <td>2572.0</td>\n",
       "      <td>127852.0</td>\n",
       "      <td>1961.0</td>\n",
       "    </tr>\n",
       "    <tr>\n",
       "      <th>15</th>\n",
       "      <td>1.0</td>\n",
       "      <td>116.9</td>\n",
       "      <td>554894.0</td>\n",
       "      <td>4007.0</td>\n",
       "      <td>2827.0</td>\n",
       "      <td>130081.0</td>\n",
       "      <td>1962.0</td>\n",
       "    </tr>\n",
       "  </tbody>\n",
       "</table>\n",
       "</div>"
      ],
      "text/plain": [
       "    const  GNPDEFL       GNP   UNEMP   ARMED       POP    YEAR\n",
       "0     1.0     83.0  234289.0  2356.0  1590.0  107608.0  1947.0\n",
       "1     1.0     88.5  259426.0  2325.0  1456.0  108632.0  1948.0\n",
       "2     1.0     88.2  258054.0  3682.0  1616.0  109773.0  1949.0\n",
       "3     1.0     89.5  284599.0  3351.0  1650.0  110929.0  1950.0\n",
       "4     1.0     96.2  328975.0  2099.0  3099.0  112075.0  1951.0\n",
       "5     1.0     98.1  346999.0  1932.0  3594.0  113270.0  1952.0\n",
       "6     1.0     99.0  365385.0  1870.0  3547.0  115094.0  1953.0\n",
       "7     1.0    100.0  363112.0  3578.0  3350.0  116219.0  1954.0\n",
       "8     1.0    101.2  397469.0  2904.0  3048.0  117388.0  1955.0\n",
       "9     1.0    104.6  419180.0  2822.0  2857.0  118734.0  1956.0\n",
       "10    1.0    108.4  442769.0  2936.0  2798.0  120445.0  1957.0\n",
       "11    1.0    110.8  444546.0  4681.0  2637.0  121950.0  1958.0\n",
       "12    1.0    112.6  482704.0  3813.0  2552.0  123366.0  1959.0\n",
       "13    1.0    114.2  502601.0  3931.0  2514.0  125368.0  1960.0\n",
       "14    1.0    115.7  518173.0  4806.0  2572.0  127852.0  1961.0\n",
       "15    1.0    116.9  554894.0  4007.0  2827.0  130081.0  1962.0"
      ]
     },
     "execution_count": 47,
     "metadata": {},
     "output_type": "execute_result"
    }
   ],
   "source": [
    "X"
   ]
  },
  {
   "cell_type": "code",
   "execution_count": 50,
   "metadata": {},
   "outputs": [],
   "source": [
    "#fit and summarize\n",
    "import torch\n",
    "ols_model = sm.OLS(y,X)\n",
    "ols_results = ols_model.fit()"
   ]
  },
  {
   "cell_type": "code",
   "execution_count": 51,
   "metadata": {},
   "outputs": [
    {
     "name": "stdout",
     "output_type": "stream",
     "text": [
      "                            OLS Regression Results                            \n",
      "==============================================================================\n",
      "Dep. Variable:                 TOTEMP   R-squared:                       0.995\n",
      "Model:                            OLS   Adj. R-squared:                  0.992\n",
      "Method:                 Least Squares   F-statistic:                     330.3\n",
      "Date:                Wed, 18 Oct 2023   Prob (F-statistic):           4.98e-10\n",
      "Time:                        23:55:31   Log-Likelihood:                -109.62\n",
      "No. Observations:                  16   AIC:                             233.2\n",
      "Df Residuals:                       9   BIC:                             238.6\n",
      "Df Model:                           6                                         \n",
      "Covariance Type:            nonrobust                                         \n",
      "==============================================================================\n",
      "                 coef    std err          t      P>|t|      [0.025      0.975]\n",
      "------------------------------------------------------------------------------\n",
      "const      -3.482e+06    8.9e+05     -3.911      0.004    -5.5e+06   -1.47e+06\n",
      "GNPDEFL       15.0619     84.915      0.177      0.863    -177.029     207.153\n",
      "GNP           -0.0358      0.033     -1.070      0.313      -0.112       0.040\n",
      "UNEMP         -2.0202      0.488     -4.136      0.003      -3.125      -0.915\n",
      "ARMED         -1.0332      0.214     -4.822      0.001      -1.518      -0.549\n",
      "POP           -0.0511      0.226     -0.226      0.826      -0.563       0.460\n",
      "YEAR        1829.1515    455.478      4.016      0.003     798.788    2859.515\n",
      "==============================================================================\n",
      "Omnibus:                        0.749   Durbin-Watson:                   2.559\n",
      "Prob(Omnibus):                  0.688   Jarque-Bera (JB):                0.684\n",
      "Skew:                           0.420   Prob(JB):                        0.710\n",
      "Kurtosis:                       2.434   Cond. No.                     4.86e+09\n",
      "==============================================================================\n",
      "\n",
      "Notes:\n",
      "[1] Standard Errors assume that the covariance matrix of the errors is correctly specified.\n",
      "[2] The condition number is large, 4.86e+09. This might indicate that there are\n",
      "strong multicollinearity or other numerical problems.\n"
     ]
    },
    {
     "name": "stderr",
     "output_type": "stream",
     "text": [
      "/home/susearc/Macos/py3.11/lib/python3.11/site-packages/scipy/stats/_stats_py.py:1806: UserWarning: kurtosistest only valid for n>=20 ... continuing anyway, n=16\n",
      "  warnings.warn(\"kurtosistest only valid for n>=20 ... continuing \"\n"
     ]
    }
   ],
   "source": [
    "print(ols_results.summary())"
   ]
  },
  {
   "cell_type": "markdown",
   "metadata": {},
   "source": [
    "Condition number "
   ]
  },
  {
   "cell_type": "code",
   "execution_count": 55,
   "metadata": {},
   "outputs": [],
   "source": [
    "## One way to assess multicollinearity is to compute the condition numbver. Values over 20 are worrisome . The first step is to normalize the independent variable to have unti length:\n",
    "\n",
    "norm_x = X.values\n",
    "for i, name in enumerate(X):\n",
    "    if name == 'const':\n",
    "        continue\n",
    "    norm_x[:,i] = X[name]/np.linalg.norm(X[name])\n",
    "\n",
    "norm_xtx = np.dot(norm_x.T, norm_x)"
   ]
  },
  {
   "cell_type": "code",
   "execution_count": 56,
   "metadata": {},
   "outputs": [
    {
     "data": {
      "text/plain": [
       "array([[16.        ,  3.97904612,  3.8821806 ,  3.84850082,  3.87270361,\n",
       "         3.99343629,  3.99998887],\n",
       "       [ 3.97904612,  1.        ,  0.98988128,  0.97438017,  0.97499386,\n",
       "         0.99886091,  0.99499773],\n",
       "       [ 3.8821806 ,  0.98988128,  1.        ,  0.97347171,  0.96657635,\n",
       "         0.98262563,  0.97110798],\n",
       "       [ 3.84850082,  0.97438017,  0.97347171,  1.        ,  0.91940178,\n",
       "         0.97126392,  0.96255219],\n",
       "       [ 3.87270361,  0.97499386,  0.96657635,  0.91940178,  1.        ,\n",
       "         0.97180982,  0.9684195 ],\n",
       "       [ 3.99343629,  0.99886091,  0.98262563,  0.97126392,  0.97180982,\n",
       "         1.        ,  0.99849054],\n",
       "       [ 3.99998887,  0.99499773,  0.97110798,  0.96255219,  0.9684195 ,\n",
       "         0.99849054,  1.        ]])"
      ]
     },
     "execution_count": 56,
     "metadata": {},
     "output_type": "execute_result"
    }
   ],
   "source": [
    "norm_xtx"
   ]
  },
  {
   "cell_type": "code",
   "execution_count": 58,
   "metadata": {},
   "outputs": [
    {
     "name": "stdout",
     "output_type": "stream",
     "text": [
      "56240.86864160562\n"
     ]
    }
   ],
   "source": [
    "## Then we take the square root fo the ratio of the biggest to the smalles eigen values\n",
    "\n",
    "eigs = np.linalg.eigvals(norm_xtx)\n",
    "condition_number = np.sqrt(eigs.max()/eigs.min())\n",
    "print(condition_number)"
   ]
  },
  {
   "cell_type": "code",
   "execution_count": null,
   "metadata": {},
   "outputs": [],
   "source": []
  }
 ],
 "metadata": {
  "kernelspec": {
   "display_name": "Python 3",
   "language": "python",
   "name": "python3"
  },
  "language_info": {
   "codemirror_mode": {
    "name": "ipython",
    "version": 3
   },
   "file_extension": ".py",
   "mimetype": "text/x-python",
   "name": "python",
   "nbconvert_exporter": "python",
   "pygments_lexer": "ipython3",
   "version": "3.11.6"
  }
 },
 "nbformat": 4,
 "nbformat_minor": 2
}
