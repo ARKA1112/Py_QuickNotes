{
 "cells": [
  {
   "cell_type": "markdown",
   "metadata": {},
   "source": [
    "## Performing Linear Regression(OLS)"
   ]
  },
  {
   "cell_type": "code",
   "execution_count": 1,
   "metadata": {},
   "outputs": [],
   "source": [
    "import statsmodels.api as sm\n",
    "import numpy as np\n",
    "import pandas as pd\n",
    "%matplotlib inline\n",
    "\n",
    "np.random.seed(33)"
   ]
  },
  {
   "cell_type": "markdown",
   "metadata": {},
   "source": [
    "#### OLS estimation with artificial data"
   ]
  },
  {
   "cell_type": "code",
   "execution_count": 2,
   "metadata": {},
   "outputs": [],
   "source": [
    "n_sample=1000\n",
    "X=np.linspace(0,10,1000)\n",
    "X=np.column_stack((X,X**2))\n",
    "beta = np.array([1,0.1,10])   #Here beta is the coefficients of x and x^2\n",
    "\n",
    "\n",
    "\n",
    "e=np.random.normal(size=n_sample)"
   ]
  },
  {
   "cell_type": "code",
   "execution_count": 3,
   "metadata": {},
   "outputs": [
    {
     "data": {
      "text/plain": [
       "(1000,)"
      ]
     },
     "execution_count": 3,
     "metadata": {},
     "output_type": "execute_result"
    }
   ],
   "source": [
    "#Our model needs an intercept so we add a column of 1s:\n",
    "\n",
    "X = sm.add_constant(X)\n",
    "y = np.dot(X,beta) + e\n",
    "np.shape(y)\n",
    "#np.shape(beta)\n"
   ]
  },
  {
   "cell_type": "markdown",
   "metadata": {},
   "source": [
    "### Fit and summary"
   ]
  },
  {
   "cell_type": "code",
   "execution_count": 4,
   "metadata": {},
   "outputs": [
    {
     "name": "stdout",
     "output_type": "stream",
     "text": [
      "                            OLS Regression Results                            \n",
      "==============================================================================\n",
      "Dep. Variable:                      y   R-squared:                       1.000\n",
      "Model:                            OLS   Adj. R-squared:                  1.000\n",
      "Method:                 Least Squares   F-statistic:                 4.768e+07\n",
      "Date:                Sun, 15 Oct 2023   Prob (F-statistic):               0.00\n",
      "Time:                        23:58:14   Log-Likelihood:                -1384.3\n",
      "No. Observations:                1000   AIC:                             2775.\n",
      "Df Residuals:                     997   BIC:                             2789.\n",
      "Df Model:                           2                                         \n",
      "Covariance Type:            nonrobust                                         \n",
      "==============================================================================\n",
      "                 coef    std err          t      P>|t|      [0.025      0.975]\n",
      "------------------------------------------------------------------------------\n",
      "const          0.9326      0.092     10.182      0.000       0.753       1.112\n",
      "x1             0.1239      0.042      2.928      0.003       0.041       0.207\n",
      "x2             9.9982      0.004   2440.775      0.000       9.990      10.006\n",
      "==============================================================================\n",
      "Omnibus:                        0.694   Durbin-Watson:                   1.923\n",
      "Prob(Omnibus):                  0.707   Jarque-Bera (JB):                0.655\n",
      "Skew:                          -0.062   Prob(JB):                        0.721\n",
      "Kurtosis:                       3.012   Cond. No.                         146.\n",
      "==============================================================================\n",
      "\n",
      "Notes:\n",
      "[1] Standard Errors assume that the covariance matrix of the errors is correctly specified.\n"
     ]
    }
   ],
   "source": [
    "model =  sm.OLS(y,X)\n",
    "results=model.fit()\n",
    "print(results.summary())"
   ]
  },
  {
   "cell_type": "code",
   "execution_count": 5,
   "metadata": {},
   "outputs": [
    {
     "data": {
      "text/plain": [
       "['HC0_se',\n",
       " 'HC1_se',\n",
       " 'HC2_se',\n",
       " 'HC3_se',\n",
       " '_HCCM',\n",
       " '__class__',\n",
       " '__delattr__',\n",
       " '__dict__',\n",
       " '__dir__',\n",
       " '__doc__',\n",
       " '__eq__',\n",
       " '__format__',\n",
       " '__ge__',\n",
       " '__getattribute__',\n",
       " '__getstate__',\n",
       " '__gt__',\n",
       " '__hash__',\n",
       " '__init__',\n",
       " '__init_subclass__',\n",
       " '__le__',\n",
       " '__lt__',\n",
       " '__module__',\n",
       " '__ne__',\n",
       " '__new__',\n",
       " '__reduce__',\n",
       " '__reduce_ex__',\n",
       " '__repr__',\n",
       " '__setattr__',\n",
       " '__sizeof__',\n",
       " '__str__',\n",
       " '__subclasshook__',\n",
       " '__weakref__',\n",
       " '_abat_diagonal',\n",
       " '_cache',\n",
       " '_data_attr',\n",
       " '_data_in_cache',\n",
       " '_get_robustcov_results',\n",
       " '_get_wald_nonlinear',\n",
       " '_is_nested',\n",
       " '_transform_predict_exog',\n",
       " '_use_t',\n",
       " '_wexog_singular_values',\n",
       " 'aic',\n",
       " 'bic',\n",
       " 'bse',\n",
       " 'centered_tss',\n",
       " 'compare_f_test',\n",
       " 'compare_lm_test',\n",
       " 'compare_lr_test',\n",
       " 'condition_number',\n",
       " 'conf_int',\n",
       " 'conf_int_el',\n",
       " 'cov_HC0',\n",
       " 'cov_HC1',\n",
       " 'cov_HC2',\n",
       " 'cov_HC3',\n",
       " 'cov_kwds',\n",
       " 'cov_params',\n",
       " 'cov_type',\n",
       " 'df_model',\n",
       " 'df_resid',\n",
       " 'diagn',\n",
       " 'eigenvals',\n",
       " 'el_test',\n",
       " 'ess',\n",
       " 'f_pvalue',\n",
       " 'f_test',\n",
       " 'fittedvalues',\n",
       " 'fvalue',\n",
       " 'get_influence',\n",
       " 'get_prediction',\n",
       " 'get_robustcov_results',\n",
       " 'info_criteria',\n",
       " 'initialize',\n",
       " 'k_constant',\n",
       " 'llf',\n",
       " 'load',\n",
       " 'model',\n",
       " 'mse_model',\n",
       " 'mse_resid',\n",
       " 'mse_total',\n",
       " 'nobs',\n",
       " 'normalized_cov_params',\n",
       " 'outlier_test',\n",
       " 'params',\n",
       " 'predict',\n",
       " 'pvalues',\n",
       " 'remove_data',\n",
       " 'resid',\n",
       " 'resid_pearson',\n",
       " 'rsquared',\n",
       " 'rsquared_adj',\n",
       " 'save',\n",
       " 'scale',\n",
       " 'ssr',\n",
       " 'summary',\n",
       " 'summary2',\n",
       " 't_test',\n",
       " 't_test_pairwise',\n",
       " 'tvalues',\n",
       " 'uncentered_tss',\n",
       " 'use_t',\n",
       " 'wald_test',\n",
       " 'wald_test_terms',\n",
       " 'wresid']"
      ]
     },
     "execution_count": 5,
     "metadata": {},
     "output_type": "execute_result"
    }
   ],
   "source": [
    "dir(results)"
   ]
  },
  {
   "cell_type": "code",
   "execution_count": 6,
   "metadata": {},
   "outputs": [
    {
     "name": "stdout",
     "output_type": "stream",
     "text": [
      "Parameters:  [0.93259525 0.12386822 9.99820614]\n",
      "R2:  0.9999895450933209\n"
     ]
    }
   ],
   "source": [
    "print('Parameters: ', results.params)\n",
    "print('R2: ', results.rsquared)"
   ]
  },
  {
   "cell_type": "markdown",
   "metadata": {},
   "source": [
    "### OLS non-Linear curve but linear in parameters"
   ]
  },
  {
   "cell_type": "code",
   "execution_count": 7,
   "metadata": {},
   "outputs": [],
   "source": [
    "nsample = 50\n",
    "\n",
    "sig=0.5\n",
    "x = np.linspace(0,11, nsample)\n",
    "X = np.column_stack((x, np.sin(x), (x-5)**2, np.ones(nsample)))\n",
    "beta = np.array([0.22,0.3,0.43,5.0])\n",
    "y_true=np.dot(X,beta)"
   ]
  },
  {
   "cell_type": "code",
   "execution_count": 8,
   "metadata": {},
   "outputs": [
    {
     "data": {
      "text/plain": [
       "array([15.75      , 14.92253447, 14.13505776, 13.38438662, 12.66766574,\n",
       "       11.98251102, 11.32712925, 10.7004081 , 10.10197192,  9.53220059,\n",
       "        8.99221048,  8.48379841,  8.00935147,  7.57172727,  7.17411045,\n",
       "        6.81985294,  6.51230572,  6.25465062,  6.04974069,  5.899957  ,\n",
       "        5.80708914,  5.77224544,  5.79579729,  5.87736058,  6.01581492,\n",
       "        6.20935987,  6.45560533,  6.75169145,  7.09443216,  7.48047507,\n",
       "        7.90646971,  8.36923563,  8.86592207,  9.39415098,  9.95213639,\n",
       "       10.53877401, 11.15369667, 11.79729272, 12.47068659, 13.1756823 ,\n",
       "       13.91467298, 14.69052071, 15.50641298, 16.36570264, 17.27173967,\n",
       "       18.22770309, 19.23644138, 20.30032956, 21.42115   , 22.60000294])"
      ]
     },
     "execution_count": 8,
     "metadata": {},
     "output_type": "execute_result"
    }
   ],
   "source": [
    "y_true"
   ]
  },
  {
   "cell_type": "code",
   "execution_count": 9,
   "metadata": {},
   "outputs": [],
   "source": [
    "y = y_true + sig*np.random.normal(size=nsample)"
   ]
  },
  {
   "cell_type": "code",
   "execution_count": 10,
   "metadata": {},
   "outputs": [
    {
     "name": "stdout",
     "output_type": "stream",
     "text": [
      "\u001b[0;31mDocstring:\u001b[0m\n",
      "normal(loc=0.0, scale=1.0, size=None)\n",
      "\n",
      "Draw random samples from a normal (Gaussian) distribution.\n",
      "\n",
      "The probability density function of the normal distribution, first\n",
      "derived by De Moivre and 200 years later by both Gauss and Laplace\n",
      "independently [2]_, is often called the bell curve because of\n",
      "its characteristic shape (see the example below).\n",
      "\n",
      "The normal distributions occurs often in nature.  For example, it\n",
      "describes the commonly occurring distribution of samples influenced\n",
      "by a large number of tiny, random disturbances, each with its own\n",
      "unique distribution [2]_.\n",
      "\n",
      ".. note::\n",
      "    New code should use the `~numpy.random.Generator.normal`\n",
      "    method of a `~numpy.random.Generator` instance instead;\n",
      "    please see the :ref:`random-quick-start`.\n",
      "\n",
      "Parameters\n",
      "----------\n",
      "loc : float or array_like of floats\n",
      "    Mean (\"centre\") of the distribution.\n",
      "scale : float or array_like of floats\n",
      "    Standard deviation (spread or \"width\") of the distribution. Must be\n",
      "    non-negative.\n",
      "size : int or tuple of ints, optional\n",
      "    Output shape.  If the given shape is, e.g., ``(m, n, k)``, then\n",
      "    ``m * n * k`` samples are drawn.  If size is ``None`` (default),\n",
      "    a single value is returned if ``loc`` and ``scale`` are both scalars.\n",
      "    Otherwise, ``np.broadcast(loc, scale).size`` samples are drawn.\n",
      "\n",
      "Returns\n",
      "-------\n",
      "out : ndarray or scalar\n",
      "    Drawn samples from the parameterized normal distribution.\n",
      "\n",
      "See Also\n",
      "--------\n",
      "scipy.stats.norm : probability density function, distribution or\n",
      "    cumulative density function, etc.\n",
      "random.Generator.normal: which should be used for new code.\n",
      "\n",
      "Notes\n",
      "-----\n",
      "The probability density for the Gaussian distribution is\n",
      "\n",
      ".. math:: p(x) = \\frac{1}{\\sqrt{ 2 \\pi \\sigma^2 }}\n",
      "                 e^{ - \\frac{ (x - \\mu)^2 } {2 \\sigma^2} },\n",
      "\n",
      "where :math:`\\mu` is the mean and :math:`\\sigma` the standard\n",
      "deviation. The square of the standard deviation, :math:`\\sigma^2`,\n",
      "is called the variance.\n",
      "\n",
      "The function has its peak at the mean, and its \"spread\" increases with\n",
      "the standard deviation (the function reaches 0.607 times its maximum at\n",
      ":math:`x + \\sigma` and :math:`x - \\sigma` [2]_).  This implies that\n",
      "normal is more likely to return samples lying close to the mean, rather\n",
      "than those far away.\n",
      "\n",
      "References\n",
      "----------\n",
      ".. [1] Wikipedia, \"Normal distribution\",\n",
      "       https://en.wikipedia.org/wiki/Normal_distribution\n",
      ".. [2] P. R. Peebles Jr., \"Central Limit Theorem\" in \"Probability,\n",
      "       Random Variables and Random Signal Principles\", 4th ed., 2001,\n",
      "       pp. 51, 51, 125.\n",
      "\n",
      "Examples\n",
      "--------\n",
      "Draw samples from the distribution:\n",
      "\n",
      ">>> mu, sigma = 0, 0.1 # mean and standard deviation\n",
      ">>> s = np.random.normal(mu, sigma, 1000)\n",
      "\n",
      "Verify the mean and the variance:\n",
      "\n",
      ">>> abs(mu - np.mean(s))\n",
      "0.0  # may vary\n",
      "\n",
      ">>> abs(sigma - np.std(s, ddof=1))\n",
      "0.1  # may vary\n",
      "\n",
      "Display the histogram of the samples, along with\n",
      "the probability density function:\n",
      "\n",
      ">>> import matplotlib.pyplot as plt\n",
      ">>> count, bins, ignored = plt.hist(s, 30, density=True)\n",
      ">>> plt.plot(bins, 1/(sigma * np.sqrt(2 * np.pi)) *\n",
      "...                np.exp( - (bins - mu)**2 / (2 * sigma**2) ),\n",
      "...          linewidth=2, color='r')\n",
      ">>> plt.show()\n",
      "\n",
      "Two-by-four array of samples from the normal distribution with\n",
      "mean 3 and standard deviation 2.5:\n",
      "\n",
      ">>> np.random.normal(3, 2.5, size=(2, 4))\n",
      "array([[-4.49401501,  4.00950034, -1.81814867,  7.29718677],   # random\n",
      "       [ 0.39924804,  4.68456316,  4.99394529,  4.84057254]])  # random\n",
      "\u001b[0;31mType:\u001b[0m      builtin_function_or_method"
     ]
    }
   ],
   "source": [
    "np.random.normal?\n"
   ]
  },
  {
   "cell_type": "code",
   "execution_count": 11,
   "metadata": {},
   "outputs": [
    {
     "name": "stdout",
     "output_type": "stream",
     "text": [
      "                            OLS Regression Results                            \n",
      "==============================================================================\n",
      "Dep. Variable:                      y   R-squared:                       0.991\n",
      "Model:                            OLS   Adj. R-squared:                  0.990\n",
      "Method:                 Least Squares   F-statistic:                     1601.\n",
      "Date:                Sun, 15 Oct 2023   Prob (F-statistic):           1.62e-46\n",
      "Time:                        23:58:15   Log-Likelihood:                -30.217\n",
      "No. Observations:                  50   AIC:                             68.43\n",
      "Df Residuals:                      46   BIC:                             76.08\n",
      "Df Model:                           3                                         \n",
      "Covariance Type:            nonrobust                                         \n",
      "==============================================================================\n",
      "                 coef    std err          t      P>|t|      [0.025      0.975]\n",
      "------------------------------------------------------------------------------\n",
      "x1             0.2151      0.022      9.679      0.000       0.170       0.260\n",
      "x2             0.1926      0.097      1.988      0.053      -0.002       0.388\n",
      "x3             0.4290      0.007     61.528      0.000       0.415       0.443\n",
      "const          5.0125      0.139     36.086      0.000       4.733       5.292\n",
      "==============================================================================\n",
      "Omnibus:                        1.065   Durbin-Watson:                   2.507\n",
      "Prob(Omnibus):                  0.587   Jarque-Bera (JB):                0.920\n",
      "Skew:                           0.062   Prob(JB):                        0.631\n",
      "Kurtosis:                       2.347   Cond. No.                         34.1\n",
      "==============================================================================\n",
      "\n",
      "Notes:\n",
      "[1] Standard Errors assume that the covariance matrix of the errors is correctly specified.\n"
     ]
    }
   ],
   "source": [
    "res=sm.OLS(y,X).fit()\n",
    "print(res.summary())\n"
   ]
  },
  {
   "cell_type": "code",
   "execution_count": 12,
   "metadata": {},
   "outputs": [
    {
     "data": {
      "text/html": [
       "<table class=\"simpletable\">\n",
       "<tr>\n",
       "        <td>Model:</td>               <td>OLS</td>         <td>Adj. R-squared:</td>     <td>0.990</td> \n",
       "</tr>\n",
       "<tr>\n",
       "  <td>Dependent Variable:</td>         <td>y</td>               <td>AIC:</td>          <td>68.4347</td>\n",
       "</tr>\n",
       "<tr>\n",
       "         <td>Date:</td>        <td>2023-10-15 23:58</td>        <td>BIC:</td>          <td>76.0828</td>\n",
       "</tr>\n",
       "<tr>\n",
       "   <td>No. Observations:</td>         <td>50</td>          <td>Log-Likelihood:</td>    <td>-30.217</td>\n",
       "</tr>\n",
       "<tr>\n",
       "       <td>Df Model:</td>              <td>3</td>           <td>F-statistic:</td>       <td>1601.</td> \n",
       "</tr>\n",
       "<tr>\n",
       "     <td>Df Residuals:</td>           <td>46</td>        <td>Prob (F-statistic):</td> <td>1.62e-46</td>\n",
       "</tr>\n",
       "<tr>\n",
       "      <td>R-squared:</td>            <td>0.991</td>            <td>Scale:</td>         <td>0.21314</td>\n",
       "</tr>\n",
       "</table>\n",
       "<table class=\"simpletable\">\n",
       "<tr>\n",
       "    <td></td>     <th>Coef.</th> <th>Std.Err.</th>    <th>t</th>     <th>P>|t|</th> <th>[0.025</th>  <th>0.975]</th>\n",
       "</tr>\n",
       "<tr>\n",
       "  <th>x1</th>    <td>0.2151</td>  <td>0.0222</td>  <td>9.6787</td>  <td>0.0000</td> <td>0.1704</td>  <td>0.2599</td>\n",
       "</tr>\n",
       "<tr>\n",
       "  <th>x2</th>    <td>0.1926</td>  <td>0.0969</td>  <td>1.9877</td>  <td>0.0528</td> <td>-0.0024</td> <td>0.3877</td>\n",
       "</tr>\n",
       "<tr>\n",
       "  <th>x3</th>    <td>0.4290</td>  <td>0.0070</td>  <td>61.5281</td> <td>0.0000</td> <td>0.4150</td>  <td>0.4430</td>\n",
       "</tr>\n",
       "<tr>\n",
       "  <th>const</th> <td>5.0125</td>  <td>0.1389</td>  <td>36.0856</td> <td>0.0000</td> <td>4.7329</td>  <td>5.2921</td>\n",
       "</tr>\n",
       "</table>\n",
       "<table class=\"simpletable\">\n",
       "<tr>\n",
       "     <td>Omnibus:</td>    <td>1.065</td>  <td>Durbin-Watson:</td>   <td>2.507</td>\n",
       "</tr>\n",
       "<tr>\n",
       "  <td>Prob(Omnibus):</td> <td>0.587</td> <td>Jarque-Bera (JB):</td> <td>0.920</td>\n",
       "</tr>\n",
       "<tr>\n",
       "       <td>Skew:</td>     <td>0.062</td>     <td>Prob(JB):</td>     <td>0.631</td>\n",
       "</tr>\n",
       "<tr>\n",
       "     <td>Kurtosis:</td>   <td>2.347</td>  <td>Condition No.:</td>    <td>34</td>  \n",
       "</tr>\n",
       "</table><br/>\n",
       "Notes:<br/>\n",
       "[1] Standard Errors assume that the covariance matrix of the errors is correctly specified."
      ],
      "text/latex": [
       "\\begin{table}\n",
       "\\caption{Results: Ordinary least squares}\n",
       "\\label{}\n",
       "\\begin{center}\n",
       "\\begin{tabular}{llll}\n",
       "\\hline\n",
       "Model:              & OLS              & Adj. R-squared:     & 0.990     \\\\\n",
       "Dependent Variable: & y                & AIC:                & 68.4347   \\\\\n",
       "Date:               & 2023-10-15 23:58 & BIC:                & 76.0828   \\\\\n",
       "No. Observations:   & 50               & Log-Likelihood:     & -30.217   \\\\\n",
       "Df Model:           & 3                & F-statistic:        & 1601.     \\\\\n",
       "Df Residuals:       & 46               & Prob (F-statistic): & 1.62e-46  \\\\\n",
       "R-squared:          & 0.991            & Scale:              & 0.21314   \\\\\n",
       "\\hline\n",
       "\\end{tabular}\n",
       "\\end{center}\n",
       "\n",
       "\\begin{center}\n",
       "\\begin{tabular}{lrrrrrr}\n",
       "\\hline\n",
       "      &  Coef. & Std.Err. &       t & P$> |$t$|$ &  [0.025 & 0.975]  \\\\\n",
       "\\hline\n",
       "x1    & 0.2151 &   0.0222 &  9.6787 &      0.0000 &  0.1704 & 0.2599  \\\\\n",
       "x2    & 0.1926 &   0.0969 &  1.9877 &      0.0528 & -0.0024 & 0.3877  \\\\\n",
       "x3    & 0.4290 &   0.0070 & 61.5281 &      0.0000 &  0.4150 & 0.4430  \\\\\n",
       "const & 5.0125 &   0.1389 & 36.0856 &      0.0000 &  4.7329 & 5.2921  \\\\\n",
       "\\hline\n",
       "\\end{tabular}\n",
       "\\end{center}\n",
       "\n",
       "\\begin{center}\n",
       "\\begin{tabular}{llll}\n",
       "\\hline\n",
       "Omnibus:       & 1.065 & Durbin-Watson:    & 2.507  \\\\\n",
       "Prob(Omnibus): & 0.587 & Jarque-Bera (JB): & 0.920  \\\\\n",
       "Skew:          & 0.062 & Prob(JB):         & 0.631  \\\\\n",
       "Kurtosis:      & 2.347 & Condition No.:    & 34     \\\\\n",
       "\\hline\n",
       "\\end{tabular}\n",
       "\\end{center}\n",
       "\\end{table}\n",
       "\\bigskip\n",
       "Notes: \\newline \n",
       "[1] Standard Errors assume that the covariance matrix of the errors is correctly specified."
      ],
      "text/plain": [
       "<class 'statsmodels.iolib.summary2.Summary'>\n",
       "\"\"\"\n",
       "                 Results: Ordinary least squares\n",
       "=================================================================\n",
       "Model:              OLS              Adj. R-squared:     0.990   \n",
       "Dependent Variable: y                AIC:                68.4347 \n",
       "Date:               2023-10-15 23:58 BIC:                76.0828 \n",
       "No. Observations:   50               Log-Likelihood:     -30.217 \n",
       "Df Model:           3                F-statistic:        1601.   \n",
       "Df Residuals:       46               Prob (F-statistic): 1.62e-46\n",
       "R-squared:          0.991            Scale:              0.21314 \n",
       "-------------------------------------------------------------------\n",
       "            Coef.    Std.Err.      t      P>|t|     [0.025   0.975]\n",
       "-------------------------------------------------------------------\n",
       "x1          0.2151     0.0222    9.6787   0.0000    0.1704   0.2599\n",
       "x2          0.1926     0.0969    1.9877   0.0528   -0.0024   0.3877\n",
       "x3          0.4290     0.0070   61.5281   0.0000    0.4150   0.4430\n",
       "const       5.0125     0.1389   36.0856   0.0000    4.7329   5.2921\n",
       "-----------------------------------------------------------------\n",
       "Omnibus:              1.065        Durbin-Watson:           2.507\n",
       "Prob(Omnibus):        0.587        Jarque-Bera (JB):        0.920\n",
       "Skew:                 0.062        Prob(JB):                0.631\n",
       "Kurtosis:             2.347        Condition No.:           34   \n",
       "=================================================================\n",
       "Notes:\n",
       "[1] Standard Errors assume that the covariance matrix of the\n",
       "errors is correctly specified.\n",
       "\"\"\""
      ]
     },
     "execution_count": 12,
     "metadata": {},
     "output_type": "execute_result"
    }
   ],
   "source": [
    "res.summary2()"
   ]
  },
  {
   "cell_type": "code",
   "execution_count": 13,
   "metadata": {},
   "outputs": [
    {
     "name": "stdout",
     "output_type": "stream",
     "text": [
      "parameters [0.21514165 0.19260505 0.42900944 5.01250538]\n",
      "Standard errors [0.0222284  0.09689938 0.00697258 0.13890614]\n",
      "Predicted values [15.73774132 14.88745184 14.07825112 13.30809543 12.57515163 11.87788909\n",
      " 11.21515654 10.58623983  9.9908978   9.42937433  8.90238616  8.41108687\n",
      "  7.95700901  7.54198722  7.16806609  6.83739762  6.55213319  6.31431558\n",
      "  6.12577652  5.98804467  5.902269    5.86916106  5.8889593   5.9614171\n",
      "  6.08581516  6.26099758  6.48542985  6.75727592  7.07449027  7.43492061\n",
      "  7.83641587  8.27693417  8.75464526  9.26802241  9.81591897 10.39762598\n",
      " 11.01290771 11.66201349 12.34566522 13.06502112 13.8216176  14.61729218\n",
      " 15.45409128 16.33416748 17.25967153 18.23264441 19.25491489 20.32800779\n",
      " 21.45306739 22.63080009]\n"
     ]
    }
   ],
   "source": [
    "print(\"parameters\", res.params)\n",
    "print('Standard errors', res.bse)\n",
    "print('Predicted values', res.predict())"
   ]
  },
  {
   "cell_type": "code",
   "execution_count": 14,
   "metadata": {},
   "outputs": [],
   "source": [
    "#Now draw a plot to compare the true relationship to OLS predictions. Confidence intereval s around the predictions are built using the wls_prediction_std\n",
    "\n",
    "pred_ols = res.get_prediction()\n",
    "iv_l = pred_ols.summary_frame()[\"obs_ci_lower\"]\n",
    "import matplotlib.pyplot as plt\n"
   ]
  },
  {
   "cell_type": "code",
   "execution_count": 15,
   "metadata": {},
   "outputs": [
    {
     "data": {
      "text/plain": [
       "<matplotlib.legend.Legend at 0x7f0211644d10>"
      ]
     },
     "execution_count": 15,
     "metadata": {},
     "output_type": "execute_result"
    },
    {
     "data": {
      "image/png": "[encoded data removed]",
      "text/plain": [
       "<Figure size 800x600 with 1 Axes>"
      ]
     },
     "metadata": {},
     "output_type": "display_data"
    }
   ],
   "source": [
    "pred_ols=res.get_prediction()\n",
    "iv_l = pred_ols.summary_frame()['obs_ci_lower']\n",
    "iv_u = pred_ols.summary_frame()['obs_ci_upper']\n",
    "\n",
    "fig, ax = plt.subplots(figsize=(8,6))\n",
    "\n",
    "ax.plot(x,y,\"o\",label=\"data\")\n",
    "# plt.xlim((4,6))\n",
    "# plt.ylim((4,10))\n",
    "ax.plot(x,y_true,'b-',label=True)\n",
    "ax.plot(x,res.fittedvalues,\"r--\",label=\"OLS\")\n",
    "ax.plot(x, iv_u, \"r--\")\n",
    "ax.plot(x, iv_l, \"r--\")\n",
    "ax.legend(loc='best')"
   ]
  },
  {
   "cell_type": "markdown",
   "metadata": {},
   "source": [
    "OLS with dummy variables"
   ]
  },
  {
   "cell_type": "code",
   "execution_count": 16,
   "metadata": {},
   "outputs": [],
   "source": [
    "nsample = 50\n",
    "groups = np.zeros(nsample, int)\n",
    "groups[20:40] = 1\n",
    "groups[40:] = 2\n",
    "# dummy = (groups[:,None] == np.unique(groups)).astype(float)\n",
    "\n",
    "dummy = pd.get_dummies(groups).values\n",
    "x = np.linspace(0, 20, nsample)\n",
    "# drop reference category\n",
    "X = np.column_stack((x, dummy[:, 1:]))\n",
    "X = sm.add_constant(X, prepend=False)\n",
    "\n",
    "beta = [1.0, 3, -3, 10]\n",
    "y_true = np.dot(X, beta)\n",
    "e = np.random.normal(size=nsample)\n",
    "y = y_true + e"
   ]
  },
  {
   "cell_type": "code",
   "execution_count": 17,
   "metadata": {},
   "outputs": [
    {
     "data": {
      "text/plain": [
       "array([[ 0.        ,  0.        ,  0.        ,  1.        ],\n",
       "       [ 0.40816327,  0.        ,  0.        ,  1.        ],\n",
       "       [ 0.81632653,  0.        ,  0.        ,  1.        ],\n",
       "       [ 1.2244898 ,  0.        ,  0.        ,  1.        ],\n",
       "       [ 1.63265306,  0.        ,  0.        ,  1.        ],\n",
       "       [ 2.04081633,  0.        ,  0.        ,  1.        ],\n",
       "       [ 2.44897959,  0.        ,  0.        ,  1.        ],\n",
       "       [ 2.85714286,  0.        ,  0.        ,  1.        ],\n",
       "       [ 3.26530612,  0.        ,  0.        ,  1.        ],\n",
       "       [ 3.67346939,  0.        ,  0.        ,  1.        ],\n",
       "       [ 4.08163265,  0.        ,  0.        ,  1.        ],\n",
       "       [ 4.48979592,  0.        ,  0.        ,  1.        ],\n",
       "       [ 4.89795918,  0.        ,  0.        ,  1.        ],\n",
       "       [ 5.30612245,  0.        ,  0.        ,  1.        ],\n",
       "       [ 5.71428571,  0.        ,  0.        ,  1.        ],\n",
       "       [ 6.12244898,  0.        ,  0.        ,  1.        ],\n",
       "       [ 6.53061224,  0.        ,  0.        ,  1.        ],\n",
       "       [ 6.93877551,  0.        ,  0.        ,  1.        ],\n",
       "       [ 7.34693878,  0.        ,  0.        ,  1.        ],\n",
       "       [ 7.75510204,  0.        ,  0.        ,  1.        ],\n",
       "       [ 8.16326531,  1.        ,  0.        ,  1.        ],\n",
       "       [ 8.57142857,  1.        ,  0.        ,  1.        ],\n",
       "       [ 8.97959184,  1.        ,  0.        ,  1.        ],\n",
       "       [ 9.3877551 ,  1.        ,  0.        ,  1.        ],\n",
       "       [ 9.79591837,  1.        ,  0.        ,  1.        ],\n",
       "       [10.20408163,  1.        ,  0.        ,  1.        ],\n",
       "       [10.6122449 ,  1.        ,  0.        ,  1.        ],\n",
       "       [11.02040816,  1.        ,  0.        ,  1.        ],\n",
       "       [11.42857143,  1.        ,  0.        ,  1.        ],\n",
       "       [11.83673469,  1.        ,  0.        ,  1.        ],\n",
       "       [12.24489796,  1.        ,  0.        ,  1.        ],\n",
       "       [12.65306122,  1.        ,  0.        ,  1.        ],\n",
       "       [13.06122449,  1.        ,  0.        ,  1.        ],\n",
       "       [13.46938776,  1.        ,  0.        ,  1.        ],\n",
       "       [13.87755102,  1.        ,  0.        ,  1.        ],\n",
       "       [14.28571429,  1.        ,  0.        ,  1.        ],\n",
       "       [14.69387755,  1.        ,  0.        ,  1.        ],\n",
       "       [15.10204082,  1.        ,  0.        ,  1.        ],\n",
       "       [15.51020408,  1.        ,  0.        ,  1.        ],\n",
       "       [15.91836735,  1.        ,  0.        ,  1.        ],\n",
       "       [16.32653061,  0.        ,  1.        ,  1.        ],\n",
       "       [16.73469388,  0.        ,  1.        ,  1.        ],\n",
       "       [17.14285714,  0.        ,  1.        ,  1.        ],\n",
       "       [17.55102041,  0.        ,  1.        ,  1.        ],\n",
       "       [17.95918367,  0.        ,  1.        ,  1.        ],\n",
       "       [18.36734694,  0.        ,  1.        ,  1.        ],\n",
       "       [18.7755102 ,  0.        ,  1.        ,  1.        ],\n",
       "       [19.18367347,  0.        ,  1.        ,  1.        ],\n",
       "       [19.59183673,  0.        ,  1.        ,  1.        ],\n",
       "       [20.        ,  0.        ,  1.        ,  1.        ]])"
      ]
     },
     "execution_count": 17,
     "metadata": {},
     "output_type": "execute_result"
    }
   ],
   "source": [
    "X"
   ]
  },
  {
   "cell_type": "code",
   "execution_count": 22,
   "metadata": {},
   "outputs": [
    {
     "name": "stdout",
     "output_type": "stream",
     "text": [
      "                            OLS Regression Results                            \n",
      "==============================================================================\n",
      "Dep. Variable:                      y   R-squared:                       0.979\n",
      "Model:                            OLS   Adj. R-squared:                  0.978\n",
      "Method:                 Least Squares   F-statistic:                     726.1\n",
      "Date:                Sun, 15 Oct 2023   Prob (F-statistic):           9.87e-39\n",
      "Time:                        23:59:06   Log-Likelihood:                -63.751\n",
      "No. Observations:                  50   AIC:                             135.5\n",
      "Df Residuals:                      46   BIC:                             143.2\n",
      "Df Model:                           3                                         \n",
      "Covariance Type:            nonrobust                                         \n",
      "==============================================================================\n",
      "                 coef    std err          t      P>|t|      [0.025      0.975]\n",
      "------------------------------------------------------------------------------\n",
      "x1             0.9490      0.059     16.124      0.000       0.831       1.067\n",
      "x2             3.7153      0.559      6.648      0.000       2.590       4.840\n",
      "x3            -2.2380      0.911     -2.458      0.018      -4.071      -0.405\n",
      "const          9.9327      0.305     32.600      0.000       9.319      10.546\n",
      "==============================================================================\n",
      "Omnibus:                        0.381   Durbin-Watson:                   2.389\n",
      "Prob(Omnibus):                  0.827   Jarque-Bera (JB):                0.540\n",
      "Skew:                           0.010   Prob(JB):                        0.763\n",
      "Kurtosis:                       2.491   Cond. No.                         96.3\n",
      "==============================================================================\n",
      "\n",
      "Notes:\n",
      "[1] Standard Errors assume that the covariance matrix of the errors is correctly specified.\n"
     ]
    }
   ],
   "source": [
    "res2 = sm.OLS(y,X).fit()\n",
    "print(res2.summary())"
   ]
  },
  {
   "cell_type": "markdown",
   "metadata": {},
   "source": [
    "## Joint hypothesis test"
   ]
  },
  {
   "cell_type": "code",
   "execution_count": 19,
   "metadata": {},
   "outputs": [],
   "source": [
    "#F-test"
   ]
  },
  {
   "cell_type": "code",
   "execution_count": 20,
   "metadata": {},
   "outputs": [
    {
     "ename": "SyntaxError",
     "evalue": "invalid syntax (1102136943.py, line 1)",
     "output_type": "error",
     "traceback": [
      "\u001b[0;36m  Cell \u001b[0;32mIn[20], line 1\u001b[0;36m\u001b[0m\n\u001b[0;31m    def\u001b[0m\n\u001b[0m       ^\u001b[0m\n\u001b[0;31mSyntaxError\u001b[0m\u001b[0;31m:\u001b[0m invalid syntax\n"
     ]
    }
   ],
   "source": [
    "def"
   ]
  }
 ],
 "metadata": {
  "kernelspec": {
   "display_name": "Python 3",
   "language": "python",
   "name": "python3"
  },
  "language_info": {
   "codemirror_mode": {
    "name": "ipython",
    "version": 3
   },
   "file_extension": ".py",
   "mimetype": "text/x-python",
   "name": "python",
   "nbconvert_exporter": "python",
   "pygments_lexer": "ipython3",
   "version": "3.12.0"
  }
 },
 "nbformat": 4,
 "nbformat_minor": 2
}
