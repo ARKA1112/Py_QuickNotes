{
 "cells": [
  {
   "cell_type": "code",
   "execution_count": 2,
   "metadata": {},
   "outputs": [
    {
     "data": {
      "text/plain": [
       "'/home/susearc/Documents/github/Py_QuickNotes'"
      ]
     },
     "execution_count": 2,
     "metadata": {},
     "output_type": "execute_result"
    }
   ],
   "source": [
    "import os\n",
    "os.getcwd()  # Gets the current "
   ]
  },
  {
   "cell_type": "code",
   "execution_count": 5,
   "metadata": {},
   "outputs": [
    {
     "ename": "FileNotFoundError",
     "evalue": "[Errno 2] No such file or directory: 'home/susearc/Documents/github'",
     "output_type": "error",
     "traceback": [
      "\u001b[0;31m---------------------------------------------------------------------------\u001b[0m",
      "\u001b[0;31mFileNotFoundError\u001b[0m                         Traceback (most recent call last)",
      "\u001b[1;32m/home/susearc/Documents/github/Py_QuickNotes/10.StandardLib.ipynb Cell 2\u001b[0m line \u001b[0;36m1\n\u001b[0;32m----> <a href='vscode-notebook-cell:/home/susearc/Documents/github/Py_QuickNotes/10.StandardLib.ipynb#W1sZmlsZQ%3D%3D?line=0'>1</a>\u001b[0m os\u001b[39m.\u001b[39;49mchdir(\u001b[39m'\u001b[39;49m\u001b[39mhome/susearc/Documents/github\u001b[39;49m\u001b[39m'\u001b[39;49m)\n",
      "\u001b[0;31mFileNotFoundError\u001b[0m: [Errno 2] No such file or directory: 'home/susearc/Documents/github'"
     ]
    }
   ],
   "source": [
    "os.chdir('home/susearc/Documents/github')"
   ]
  },
  {
   "cell_type": "code",
   "execution_count": 6,
   "metadata": {},
   "outputs": [
    {
     "data": {
      "text/plain": [
       "0"
      ]
     },
     "execution_count": 6,
     "metadata": {},
     "output_type": "execute_result"
    }
   ],
   "source": [
    "os.system('mkdir using_mkdir')\n",
    "#A folder name \"using_mkdir\" is created"
   ]
  },
  {
   "cell_type": "code",
   "execution_count": null,
   "metadata": {},
   "outputs": [],
   "source": [
    "dir(os)"
   ]
  },
  {
   "cell_type": "code",
   "execution_count": null,
   "metadata": {},
   "outputs": [],
   "source": [
    "# For daily file and directory management tasks, the shutil module provides a higher level interface that is easier to use\n",
    "\n",
    "import shutil\n",
    "shutil.copyfile('data.db','archive.db')"
   ]
  },
  {
   "cell_type": "markdown",
   "metadata": {},
   "source": [
    "File Wildcards"
   ]
  },
  {
   "cell_type": "code",
   "execution_count": 10,
   "metadata": {},
   "outputs": [
    {
     "data": {
      "text/plain": [
       "['README.md']"
      ]
     },
     "execution_count": 10,
     "metadata": {},
     "output_type": "execute_result"
    }
   ],
   "source": [
    "# glob searches the file with specified extensions\n",
    "import glob\n",
    "glob.glob('*.md')\n"
   ]
  },
  {
   "cell_type": "markdown",
   "metadata": {},
   "source": [
    "Command line arguments"
   ]
  },
  {
   "cell_type": "code",
   "execution_count": 12,
   "metadata": {},
   "outputs": [
    {
     "name": "stdout",
     "output_type": "stream",
     "text": [
      "['/home/susearc/Macos/py3.12/lib/python3.12/site-packages/ipykernel_launcher.py', '--ip=127.0.0.1', '--stdin=9003', '--control=9001', '--hb=9000', '--Session.signature_scheme=\"hmac-sha256\"', '--Session.key=b\"d2217ef3-36db-409f-8da7-e5be99ac8866\"', '--shell=9002', '--transport=\"tcp\"', '--iopub=9004', '--f=/home/susearc/.local/share/jupyter/runtime/kernel-v2-119302d26jKGUjOsF.json']\n"
     ]
    }
   ],
   "source": [
    "# Commong utility scripts often need to process command line argumets. These arguments are stored in the syst module's argv attribute as a list.\n",
    "\n",
    "import sys\n",
    "print(sys.argv)"
   ]
  },
  {
   "cell_type": "code",
   "execution_count": 14,
   "metadata": {},
   "outputs": [
    {
     "name": "stderr",
     "output_type": "stream",
     "text": [
      "usage: top [-h] [-l LINES] filenames [filenames ...]\n",
      "top: error: the following arguments are required: filenames\n"
     ]
    },
    {
     "ename": "SystemExit",
     "evalue": "2",
     "output_type": "error",
     "traceback": [
      "An exception has occurred, use %tb to see the full traceback.\n",
      "\u001b[0;31mSystemExit\u001b[0m\u001b[0;31m:\u001b[0m 2\n"
     ]
    },
    {
     "name": "stderr",
     "output_type": "stream",
     "text": [
      "/home/susearc/Macos/py3.12/lib/python3.12/site-packages/IPython/core/interactiveshell.py:3534: UserWarning: To exit: use 'exit', 'quit', or Ctrl-D.\n",
      "  warn(\"To exit: use 'exit', 'quit', or Ctrl-D.\", stacklevel=1)\n"
     ]
    }
   ],
   "source": [
    "## The argparse module provides a more sophisticated mechanism to process command line arguments. the following scipti extracts one or more filenames and an optional number of lines to be displayed:\n",
    "\n",
    "\n",
    "import argparse\n",
    "\n",
    "parser = argparse.ArgumentParser(\n",
    "    prog='top',\n",
    "    description='Show top lines from each file')\n",
    "parser.add_argument('filenames',nargs='+')\n",
    "parser.add_argument('-l','--lines',type=int, default=10)\n",
    "args = parser.parse_args()\n",
    "print(args)\n",
    "\n",
    "\n",
    "'''When run at the command line with python top.py --lines=5 alpha.txt beta.txt the script sets args.lines to 5 and args.filenames to alpha.txt beta.txt'''"
   ]
  },
  {
   "cell_type": "code",
   "execution_count": 2,
   "metadata": {},
   "outputs": [],
   "source": [
    "#The first step in using the argparse is creating an ArgumentParser object\n",
    "import argparse\n",
    "parser = argparse.ArgumentParser(description='process some integer')"
   ]
  },
  {
   "cell_type": "code",
   "execution_count": 10,
   "metadata": {},
   "outputs": [
    {
     "data": {
      "text/plain": [
       "Namespace(bacon='MMM')"
      ]
     },
     "execution_count": 10,
     "metadata": {},
     "output_type": "execute_result"
    }
   ],
   "source": [
    "#refer prog.py and myprogram.py and any thing that starts with 10\n",
    "import argparse\n",
    "parser = argparse.ArgumentParser()\n",
    "parser.add_argument('-bacon')\n",
    "parser.parse_args('-b MMM'.split())"
   ]
  },
  {
   "cell_type": "markdown",
   "metadata": {},
   "source": [
    "Beyond sys.argv"
   ]
  },
  {
   "cell_type": "code",
   "execution_count": null,
   "metadata": {},
   "outputs": [],
   "source": [
    "# sometimes it may be useful to have an ArgumentParser parse arguments other than those of sys.argv. This can be accomplished by passing a list of string to parse_args(). This is useful for testing at the interactive prompt\n",
    "\n",
    "parser = argparse.ArgumentParser()\n",
    "parser.add_argument('integers', metavar='int', type=int, choices=range(10), nargs='+'\n",
    ", help='an integer in the range of 0-9')\n",
    "parser.add_argument('--sum', dest='accumulate')\n",
    "parser.parse_args(['1','2','3','4','--sum'])"
   ]
  },
  {
   "cell_type": "markdown",
   "metadata": {},
   "source": [
    "The Namespace object"
   ]
  },
  {
   "cell_type": "code",
   "execution_count": 17,
   "metadata": {},
   "outputs": [
    {
     "data": {
      "text/plain": [
       "{'foo': 'BAR'}"
      ]
     },
     "execution_count": 17,
     "metadata": {},
     "output_type": "execute_result"
    }
   ],
   "source": [
    "parser = argparse.ArgumentParser()\n",
    "parser.add_argument('--foo')\n",
    "args = parser.parse_args(['--foo','BAR'])\n",
    "vars(args)"
   ]
  },
  {
   "cell_type": "markdown",
   "metadata": {},
   "source": [
    "## 10.4"
   ]
  },
  {
   "cell_type": "code",
   "execution_count": 19,
   "metadata": {},
   "outputs": [
    {
     "name": "stdout",
     "output_type": "stream",
     "text": [
      "Warning, log file not found starting a new one\n"
     ]
    },
    {
     "data": {
      "text/plain": [
       "47"
      ]
     },
     "execution_count": 19,
     "metadata": {},
     "output_type": "execute_result"
    }
   ],
   "source": [
    "import sys\n",
    "sys.stdout.write('Warning, log file not found starting a new one\\n')\n",
    "# can also be used as sys.stderr an sys.stdin"
   ]
  },
  {
   "cell_type": "markdown",
   "metadata": {},
   "source": [
    "## 10.5 String Pattern Matching"
   ]
  },
  {
   "cell_type": "code",
   "execution_count": 24,
   "metadata": {},
   "outputs": [
    {
     "data": {
      "text/plain": [
       "'coffee for two'"
      ]
     },
     "execution_count": 24,
     "metadata": {},
     "output_type": "execute_result"
    }
   ],
   "source": [
    "import re\n",
    "re.findall(r'\\bf[a-z]*', 'which foot or hand fell fastest')\n",
    "re.sub(r'(\\b[a-z]+) \\1', r'\\1', 'cat in the hat')\n",
    "'tea for too'.replace('tea', 'coffee').replace('too', 'two')"
   ]
  },
  {
   "cell_type": "markdown",
   "metadata": {},
   "source": [
    "## 10.6 Mathematics"
   ]
  },
  {
   "cell_type": "code",
   "execution_count": 32,
   "metadata": {},
   "outputs": [
    {
     "data": {
      "text/plain": [
       "4"
      ]
     },
     "execution_count": 32,
     "metadata": {},
     "output_type": "execute_result"
    }
   ],
   "source": [
    "import math\n",
    "math.isqrt(17)\n",
    "math.prod([4,5,6,6])\n",
    "math.sumprod([3,4],[6,6])"
   ]
  },
  {
   "cell_type": "code",
   "execution_count": 1,
   "metadata": {},
   "outputs": [
    {
     "data": {
      "text/plain": [
       "0.7071067811865476"
      ]
     },
     "execution_count": 1,
     "metadata": {},
     "output_type": "execute_result"
    }
   ],
   "source": [
    "import math\n",
    "math.cos(math.pi/4)\n"
   ]
  },
  {
   "cell_type": "code",
   "execution_count": 5,
   "metadata": {},
   "outputs": [],
   "source": [
    "!pip install -Uq numpy\n"
   ]
  },
  {
   "cell_type": "code",
   "execution_count": 18,
   "metadata": {},
   "outputs": [],
   "source": [
    "import statistics\n",
    "import numpy as np\n",
    "import random\n",
    "data1  = np.random.randn(5)\n",
    "data2 = list(random.random() for i in range(5))"
   ]
  },
  {
   "cell_type": "code",
   "execution_count": 19,
   "metadata": {},
   "outputs": [
    {
     "data": {
      "text/plain": [
       "(array([-1.02269521,  0.82037792,  0.18552259,  0.64342776,  0.70719378]),\n",
       " [0.6589359479000718,\n",
       "  0.30067478958013116,\n",
       "  0.8690091620522457,\n",
       "  0.055299415647908634,\n",
       "  0.8784149967791507])"
      ]
     },
     "execution_count": 19,
     "metadata": {},
     "output_type": "execute_result"
    }
   ],
   "source": [
    "data1, data2"
   ]
  },
  {
   "cell_type": "code",
   "execution_count": 23,
   "metadata": {},
   "outputs": [
    {
     "name": "stdout",
     "output_type": "stream",
     "text": [
      "0.2667653698756348 0.5524668623919016\n",
      "-0.08652679451257693\n",
      "0.7602051666488554 0.3634389900610976\n"
     ]
    }
   ],
   "source": [
    "import statistics\n",
    "print(statistics.mean(data1),statistics.mean(data2))\n",
    "print(statistics.covariance(data1,data2))\n",
    "print(statistics.stdev(data1),statistics.stdev(data2))\n"
   ]
  },
  {
   "cell_type": "markdown",
   "metadata": {},
   "source": [
    "## 10.7 Internet Access"
   ]
  },
  {
   "cell_type": "code",
   "execution_count": null,
   "metadata": {},
   "outputs": [],
   "source": [
    "from urllib.request import urlopen\n",
    "with urlopen('http://worldtimeapi.org/api/timezone/etc/UTC.txt') as response:\n",
    "    for line in response:\n",
    "        print(line)\n",
    "        line = line.decode()\n",
    "        print('\\n',line)\n",
    "        if line.startswith('datetime'):\n",
    "            print(line.rstrip())"
   ]
  },
  {
   "cell_type": "code",
   "execution_count": null,
   "metadata": {},
   "outputs": [],
   "source": [
    "import smtplib\n",
    "server = smtplib.SMTP('locahost')\n",
    "server.sendmail('soothsayer@example.org', 'jcaesar@example.com','messgae')\n",
    "server.quit()"
   ]
  },
  {
   "cell_type": "markdown",
   "metadata": {},
   "source": [
    "## Dates and Times"
   ]
  },
  {
   "cell_type": "code",
   "execution_count": 34,
   "metadata": {},
   "outputs": [
    {
     "data": {
      "text/plain": [
       "'05-22-30. 22 May 2030 is a Wednesday on the 22 day of May.'"
      ]
     },
     "execution_count": 34,
     "metadata": {},
     "output_type": "execute_result"
    }
   ],
   "source": [
    "from datetime import date\n",
    "now = date.today()\n",
    "now\n",
    "date =date(2030,5,22)\n",
    "\n",
    "date.strftime(\"%m-%d-%y. %d %b %Y is a %A on the %d day of %B.\")\n"
   ]
  },
  {
   "cell_type": "code",
   "execution_count": null,
   "metadata": {},
   "outputs": [],
   "source": []
  }
 ],
 "metadata": {
  "kernelspec": {
   "display_name": "Python 3",
   "language": "python",
   "name": "python3"
  },
  "language_info": {
   "codemirror_mode": {
    "name": "ipython",
    "version": 3
   },
   "file_extension": ".py",
   "mimetype": "text/x-python",
   "name": "python",
   "nbconvert_exporter": "python",
   "pygments_lexer": "ipython3",
   "version": "3.12.0"
  },
  "orig_nbformat": 4
 },
 "nbformat": 4,
 "nbformat_minor": 2
}
