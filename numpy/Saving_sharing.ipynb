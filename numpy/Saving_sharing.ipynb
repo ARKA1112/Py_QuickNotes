{
 "cells": [
  {
   "cell_type": "markdown",
   "metadata": {},
   "source": [
    "## Saving and sharing your numpy arrays"
   ]
  },
  {
   "cell_type": "code",
   "execution_count": 2,
   "metadata": {},
   "outputs": [
    {
     "name": "stdout",
     "output_type": "stream",
     "text": [
      "[0 1 2 3 4 5 6 7 8 9]\n",
      "[ 0  1  4  9 16 25 36 49 64 81]\n"
     ]
    }
   ],
   "source": [
    "# Create your arrays\n",
    "\n",
    "# Now that you have imported the numpy library, you can make a couple of arrays lets start with two 1d arrays, x and y, where y=x*82 you will assign x to the integers from 0 to 9 using np.arange\n",
    "import numpy as np\n",
    "x = np.arange(10)\n",
    "y = x ** 2\n",
    "print(x)\n",
    "print(y)"
   ]
  },
  {
   "cell_type": "markdown",
   "metadata": {},
   "source": [
    "## Save your arrays with numpy's savez"
   ]
  },
  {
   "cell_type": "code",
   "execution_count": 3,
   "metadata": {},
   "outputs": [],
   "source": [
    "# The first thing you will do is save them to a file as zipped arrays using savez. You will use two options to labesl the arrays in the file\n",
    "\n",
    "x_axis = x # this option is assigning the name x_axis to the variable x\n",
    "y_axis = y # this optionn is assiging the  name y_axis to the variable y\n",
    "\n",
    "\n",
    "np.savez(\"x_y-squared.npz\", x_axis=x, y_axis=y)"
   ]
  },
  {
   "cell_type": "markdown",
   "metadata": {},
   "source": [
    "## Remove the saved arrays and load them back with numpy's load"
   ]
  },
  {
   "cell_type": "code",
   "execution_count": 4,
   "metadata": {},
   "outputs": [],
   "source": [
    "# In your current working directory , you shoudl have a new file with the name x_y-squared.npz. The file is a zipped binary of the two arrays, x and y. Lets clear the workspace and load the values back in .This x_y-squared.npz file contains two NPY format files. The NPY format is a native binary format. You cannot read the numbers in a standard text editor or spreadsheet\n",
    "\n",
    "del x, y"
   ]
  },
  {
   "cell_type": "code",
   "execution_count": 5,
   "metadata": {},
   "outputs": [
    {
     "name": "stdout",
     "output_type": "stream",
     "text": [
      "Variable   Type       Data/Info\n",
      "-------------------------------\n",
      "np         module     <module 'numpy' from '/ho<...>kages/numpy/__init__.py'>\n",
      "x_axis     ndarray    10: 10 elems, type `int64`, 80 bytes\n",
      "y_axis     ndarray    10: 10 elems, type `int64`, 80 bytes\n"
     ]
    }
   ],
   "source": [
    "# To see what variables are in the workspace, use the jupyter magic command whos\n",
    "\n",
    "\n",
    "%whos"
   ]
  },
  {
   "cell_type": "code",
   "execution_count": 6,
   "metadata": {},
   "outputs": [
    {
     "name": "stdout",
     "output_type": "stream",
     "text": [
      "['x_axis', 'y_axis']\n"
     ]
    }
   ],
   "source": [
    "load_xy =  np.load('x_y-squared.npz')\n",
    "print(load_xy.files)"
   ]
  },
  {
   "cell_type": "code",
   "execution_count": 7,
   "metadata": {},
   "outputs": [
    {
     "name": "stdout",
     "output_type": "stream",
     "text": [
      "Variable   Type       Data/Info\n",
      "-------------------------------\n",
      "load_xy    NpzFile    <numpy.lib.npyio.NpzFile <...>object at 0x7f59580ba210>\n",
      "np         module     <module 'numpy' from '/ho<...>kages/numpy/__init__.py'>\n",
      "x_axis     ndarray    10: 10 elems, type `int64`, 80 bytes\n",
      "y_axis     ndarray    10: 10 elems, type `int64`, 80 bytes\n"
     ]
    }
   ],
   "source": [
    "whos"
   ]
  },
  {
   "cell_type": "markdown",
   "metadata": {},
   "source": [
    "## Reassign the NpzFile arrays to x and y"
   ]
  },
  {
   "cell_type": "code",
   "execution_count": 8,
   "metadata": {},
   "outputs": [
    {
     "name": "stdout",
     "output_type": "stream",
     "text": [
      "[0 1 2 3 4 5 6 7 8 9]\n",
      "[ 0  1  4  9 16 25 36 49 64 81]\n"
     ]
    }
   ],
   "source": [
    "# You have now created the dictionary with an NpzFile type. the included files are x_axis and y_axis that you defined in your savez command. You can reassign x and y to the load_xy files.\n",
    "\n",
    "\n",
    "x = load_xy[\"x_axis\"]\n",
    "y = load_xy[\"y_axis\"]\n",
    "print(x)\n",
    "print(y)"
   ]
  },
  {
   "cell_type": "markdown",
   "metadata": {},
   "source": [
    "## Another option: saving to human-readable csv"
   ]
  },
  {
   "cell_type": "code",
   "execution_count": 9,
   "metadata": {},
   "outputs": [],
   "source": [
    "# Lets consider another scenario, you want to share x and y with other people or other programs. You may need human-readable text file that is easier to share. Next you use the savetxt to save x and y in a comma separated value file, x_y-squared.csv. The resulting csv is composed of ASCII characters. You can load the file back into numpy or read it with other programs.\n",
    "\n",
    "\n"
   ]
  },
  {
   "cell_type": "markdown",
   "metadata": {},
   "source": [
    "## Rearrange the data into a single 2D array"
   ]
  },
  {
   "cell_type": "code",
   "execution_count": 10,
   "metadata": {},
   "outputs": [],
   "source": [
    "# First you have to create a single 2D array from your two 1D arrays. The csv-filetype is a spreadsheet-style dataset. The csv arranges numbers in rows-separated by new lines - and columns-separated by commas. If the data is more complex eg multiple 2D arrays or higher dimensional arrays.It is better to use savez. Here you use two numpy functions to format the data:\n",
    "\n",
    "\n",
    "# 1. np.block : this function appends arrays together into a 2D array\n",
    "# 2. np.newaxis: this function forces the 1D array into a 2D column vector with 10 rows and 1 column"
   ]
  },
  {
   "cell_type": "code",
   "execution_count": 11,
   "metadata": {},
   "outputs": [
    {
     "name": "stdout",
     "output_type": "stream",
     "text": [
      "the output array has shape (10, 2)  with values\n",
      "[[ 0  0]\n",
      " [ 1  1]\n",
      " [ 2  4]\n",
      " [ 3  9]\n",
      " [ 4 16]\n",
      " [ 5 25]\n",
      " [ 6 36]\n",
      " [ 7 49]\n",
      " [ 8 64]\n",
      " [ 9 81]]\n"
     ]
    }
   ],
   "source": [
    "array_out = np.block([x[:,np.newaxis], y[:, np.newaxis]])\n",
    "print(\"the output array has shape\", array_out.shape, \" with values\")\n",
    "print(array_out)"
   ]
  },
  {
   "cell_type": "code",
   "execution_count": 12,
   "metadata": {},
   "outputs": [],
   "source": [
    "# Then save the data to csv file using savetxt\n",
    "\n",
    "np.savetxt(\"x_y-squared.csv\",X=array_out, header='x, y', delimiter=',')"
   ]
  },
  {
   "cell_type": "code",
   "execution_count": 13,
   "metadata": {},
   "outputs": [],
   "source": [
    "# Our arrays as a csv file\n",
    "\n",
    "del x, y"
   ]
  },
  {
   "cell_type": "code",
   "execution_count": 14,
   "metadata": {},
   "outputs": [
    {
     "data": {
      "text/plain": [
       "(10, 2)"
      ]
     },
     "execution_count": 14,
     "metadata": {},
     "output_type": "execute_result"
    }
   ],
   "source": [
    "load_xy = np.loadtxt(\"x_y-squared.csv\",delimiter=\",\")\n",
    "load_xy.shape"
   ]
  },
  {
   "cell_type": "code",
   "execution_count": 15,
   "metadata": {},
   "outputs": [
    {
     "name": "stdout",
     "output_type": "stream",
     "text": [
      "[0. 1. 2. 3. 4. 5. 6. 7. 8. 9.]\n",
      "[ 0.  1.  4.  9. 16. 25. 36. 49. 64. 81.]\n"
     ]
    }
   ],
   "source": [
    "x = load_xy[:,0]\n",
    "y = load_xy[:,1]\n",
    "print(x)\n",
    "print(y)"
   ]
  },
  {
   "cell_type": "code",
   "execution_count": 16,
   "metadata": {},
   "outputs": [],
   "source": [
    "# When the arrays are saved to the csv file, it didnt preserve the int type.When loading the arrays back into your workspace the defaul process will be to load the csv file as a 2D floating point array eg load_xy.dtype == 'float64' and load_xy.shape == (10, 2)"
   ]
  },
  {
   "cell_type": "code",
   "execution_count": null,
   "metadata": {},
   "outputs": [],
   "source": []
  }
 ],
 "metadata": {
  "kernelspec": {
   "display_name": "Python 3",
   "language": "python",
   "name": "python3"
  },
  "language_info": {
   "codemirror_mode": {
    "name": "ipython",
    "version": 3
   },
   "file_extension": ".py",
   "mimetype": "text/x-python",
   "name": "python",
   "nbconvert_exporter": "python",
   "pygments_lexer": "ipython3",
   "version": "3.11.6"
  }
 },
 "nbformat": 4,
 "nbformat_minor": 2
}
