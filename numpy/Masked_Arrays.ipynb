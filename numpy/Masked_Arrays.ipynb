{
 "cells": [
  {
   "cell_type": "markdown",
   "metadata": {},
   "source": [
    "## Reading and writing files"
   ]
  },
  {
   "cell_type": "code",
   "execution_count": 4,
   "metadata": {},
   "outputs": [],
   "source": [
    "import numpy as np"
   ]
  },
  {
   "cell_type": "code",
   "execution_count": 8,
   "metadata": {},
   "outputs": [
    {
     "name": "stdout",
     "output_type": "stream",
     "text": [
      "1, 2, 3\n",
      "4,, 6\n",
      "7, 8, 9\n"
     ]
    }
   ],
   "source": [
    "# Reading text and csv files with no missing values use numpy.loadtxt\n",
    "# Reading text and csv files with missing values use numpy.genfromtxt\n",
    "\n",
    "\n",
    "# return a masked array masking out missing values (if usemask=True) or fill in the missing value with the value specified in filling_values\n",
    "\n",
    "\n",
    "# With non-whitespace delimiters\n",
    "\n",
    "with open('csv.txt', 'r') as f:\n",
    "    print(f.read())"
   ]
  },
  {
   "cell_type": "markdown",
   "metadata": {},
   "source": [
    "Masked array output"
   ]
  },
  {
   "cell_type": "code",
   "execution_count": 9,
   "metadata": {},
   "outputs": [
    {
     "data": {
      "text/plain": [
       "masked_array(\n",
       "  data=[[1.0, 2.0, 3.0],\n",
       "        [4.0, --, 6.0],\n",
       "        [7.0, 8.0, 9.0]],\n",
       "  mask=[[False, False, False],\n",
       "        [False,  True, False],\n",
       "        [False, False, False]],\n",
       "  fill_value=1e+20)"
      ]
     },
     "execution_count": 9,
     "metadata": {},
     "output_type": "execute_result"
    }
   ],
   "source": [
    "np.genfromtxt('csv.txt', delimiter=',', usemask=True)\n"
   ]
  },
  {
   "cell_type": "code",
   "execution_count": 10,
   "metadata": {},
   "outputs": [
    {
     "data": {
      "text/plain": [
       "array([[ 1,  2,  3],\n",
       "       [ 4, 99,  6],\n",
       "       [ 7,  8,  9]], dtype=int8)"
      ]
     },
     "execution_count": 10,
     "metadata": {},
     "output_type": "execute_result"
    }
   ],
   "source": [
    "# One can also fill the values using\n",
    "np.genfromtxt(\"csv.txt\", delimiter=\",\", dtype=np.int8, filling_values=99)"
   ]
  },
  {
   "cell_type": "markdown",
   "metadata": {},
   "source": [
    "Whitespace-delimited"
   ]
  },
  {
   "cell_type": "code",
   "execution_count": 13,
   "metadata": {},
   "outputs": [
    {
     "name": "stdout",
     "output_type": "stream",
     "text": [
      "1   2      3\n",
      "44      6\n",
      "7   88889\n"
     ]
    }
   ],
   "source": [
    "# numpy.genfromtxt can also parse whitespace-delimited data files that have missing values if each field has a fixed width\n",
    "\n",
    "\n",
    "# File with width=4. The data does not have to be justified, the last column can be less than width and delimiting character is required\n",
    "\n",
    "with open('fixedwidth.txt','r') as f:\n",
    "    data = (f.read())\n",
    "print(data)"
   ]
  },
  {
   "cell_type": "code",
   "execution_count": 14,
   "metadata": {},
   "outputs": [
    {
     "name": "stdout",
     "output_type": "stream",
     "text": [
      "1^^^2^^^^^^3\n",
      "44^^^^^^6\n",
      "7^^^88889\n"
     ]
    }
   ],
   "source": [
    "# Showing spaces as ^\n",
    "\n",
    "print(data.replace(\" \", \"^\"))"
   ]
  },
  {
   "cell_type": "code",
   "execution_count": 16,
   "metadata": {},
   "outputs": [
    {
     "data": {
      "text/plain": [
       "array([[1.000e+00, 2.000e+00, 3.000e+00],\n",
       "       [4.400e+01,       nan, 6.000e+00],\n",
       "       [7.000e+00, 8.888e+03, 9.000e+00]])"
      ]
     },
     "execution_count": 16,
     "metadata": {},
     "output_type": "execute_result"
    }
   ],
   "source": [
    "np.genfromtxt('fixedwidth.txt', delimiter=4)\n"
   ]
  },
  {
   "cell_type": "markdown",
   "metadata": {},
   "source": [
    "## Where can the masked arrays be useful"
   ]
  },
  {
   "cell_type": "code",
   "execution_count": 28,
   "metadata": {},
   "outputs": [],
   "source": [
    "# There are a few situations where masked arrays can be more useful than just eliminating the invalid entries of an array\n",
    "\n",
    "# When you want to preserve the values you masked for later processing.without copying the array.\n",
    "\n",
    "import numpy as np\n",
    "import os\n",
    "\n",
    "# The os.getcwd() function returns the current folder; you can change\n",
    "# The filepath variable to point to the folder where you saved the .csv file\n",
    "\n",
    "filepath = os.getcwd()\n",
    "filename = os.path.join(filepath,'time_series_covid19_deaths_US.csv')"
   ]
  },
  {
   "cell_type": "code",
   "execution_count": 29,
   "metadata": {},
   "outputs": [
    {
     "data": {
      "text/plain": [
       "'/home/susearc/Documents/github/Py_QuickNotes/numpy'"
      ]
     },
     "execution_count": 29,
     "metadata": {},
     "output_type": "execute_result"
    }
   ],
   "source": [
    "filepath"
   ]
  },
  {
   "cell_type": "code",
   "execution_count": 30,
   "metadata": {},
   "outputs": [],
   "source": [
    "# The data file contains data of different types and is organized as follows:\n",
    "\n",
    "# The first row is a header line that mostrly describes the data in each column that follow in the rows below, and beginning in ther fourth column, the header is the date of the observation"
   ]
  },
  {
   "cell_type": "code",
   "execution_count": 46,
   "metadata": {},
   "outputs": [],
   "source": [
    "# We will be using skip_header and usecols to read only portions of the data file into each variable Read just the dates for columns 4-18 from the first row\n",
    "\n",
    "dates = np.genfromtxt(\n",
    "    filename,\n",
    "    dtype=np.unicode_,\n",
    "    delimiter=\",\",\n",
    "    max_rows=2,\n",
    "    usecols=range(4, 18),\n",
    "    encoding='utf-8-sig'\n",
    ")"
   ]
  },
  {
   "cell_type": "code",
   "execution_count": 47,
   "metadata": {},
   "outputs": [
    {
     "data": {
      "text/plain": [
       "array([['FIPS', 'Admin2', 'Province_State', 'Country_Region', 'Lat',\n",
       "        'Long_', 'Combined_Key', 'Population', '1/22/20', '1/23/20',\n",
       "        '1/24/20', '1/25/20', '1/26/20', '1/27/20'],\n",
       "       ['1001.0', 'Autauga', 'Alabama', 'US', '32.53952745',\n",
       "        '-86.64408227', '\"Autauga', ' Alabama', ' US\"', '55869', '0',\n",
       "        '0', '0', '0']], dtype='<U14')"
      ]
     },
     "execution_count": 47,
     "metadata": {},
     "output_type": "execute_result"
    }
   ],
   "source": [
    "dates"
   ]
  },
  {
   "cell_type": "code",
   "execution_count": 37,
   "metadata": {},
   "outputs": [],
   "source": [
    "# Read the names of the geographic locations from teh first two\n",
    "# columns, skipping the first six rows\n",
    "\n",
    "locations=np.genfromtxt(\n",
    "    filename,\n",
    "    dtype=np.unicode_,\n",
    "    delimiter=',',\n",
    "    skip_header=6,\n",
    "    usecols=(6,7),\n",
    "    encoding='utf-8-sig'\n",
    ")"
   ]
  },
  {
   "cell_type": "code",
   "execution_count": 38,
   "metadata": {},
   "outputs": [
    {
     "data": {
      "text/plain": [
       "array([['Alabama', 'US'],\n",
       "       ['Alabama', 'US'],\n",
       "       ['Alabama', 'US'],\n",
       "       ...,\n",
       "       ['Wyoming', 'US'],\n",
       "       ['Wyoming', 'US'],\n",
       "       ['Wyoming', 'US']], dtype='<U24')"
      ]
     },
     "execution_count": 38,
     "metadata": {},
     "output_type": "execute_result"
    }
   ],
   "source": [
    "locations"
   ]
  },
  {
   "cell_type": "code",
   "execution_count": 39,
   "metadata": {},
   "outputs": [],
   "source": [
    "# Read the numeric data from just the first 14 days\n",
    "\n",
    "nbcases = np.genfromtxt(\n",
    "    filename,\n",
    "    dtype=np.int_,\n",
    "    delimiter=',',\n",
    "    skip_header=6,\n",
    "    usecols=range(4, 18),\n",
    "    encoding='utf-8-sig'\n",
    ")"
   ]
  },
  {
   "cell_type": "code",
   "execution_count": 40,
   "metadata": {},
   "outputs": [
    {
     "data": {
      "text/plain": [
       "array([[-1, -1, -1, ...,  0,  0,  0],\n",
       "       [-1, -1, -1, ...,  0,  0,  0],\n",
       "       [-1, -1, -1, ...,  0,  0,  0],\n",
       "       ...,\n",
       "       [-1, -1, -1, ...,  0,  0,  0],\n",
       "       [-1, -1, -1, ...,  0,  0,  0],\n",
       "       [-1, -1, -1, ...,  0,  0,  0]])"
      ]
     },
     "execution_count": 40,
     "metadata": {},
     "output_type": "execute_result"
    }
   ],
   "source": [
    "nbcases"
   ]
  },
  {
   "cell_type": "markdown",
   "metadata": {},
   "source": [
    "## Exploring the data"
   ]
  },
  {
   "cell_type": "code",
   "execution_count": 42,
   "metadata": {},
   "outputs": [
    {
     "data": {
      "text/plain": [
       "array(['UID', 'iso2', 'iso3', 'code3', 'FIPS', 'Admin2', 'Province_State',\n",
       "       'Country_Region', 'Lat', 'Long_', 'Combined_Key', 'Population',\n",
       "       '1/22/20', '1/23/20', '1/24/20', '1/25/20', '1/26/20', '1/27/20'],\n",
       "      dtype='<U14')"
      ]
     },
     "execution_count": 42,
     "metadata": {},
     "output_type": "execute_result"
    }
   ],
   "source": [
    "dates"
   ]
  },
  {
   "cell_type": "code",
   "execution_count": 45,
   "metadata": {},
   "outputs": [
    {
     "data": {
      "text/plain": [
       "Text(0.5, 1.0, 'COVID-19 cumulative cases from Jan 21 to Feb 3 ')"
      ]
     },
     "execution_count": 45,
     "metadata": {},
     "output_type": "execute_result"
    },
    {
     "data": {
      "image/png": "[encoded data removed]",
      "text/plain": [
       "<Figure size 640x480 with 1 Axes>"
      ]
     },
     "metadata": {},
     "output_type": "display_data"
    }
   ],
   "source": [
    "# First of all, we can plot the whole set of data we have and see what it looks like. In order to get a readable plot, we select only a few of the dates to show in our x-axis ticks. Not ealso that in our plot command we use nbcases.T since this means we will plot each row of the file as a separate line. We choose to plot a dashed line\n",
    "\n",
    "\n",
    "import matplotlib.pyplot as plt\n",
    "\n",
    "\n",
    "selected_dates = [0,3,11,13]\n",
    "plt.plot(dates, nbcases.T, \"--\")\n",
    "plt.xticks(selected_dates, dates[selected_dates])\n",
    "plt.title('COVID-19 cumulative cases from Jan 21 to Feb 3 ')"
   ]
  },
  {
   "cell_type": "code",
   "execution_count": null,
   "metadata": {},
   "outputs": [],
   "source": []
  }
 ],
 "metadata": {
  "kernelspec": {
   "display_name": "Python 3",
   "language": "python",
   "name": "python3"
  },
  "language_info": {
   "codemirror_mode": {
    "name": "ipython",
    "version": 3
   },
   "file_extension": ".py",
   "mimetype": "text/x-python",
   "name": "python",
   "nbconvert_exporter": "python",
   "pygments_lexer": "ipython3",
   "version": "3.11.6"
  }
 },
 "nbformat": 4,
 "nbformat_minor": 2
}
