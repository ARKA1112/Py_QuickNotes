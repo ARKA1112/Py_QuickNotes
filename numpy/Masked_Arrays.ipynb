{
 "cells": [
  {
   "cell_type": "markdown",
   "metadata": {},
   "source": [
    "## Reading and writing files"
   ]
  },
  {
   "cell_type": "code",
   "execution_count": 62,
   "metadata": {},
   "outputs": [],
   "source": [
    "import numpy as np"
   ]
  },
  {
   "cell_type": "code",
   "execution_count": 63,
   "metadata": {},
   "outputs": [
    {
     "name": "stdout",
     "output_type": "stream",
     "text": [
      "1, 2, 3\n",
      "4,, 6\n",
      "7, 8, 9\n"
     ]
    }
   ],
   "source": [
    "# Reading text and csv files with no missing values use numpy.loadtxt\n",
    "# Reading text and csv files with missing values use numpy.genfromtxt\n",
    "\n",
    "\n",
    "# return a masked array masking out missing values (if usemask=True) or fill in the missing value with the value specified in filling_values\n",
    "\n",
    "\n",
    "# With non-whitespace delimiters\n",
    "\n",
    "with open('csv.txt', 'r') as f:\n",
    "    print(f.read())"
   ]
  },
  {
   "cell_type": "markdown",
   "metadata": {},
   "source": [
    "Masked array output"
   ]
  },
  {
   "cell_type": "code",
   "execution_count": 64,
   "metadata": {},
   "outputs": [
    {
     "data": {
      "text/plain": [
       "masked_array(\n",
       "  data=[[1.0, 2.0, 3.0],\n",
       "        [4.0, --, 6.0],\n",
       "        [7.0, 8.0, 9.0]],\n",
       "  mask=[[False, False, False],\n",
       "        [False,  True, False],\n",
       "        [False, False, False]],\n",
       "  fill_value=1e+20)"
      ]
     },
     "execution_count": 64,
     "metadata": {},
     "output_type": "execute_result"
    }
   ],
   "source": [
    "np.genfromtxt('csv.txt', delimiter=',', usemask=True)\n"
   ]
  },
  {
   "cell_type": "code",
   "execution_count": 65,
   "metadata": {},
   "outputs": [
    {
     "data": {
      "text/plain": [
       "array([[ 1,  2,  3],\n",
       "       [ 4, 99,  6],\n",
       "       [ 7,  8,  9]], dtype=int8)"
      ]
     },
     "execution_count": 65,
     "metadata": {},
     "output_type": "execute_result"
    }
   ],
   "source": [
    "# One can also fill the values using\n",
    "np.genfromtxt(\"csv.txt\", delimiter=\",\", dtype=np.int8, filling_values=99)"
   ]
  },
  {
   "cell_type": "markdown",
   "metadata": {},
   "source": [
    "Whitespace-delimited"
   ]
  },
  {
   "cell_type": "code",
   "execution_count": 66,
   "metadata": {},
   "outputs": [
    {
     "name": "stdout",
     "output_type": "stream",
     "text": [
      "1   2      3\n",
      "44      6\n",
      "7   88889\n"
     ]
    }
   ],
   "source": [
    "# numpy.genfromtxt can also parse whitespace-delimited data files that have missing values if each field has a fixed width\n",
    "\n",
    "\n",
    "# File with width=4. The data does not have to be justified, the last column can be less than width and delimiting character is required\n",
    "\n",
    "with open('fixedwidth.txt','r') as f:\n",
    "    data = (f.read())\n",
    "print(data)"
   ]
  },
  {
   "cell_type": "code",
   "execution_count": 67,
   "metadata": {},
   "outputs": [
    {
     "name": "stdout",
     "output_type": "stream",
     "text": [
      "1^^^2^^^^^^3\n",
      "44^^^^^^6\n",
      "7^^^88889\n"
     ]
    }
   ],
   "source": [
    "# Showing spaces as ^\n",
    "\n",
    "print(data.replace(\" \", \"^\"))"
   ]
  },
  {
   "cell_type": "code",
   "execution_count": 68,
   "metadata": {},
   "outputs": [
    {
     "data": {
      "text/plain": [
       "array([[1.000e+00, 2.000e+00, 3.000e+00],\n",
       "       [4.400e+01,       nan, 6.000e+00],\n",
       "       [7.000e+00, 8.888e+03, 9.000e+00]])"
      ]
     },
     "execution_count": 68,
     "metadata": {},
     "output_type": "execute_result"
    }
   ],
   "source": [
    "np.genfromtxt('fixedwidth.txt', delimiter=4)\n"
   ]
  },
  {
   "cell_type": "markdown",
   "metadata": {},
   "source": [
    "## Where can the masked arrays be useful"
   ]
  },
  {
   "cell_type": "code",
   "execution_count": 69,
   "metadata": {},
   "outputs": [],
   "source": [
    "# There are a few situations where masked arrays can be more useful than just eliminating the invalid entries of an array\n",
    "\n",
    "# When you want to preserve the values you masked for later processing.without copying the array.\n",
    "\n",
    "import numpy as np\n",
    "import os\n",
    "\n",
    "# The os.getcwd() function returns the current folder; you can change\n",
    "# The filepath variable to point to the folder where you saved the .csv file\n",
    "\n",
    "filepath = os.getcwd()\n",
    "filename = os.path.join(filepath,'who_covid_19_sit_rep_time_series.csv')"
   ]
  },
  {
   "cell_type": "code",
   "execution_count": 70,
   "metadata": {},
   "outputs": [
    {
     "data": {
      "text/plain": [
       "'/home/susearc/Documents/github/Py_QuickNotes/numpy'"
      ]
     },
     "execution_count": 70,
     "metadata": {},
     "output_type": "execute_result"
    }
   ],
   "source": [
    "filepath"
   ]
  },
  {
   "cell_type": "code",
   "execution_count": 71,
   "metadata": {},
   "outputs": [],
   "source": [
    "# The data file contains data of different types and is organized as follows:\n",
    "\n",
    "# The first row is a header line that mostrly describes the data in each column that follow in the rows below, and beginning in ther fourth column, the header is the date of the observation"
   ]
  },
  {
   "cell_type": "code",
   "execution_count": 80,
   "metadata": {},
   "outputs": [],
   "source": [
    "# We will be using skip_header and usecols to read only portions of the data file into each variable Read just the dates for columns 4-18 from the first row\n",
    "\n",
    "dates = np.genfromtxt(\n",
    "    filename,\n",
    "    dtype=np.unicode_,\n",
    "    delimiter=\",\",\n",
    "    max_rows=1,\n",
    "    usecols=range(4, 18),\n",
    "    encoding='utf-8-sig'\n",
    ")"
   ]
  },
  {
   "cell_type": "code",
   "execution_count": 81,
   "metadata": {},
   "outputs": [
    {
     "data": {
      "text/plain": [
       "array(['1/21/20', '1/22/20', '1/23/20', '1/24/20', '1/25/20', '1/26/20',\n",
       "       '1/27/20', '1/28/20', '1/29/20', '1/30/20', '1/31/20', '2/1/20',\n",
       "       '2/2/20', '2/3/20'], dtype='<U7')"
      ]
     },
     "execution_count": 81,
     "metadata": {},
     "output_type": "execute_result"
    }
   ],
   "source": [
    "dates"
   ]
  },
  {
   "cell_type": "code",
   "execution_count": 82,
   "metadata": {},
   "outputs": [],
   "source": [
    "# Read the names of the geographic locations from teh first two\n",
    "# columns, skipping the first six rows\n",
    "\n",
    "locations=np.genfromtxt(\n",
    "    filename,\n",
    "    dtype=np.unicode_,\n",
    "    delimiter=',',\n",
    "    skip_header=6,\n",
    "    usecols=(0,1),\n",
    "    encoding='utf-8-sig'\n",
    ")"
   ]
  },
  {
   "cell_type": "code",
   "execution_count": 83,
   "metadata": {},
   "outputs": [
    {
     "data": {
      "text/plain": [
       "array([['Hubei ', 'China'],\n",
       "       ['Guangdong', 'China'],\n",
       "       ['Henan', 'China'],\n",
       "       ['Zhejiang', 'China'],\n",
       "       ['Hunan', 'China'],\n",
       "       ['Anhui', 'China'],\n",
       "       ['Jiangxi', 'China'],\n",
       "       ['Shandong', 'China'],\n",
       "       ['Jiangsu', 'China'],\n",
       "       ['Chongqing', 'China'],\n",
       "       ['Sichuan', 'China'],\n",
       "       ['Heilongjiang', 'China'],\n",
       "       ['Beijing', 'China'],\n",
       "       ['Shanghai', 'China'],\n",
       "       ['Hebei', 'China'],\n",
       "       ['Fujian', 'China'],\n",
       "       ['Guangxi', 'China'],\n",
       "       ['Shaanxi', 'China'],\n",
       "       ['Yunnan', 'China'],\n",
       "       ['Hainan', 'China'],\n",
       "       ['Guizhou', 'China'],\n",
       "       ['Tianjin', 'China'],\n",
       "       ['Shanxi', 'China'],\n",
       "       ['Liaoning', 'China'],\n",
       "       ['Hong Kong', 'China'],\n",
       "       ['Jilin', 'China'],\n",
       "       ['Gansu', 'China'],\n",
       "       ['Xinjiang', 'China'],\n",
       "       ['Inner Mongolia', 'China'],\n",
       "       ['Ningxia', 'China'],\n",
       "       ['Taiwan', 'China'],\n",
       "       ['Qinghai', 'China'],\n",
       "       ['Macau', 'China'],\n",
       "       ['Xizang', 'China'],\n",
       "       ['Unspecified*', 'China'],\n",
       "       ['', 'China'],\n",
       "       ['', 'Singapore'],\n",
       "       ['', 'Philippines'],\n",
       "       ['', 'Japan'],\n",
       "       ['', 'Republic of Korea'],\n",
       "       ['', 'Malaysia'],\n",
       "       ['', 'Australia'],\n",
       "       ['', 'New Zealand'],\n",
       "       ['', 'Vietnam'],\n",
       "       ['', 'Mongolia'],\n",
       "       ['', 'Brunei Darussalam'],\n",
       "       ['', 'Cambodia'],\n",
       "       ['', \"Lao People's Democratic Republic\"],\n",
       "       ['', 'Fiji'],\n",
       "       ['', 'Papua New Guinea'],\n",
       "       ['', 'Guam'],\n",
       "       ['', 'French Polynesia'],\n",
       "       ['', 'Northern Mariana Islands'],\n",
       "       ['', 'New Caledonia'],\n",
       "       ['', 'Russian Federation'],\n",
       "       ['', 'The United Kingdom'],\n",
       "       ['', 'Spain'],\n",
       "       ['', 'Italy'],\n",
       "       ['', 'Germany'],\n",
       "       ['', 'Turkey'],\n",
       "       ['', 'France'],\n",
       "       ['', 'Belgium'],\n",
       "       ['', 'Netherlands'],\n",
       "       ['', 'Belarus'],\n",
       "       ['', 'Sweden'],\n",
       "       ['', 'Portugal'],\n",
       "       ['', 'Switzerland'],\n",
       "       ['', 'Ireland'],\n",
       "       ['', 'Ukraine'],\n",
       "       ['', 'Poland'],\n",
       "       ['', 'Romania'],\n",
       "       ['', 'Israel'],\n",
       "       ['', 'Austria'],\n",
       "       ['', 'Denmark'],\n",
       "       ['', 'Kazakhstan'],\n",
       "       ['', 'Serbia'],\n",
       "       ['', 'Armenia'],\n",
       "       ['', 'Czechia'],\n",
       "       ['', 'Norway'],\n",
       "       ['', 'Republic of Moldova'],\n",
       "       ['', 'Finland'],\n",
       "       ['', 'Azerbaijan'],\n",
       "       ['', 'Luxembourg'],\n",
       "       ['', 'Tajikistan'],\n",
       "       ['', 'Hungary'],\n",
       "       ['', 'Uzbekistan'],\n",
       "       ['', 'Greece'],\n",
       "       ['', 'Bosnia and Herzegovina'],\n",
       "       ['', 'Bulgaria'],\n",
       "       ['', 'North Macedonia'],\n",
       "       ['', 'Croatia'],\n",
       "       ['', 'Estonia'],\n",
       "       ['', 'Kyrgyzstan'],\n",
       "       ['', 'Iceland'],\n",
       "       ['', 'Lithuania'],\n",
       "       ['', 'Slovakia'],\n",
       "       ['', 'Slovenia'],\n",
       "       ['', 'Albania'],\n",
       "       ['', 'Latvia'],\n",
       "       ['', 'Cyprus'],\n",
       "       ['', 'Georgia'],\n",
       "       ['', 'Andorra'],\n",
       "       ['', 'San Marino'],\n",
       "       ['', 'Malta'],\n",
       "       ['', 'Montenegro'],\n",
       "       ['', 'Monaco'],\n",
       "       ['', 'Liechtenstein'],\n",
       "       ['', 'Holy See'],\n",
       "       ['', 'Kosovo'],\n",
       "       ['', 'Isle of Man'],\n",
       "       ['', 'Jersey'],\n",
       "       ['', 'Guernsey'],\n",
       "       ['', 'Faroe Islands'],\n",
       "       ['', 'Gibraltar'],\n",
       "       ['', 'Greenland'],\n",
       "       ['', 'India'],\n",
       "       ['', 'Bangladesh'],\n",
       "       ['', 'Indonesia'],\n",
       "       ['', 'Thailand'],\n",
       "       ['', 'Maldives'],\n",
       "       ['', 'Nepal'],\n",
       "       ['', 'Sri Lanka'],\n",
       "       ['', 'Myanmar'],\n",
       "       ['', 'Bhutan'],\n",
       "       ['', 'Timor-Leste'],\n",
       "       ['', 'Iran'],\n",
       "       ['', 'Saudi Arabia'],\n",
       "       ['', 'Pakistan'],\n",
       "       ['', 'Qatar'],\n",
       "       ['', 'United Arab Emirates'],\n",
       "       ['', 'Kuwait'],\n",
       "       ['', 'Egypt'],\n",
       "       ['', 'Afghanistan'],\n",
       "       ['', 'Oman'],\n",
       "       ['', 'Bahrain'],\n",
       "       ['', 'Morocco'],\n",
       "       ['', 'Iraq'],\n",
       "       ['', 'Sudan'],\n",
       "       ['', 'Djibouti'],\n",
       "       ['', 'Somalia'],\n",
       "       ['', 'Lebanon'],\n",
       "       ['', 'Tunisia'],\n",
       "       ['', 'Jordan'],\n",
       "       ['', 'Yemen'],\n",
       "       ['', 'Libya'],\n",
       "       ['', 'Syrian Arab Republic'],\n",
       "       ['', 'occupied Palestinian territory'],\n",
       "       ['', 'United States of America'],\n",
       "       ['', 'Brazil'],\n",
       "       ['', 'Peru'],\n",
       "       ['', 'Chile'],\n",
       "       ['', 'Canada'],\n",
       "       ['', 'Mexico'],\n",
       "       ['', 'Ecuador'],\n",
       "       ['', 'Colombia'],\n",
       "       ['', 'Dominican Republic'],\n",
       "       ['', 'Argentina'],\n",
       "       ['', 'Panama'],\n",
       "       ['', 'Bolivia'],\n",
       "       ['', 'Honduras'],\n",
       "       ['', 'Guatemala'],\n",
       "       ['', 'El Salvador'],\n",
       "       ['', 'Haiti'],\n",
       "       ['', 'Cuba'],\n",
       "       ['', 'Venezuela'],\n",
       "       ['', 'Costa Rica'],\n",
       "       ['', 'Paraguay'],\n",
       "       ['', 'Nicaragua'],\n",
       "       ['', 'Uruguay'],\n",
       "       ['', 'Jamaica'],\n",
       "       ['', 'Guyana'],\n",
       "       ['', 'Trinidad and Tobago'],\n",
       "       ['', 'Bahamas'],\n",
       "       ['', 'Barbados'],\n",
       "       ['', 'Suriname'],\n",
       "       ['', 'Saint Vincent and the Grenadines'],\n",
       "       ['', 'Antigua and Barbuda'],\n",
       "       ['', 'Grenada'],\n",
       "       ['', 'Saint Lucia'],\n",
       "       ['', 'Belize'],\n",
       "       ['', 'Dominica'],\n",
       "       ['', 'Saint Kitts and Nevis'],\n",
       "       ['', 'Puerto Rico'],\n",
       "       ['', 'French Guiana'],\n",
       "       ['', 'Martinique'],\n",
       "       ['', 'Guadeloupe'],\n",
       "       ['', 'Cayman Islands'],\n",
       "       ['', 'Bermuda'],\n",
       "       ['', 'Aruba'],\n",
       "       ['', 'Sint Maarten'],\n",
       "       ['', 'United States Virgin Islands'],\n",
       "       ['', 'Saint Martin'],\n",
       "       ['', 'Curacao'],\n",
       "       ['', 'Falkland Islands (Malvinas)'],\n",
       "       ['', 'Turks and Caicos Islands'],\n",
       "       ['', 'Montserrat'],\n",
       "       ['', 'British Virgin Islands'],\n",
       "       ['', 'Saint Barthelemy'],\n",
       "       ['', '\"Bonaire'],\n",
       "       ['', 'Anguilla'],\n",
       "       ['', 'Saint Pierre and Miquelon'],\n",
       "       ['', 'South Africa'],\n",
       "       ['', 'Nigeria'],\n",
       "       ['', 'Algeria'],\n",
       "       ['', 'Ghana'],\n",
       "       ['', 'Cameroon'],\n",
       "       ['', 'Guinea'],\n",
       "       ['', 'Senegal'],\n",
       "       ['', 'Democratic Republic of the Congo'],\n",
       "       ['', 'Cote dIvoire'],\n",
       "       ['', 'Gabon'],\n",
       "       ['', 'Kenya'],\n",
       "       ['', 'Guinea-Bissau'],\n",
       "       ['', 'Mali'],\n",
       "       ['', 'Ethiopia'],\n",
       "       ['', 'Zambia'],\n",
       "       ['', 'Central African Republic'],\n",
       "       ['', 'Equatorial Guinea'],\n",
       "       ['', 'South Sudan'],\n",
       "       ['', 'Niger'],\n",
       "       ['', 'Burkina Faso'],\n",
       "       ['', 'Sierra Leone'],\n",
       "       ['', 'Madagascar'],\n",
       "       ['', 'Chad'],\n",
       "       ['', 'Congo'],\n",
       "       ['', 'Mauritania'],\n",
       "       ['', 'United Republic of Tanzania'],\n",
       "       ['', 'Cabo Verde'],\n",
       "       ['', 'Uganda'],\n",
       "       ['', 'Togo'],\n",
       "       ['', 'Rwanda'],\n",
       "       ['', 'Malawi'],\n",
       "       ['', 'Mauritius'],\n",
       "       ['', 'Liberia'],\n",
       "       ['', 'Sao Tome and Principe'],\n",
       "       ['', 'Eswatini'],\n",
       "       ['', 'Mozambique'],\n",
       "       ['', 'Benin'],\n",
       "       ['', 'Zimbabwe'],\n",
       "       ['', 'Angola'],\n",
       "       ['', 'Burundi'],\n",
       "       ['', 'Comoros'],\n",
       "       ['', 'Eritrea'],\n",
       "       ['', 'Botswana'],\n",
       "       ['', 'Gambia'],\n",
       "       ['', 'Namibia'],\n",
       "       ['', 'Seychelles'],\n",
       "       ['', 'Lesotho'],\n",
       "       ['', 'Mayotte'],\n",
       "       ['', 'Reunion'],\n",
       "       ['Case on an international conveyance', 'Other'],\n",
       "       ['Deaths', 'Other'],\n",
       "       ['Confirmed', ''],\n",
       "       ['Deaths', ''],\n",
       "       ['Confirmed', ''],\n",
       "       ['Deaths', ''],\n",
       "       ['Confirmed', ''],\n",
       "       ['Deaths', ''],\n",
       "       ['Confirmed', ''],\n",
       "       ['Deaths', ''],\n",
       "       ['Confirmed', ''],\n",
       "       ['Deaths', ''],\n",
       "       ['Confirmed', ''],\n",
       "       ['Deaths', '']], dtype='<U35')"
      ]
     },
     "execution_count": 83,
     "metadata": {},
     "output_type": "execute_result"
    }
   ],
   "source": [
    "locations"
   ]
  },
  {
   "cell_type": "code",
   "execution_count": 84,
   "metadata": {},
   "outputs": [],
   "source": [
    "# Read the numeric data from just the first 14 days\n",
    "\n",
    "nbcases = np.genfromtxt(\n",
    "    filename,\n",
    "    dtype=np.int_,\n",
    "    delimiter=',',\n",
    "    skip_header=6,\n",
    "    usecols=range(4, 18),\n",
    "    encoding='utf-8-sig'\n",
    ")"
   ]
  },
  {
   "cell_type": "code",
   "execution_count": 85,
   "metadata": {},
   "outputs": [
    {
     "data": {
      "text/plain": [
       "array([[  258,   270,   375, ...,  7153,  9074, 11177],\n",
       "       [   14,    17,    26, ...,   520,   604,   683],\n",
       "       [   -1,     1,     1, ...,   422,   493,   566],\n",
       "       ...,\n",
       "       [   -1,    -1,    -1, ...,    -1,    -1,    -1],\n",
       "       [   -1,    -1,    -1, ...,    -1,    -1,    -1],\n",
       "       [   -1,    -1,    -1, ...,    -1,    -1,    -1]])"
      ]
     },
     "execution_count": 85,
     "metadata": {},
     "output_type": "execute_result"
    }
   ],
   "source": [
    "nbcases"
   ]
  },
  {
   "cell_type": "markdown",
   "metadata": {},
   "source": [
    "## Exploring the data"
   ]
  },
  {
   "cell_type": "code",
   "execution_count": 86,
   "metadata": {},
   "outputs": [
    {
     "data": {
      "text/plain": [
       "array(['1/21/20', '1/22/20', '1/23/20', '1/24/20', '1/25/20', '1/26/20',\n",
       "       '1/27/20', '1/28/20', '1/29/20', '1/30/20', '1/31/20', '2/1/20',\n",
       "       '2/2/20', '2/3/20'], dtype='<U7')"
      ]
     },
     "execution_count": 86,
     "metadata": {},
     "output_type": "execute_result"
    }
   ],
   "source": [
    "dates"
   ]
  },
  {
   "cell_type": "code",
   "execution_count": 87,
   "metadata": {},
   "outputs": [
    {
     "data": {
      "text/plain": [
       "Text(0.5, 1.0, 'COVID-19 cumulative cases from Jan 21 to Feb 3 ')"
      ]
     },
     "execution_count": 87,
     "metadata": {},
     "output_type": "execute_result"
    },
    {
     "data": {
      "image/png": "[encoded data removed]",
      "text/plain": [
       "<Figure size 640x480 with 1 Axes>"
      ]
     },
     "metadata": {},
     "output_type": "display_data"
    }
   ],
   "source": [
    "# First of all, we can plot the whole set of data we have and see what it looks like. In order to get a readable plot, we select only a few of the dates to show in our x-axis ticks. Not ealso that in our plot command we use nbcases.T since this means we will plot each row of the file as a separate line. We choose to plot a dashed line\n",
    "\n",
    "\n",
    "import matplotlib.pyplot as plt\n",
    "\n",
    "\n",
    "selected_dates = [0,3,11,13]\n",
    "plt.plot(dates, nbcases.T, \"--\")\n",
    "plt.xticks(selected_dates, dates[selected_dates])\n",
    "plt.title('COVID-19 cumulative cases from Jan 21 to Feb 3 ')"
   ]
  },
  {
   "cell_type": "code",
   "execution_count": 88,
   "metadata": {},
   "outputs": [
    {
     "data": {
      "text/plain": [
       "array([['Hubei ', 'China'],\n",
       "       ['Guangdong', 'China'],\n",
       "       ['Henan', 'China'],\n",
       "       ['Zhejiang', 'China'],\n",
       "       ['Hunan', 'China'],\n",
       "       ['Anhui', 'China'],\n",
       "       ['Jiangxi', 'China'],\n",
       "       ['Shandong', 'China'],\n",
       "       ['Jiangsu', 'China'],\n",
       "       ['Chongqing', 'China'],\n",
       "       ['Sichuan', 'China'],\n",
       "       ['Heilongjiang', 'China'],\n",
       "       ['Beijing', 'China'],\n",
       "       ['Shanghai', 'China'],\n",
       "       ['Hebei', 'China'],\n",
       "       ['Fujian', 'China'],\n",
       "       ['Guangxi', 'China'],\n",
       "       ['Shaanxi', 'China'],\n",
       "       ['Yunnan', 'China'],\n",
       "       ['Hainan', 'China'],\n",
       "       ['Guizhou', 'China'],\n",
       "       ['Tianjin', 'China'],\n",
       "       ['Shanxi', 'China'],\n",
       "       ['Liaoning', 'China'],\n",
       "       ['Hong Kong', 'China'],\n",
       "       ['Jilin', 'China'],\n",
       "       ['Gansu', 'China'],\n",
       "       ['Xinjiang', 'China'],\n",
       "       ['Inner Mongolia', 'China'],\n",
       "       ['Ningxia', 'China'],\n",
       "       ['Taiwan', 'China'],\n",
       "       ['Qinghai', 'China'],\n",
       "       ['Macau', 'China'],\n",
       "       ['Xizang', 'China'],\n",
       "       ['Unspecified*', 'China'],\n",
       "       ['', 'China'],\n",
       "       ['', 'Singapore'],\n",
       "       ['', 'Philippines'],\n",
       "       ['', 'Japan'],\n",
       "       ['', 'Republic of Korea'],\n",
       "       ['', 'Malaysia'],\n",
       "       ['', 'Australia'],\n",
       "       ['', 'New Zealand'],\n",
       "       ['', 'Vietnam'],\n",
       "       ['', 'Mongolia'],\n",
       "       ['', 'Brunei Darussalam'],\n",
       "       ['', 'Cambodia'],\n",
       "       ['', \"Lao People's Democratic Republic\"],\n",
       "       ['', 'Fiji'],\n",
       "       ['', 'Papua New Guinea'],\n",
       "       ['', 'Guam'],\n",
       "       ['', 'French Polynesia'],\n",
       "       ['', 'Northern Mariana Islands'],\n",
       "       ['', 'New Caledonia'],\n",
       "       ['', 'Russian Federation'],\n",
       "       ['', 'The United Kingdom'],\n",
       "       ['', 'Spain'],\n",
       "       ['', 'Italy'],\n",
       "       ['', 'Germany'],\n",
       "       ['', 'Turkey'],\n",
       "       ['', 'France'],\n",
       "       ['', 'Belgium'],\n",
       "       ['', 'Netherlands'],\n",
       "       ['', 'Belarus'],\n",
       "       ['', 'Sweden'],\n",
       "       ['', 'Portugal'],\n",
       "       ['', 'Switzerland'],\n",
       "       ['', 'Ireland'],\n",
       "       ['', 'Ukraine'],\n",
       "       ['', 'Poland'],\n",
       "       ['', 'Romania'],\n",
       "       ['', 'Israel'],\n",
       "       ['', 'Austria'],\n",
       "       ['', 'Denmark'],\n",
       "       ['', 'Kazakhstan'],\n",
       "       ['', 'Serbia'],\n",
       "       ['', 'Armenia'],\n",
       "       ['', 'Czechia'],\n",
       "       ['', 'Norway'],\n",
       "       ['', 'Republic of Moldova'],\n",
       "       ['', 'Finland'],\n",
       "       ['', 'Azerbaijan'],\n",
       "       ['', 'Luxembourg'],\n",
       "       ['', 'Tajikistan'],\n",
       "       ['', 'Hungary'],\n",
       "       ['', 'Uzbekistan'],\n",
       "       ['', 'Greece'],\n",
       "       ['', 'Bosnia and Herzegovina'],\n",
       "       ['', 'Bulgaria'],\n",
       "       ['', 'North Macedonia'],\n",
       "       ['', 'Croatia'],\n",
       "       ['', 'Estonia'],\n",
       "       ['', 'Kyrgyzstan'],\n",
       "       ['', 'Iceland'],\n",
       "       ['', 'Lithuania'],\n",
       "       ['', 'Slovakia'],\n",
       "       ['', 'Slovenia'],\n",
       "       ['', 'Albania'],\n",
       "       ['', 'Latvia'],\n",
       "       ['', 'Cyprus'],\n",
       "       ['', 'Georgia'],\n",
       "       ['', 'Andorra'],\n",
       "       ['', 'San Marino'],\n",
       "       ['', 'Malta'],\n",
       "       ['', 'Montenegro'],\n",
       "       ['', 'Monaco'],\n",
       "       ['', 'Liechtenstein'],\n",
       "       ['', 'Holy See'],\n",
       "       ['', 'Kosovo'],\n",
       "       ['', 'Isle of Man'],\n",
       "       ['', 'Jersey'],\n",
       "       ['', 'Guernsey'],\n",
       "       ['', 'Faroe Islands'],\n",
       "       ['', 'Gibraltar'],\n",
       "       ['', 'Greenland'],\n",
       "       ['', 'India'],\n",
       "       ['', 'Bangladesh'],\n",
       "       ['', 'Indonesia'],\n",
       "       ['', 'Thailand'],\n",
       "       ['', 'Maldives'],\n",
       "       ['', 'Nepal'],\n",
       "       ['', 'Sri Lanka'],\n",
       "       ['', 'Myanmar'],\n",
       "       ['', 'Bhutan'],\n",
       "       ['', 'Timor-Leste'],\n",
       "       ['', 'Iran'],\n",
       "       ['', 'Saudi Arabia'],\n",
       "       ['', 'Pakistan'],\n",
       "       ['', 'Qatar'],\n",
       "       ['', 'United Arab Emirates'],\n",
       "       ['', 'Kuwait'],\n",
       "       ['', 'Egypt'],\n",
       "       ['', 'Afghanistan'],\n",
       "       ['', 'Oman'],\n",
       "       ['', 'Bahrain'],\n",
       "       ['', 'Morocco'],\n",
       "       ['', 'Iraq'],\n",
       "       ['', 'Sudan'],\n",
       "       ['', 'Djibouti'],\n",
       "       ['', 'Somalia'],\n",
       "       ['', 'Lebanon'],\n",
       "       ['', 'Tunisia'],\n",
       "       ['', 'Jordan'],\n",
       "       ['', 'Yemen'],\n",
       "       ['', 'Libya'],\n",
       "       ['', 'Syrian Arab Republic'],\n",
       "       ['', 'occupied Palestinian territory'],\n",
       "       ['', 'United States of America'],\n",
       "       ['', 'Brazil'],\n",
       "       ['', 'Peru'],\n",
       "       ['', 'Chile'],\n",
       "       ['', 'Canada'],\n",
       "       ['', 'Mexico'],\n",
       "       ['', 'Ecuador'],\n",
       "       ['', 'Colombia'],\n",
       "       ['', 'Dominican Republic'],\n",
       "       ['', 'Argentina'],\n",
       "       ['', 'Panama'],\n",
       "       ['', 'Bolivia'],\n",
       "       ['', 'Honduras'],\n",
       "       ['', 'Guatemala'],\n",
       "       ['', 'El Salvador'],\n",
       "       ['', 'Haiti'],\n",
       "       ['', 'Cuba'],\n",
       "       ['', 'Venezuela'],\n",
       "       ['', 'Costa Rica'],\n",
       "       ['', 'Paraguay'],\n",
       "       ['', 'Nicaragua'],\n",
       "       ['', 'Uruguay'],\n",
       "       ['', 'Jamaica'],\n",
       "       ['', 'Guyana'],\n",
       "       ['', 'Trinidad and Tobago'],\n",
       "       ['', 'Bahamas'],\n",
       "       ['', 'Barbados'],\n",
       "       ['', 'Suriname'],\n",
       "       ['', 'Saint Vincent and the Grenadines'],\n",
       "       ['', 'Antigua and Barbuda'],\n",
       "       ['', 'Grenada'],\n",
       "       ['', 'Saint Lucia'],\n",
       "       ['', 'Belize'],\n",
       "       ['', 'Dominica'],\n",
       "       ['', 'Saint Kitts and Nevis'],\n",
       "       ['', 'Puerto Rico'],\n",
       "       ['', 'French Guiana'],\n",
       "       ['', 'Martinique'],\n",
       "       ['', 'Guadeloupe'],\n",
       "       ['', 'Cayman Islands'],\n",
       "       ['', 'Bermuda'],\n",
       "       ['', 'Aruba'],\n",
       "       ['', 'Sint Maarten'],\n",
       "       ['', 'United States Virgin Islands'],\n",
       "       ['', 'Saint Martin'],\n",
       "       ['', 'Curacao'],\n",
       "       ['', 'Falkland Islands (Malvinas)'],\n",
       "       ['', 'Turks and Caicos Islands'],\n",
       "       ['', 'Montserrat'],\n",
       "       ['', 'British Virgin Islands'],\n",
       "       ['', 'Saint Barthelemy'],\n",
       "       ['', '\"Bonaire'],\n",
       "       ['', 'Anguilla'],\n",
       "       ['', 'Saint Pierre and Miquelon'],\n",
       "       ['', 'South Africa'],\n",
       "       ['', 'Nigeria'],\n",
       "       ['', 'Algeria'],\n",
       "       ['', 'Ghana'],\n",
       "       ['', 'Cameroon'],\n",
       "       ['', 'Guinea'],\n",
       "       ['', 'Senegal'],\n",
       "       ['', 'Democratic Republic of the Congo'],\n",
       "       ['', 'Cote dIvoire'],\n",
       "       ['', 'Gabon'],\n",
       "       ['', 'Kenya'],\n",
       "       ['', 'Guinea-Bissau'],\n",
       "       ['', 'Mali'],\n",
       "       ['', 'Ethiopia'],\n",
       "       ['', 'Zambia'],\n",
       "       ['', 'Central African Republic'],\n",
       "       ['', 'Equatorial Guinea'],\n",
       "       ['', 'South Sudan'],\n",
       "       ['', 'Niger'],\n",
       "       ['', 'Burkina Faso'],\n",
       "       ['', 'Sierra Leone'],\n",
       "       ['', 'Madagascar'],\n",
       "       ['', 'Chad'],\n",
       "       ['', 'Congo'],\n",
       "       ['', 'Mauritania'],\n",
       "       ['', 'United Republic of Tanzania'],\n",
       "       ['', 'Cabo Verde'],\n",
       "       ['', 'Uganda'],\n",
       "       ['', 'Togo'],\n",
       "       ['', 'Rwanda'],\n",
       "       ['', 'Malawi'],\n",
       "       ['', 'Mauritius'],\n",
       "       ['', 'Liberia'],\n",
       "       ['', 'Sao Tome and Principe'],\n",
       "       ['', 'Eswatini'],\n",
       "       ['', 'Mozambique'],\n",
       "       ['', 'Benin'],\n",
       "       ['', 'Zimbabwe'],\n",
       "       ['', 'Angola'],\n",
       "       ['', 'Burundi'],\n",
       "       ['', 'Comoros'],\n",
       "       ['', 'Eritrea'],\n",
       "       ['', 'Botswana'],\n",
       "       ['', 'Gambia'],\n",
       "       ['', 'Namibia'],\n",
       "       ['', 'Seychelles'],\n",
       "       ['', 'Lesotho'],\n",
       "       ['', 'Mayotte'],\n",
       "       ['', 'Reunion'],\n",
       "       ['Case on an international conveyance', 'Other'],\n",
       "       ['Deaths', 'Other'],\n",
       "       ['Confirmed', ''],\n",
       "       ['Deaths', ''],\n",
       "       ['Confirmed', ''],\n",
       "       ['Deaths', ''],\n",
       "       ['Confirmed', ''],\n",
       "       ['Deaths', ''],\n",
       "       ['Confirmed', ''],\n",
       "       ['Deaths', ''],\n",
       "       ['Confirmed', ''],\n",
       "       ['Deaths', ''],\n",
       "       ['Confirmed', ''],\n",
       "       ['Deaths', '']], dtype='<U35')"
      ]
     },
     "execution_count": 88,
     "metadata": {},
     "output_type": "execute_result"
    }
   ],
   "source": [
    "locations"
   ]
  },
  {
   "cell_type": "code",
   "execution_count": 89,
   "metadata": {},
   "outputs": [],
   "source": [
    "# This graph has a strange shape form jan 24th to feb 1st. It would be interesting to know where this data comes from. If we ook at the locations array we extracted from teh .csv file, we can seee that we have two columns. Where the first would contain regions and the second would contain the name of the country. However only the first few rows contain data for the first column (province names in China). Following that we only have country names. SO it would make sense to group all the data form China into a single row. For this we will select from the nbcases array only the rows for which the second entry of the locations array corresponds to China. Next we will use the numpy.sum funciton to sum all teh selected rows \n",
    "\n",
    "\n",
    "total_row = 35\n",
    "\n",
    "locations = np.delete(locations, (total_row), axis=0)\n",
    "nbcases = np.delete(nbcases, (total_row), axis=0)\n",
    "\n",
    "china_total = nbcases[locations[:, 1] == \"China\"].sum(axis=0)"
   ]
  },
  {
   "cell_type": "markdown",
   "metadata": {},
   "source": [
    "## Missing data"
   ]
  },
  {
   "cell_type": "code",
   "execution_count": 91,
   "metadata": {},
   "outputs": [
    {
     "data": {
      "text/plain": [
       "array([[  258,   270,   375, ...,  7153,  9074, 11177],\n",
       "       [   14,    17,    26, ...,   520,   604,   683],\n",
       "       [   -1,     1,     1, ...,   422,   493,   566],\n",
       "       ...,\n",
       "       [   -1,    -1,    -1, ...,    -1,    -1,    -1],\n",
       "       [   -1,    -1,    -1, ...,    -1,    -1,    -1],\n",
       "       [   -1,    -1,    -1, ...,    -1,    -1,    -1]])"
      ]
     },
     "execution_count": 91,
     "metadata": {},
     "output_type": "execute_result"
    }
   ],
   "source": [
    "nbcases"
   ]
  },
  {
   "cell_type": "code",
   "execution_count": 92,
   "metadata": {},
   "outputs": [],
   "source": [
    "## all the values of -1 are coming from numpy.genfromtxt attempting to read missing data from the original .csv file. However we would love to skip this value so it doesnt interfere in our analysis. After importing the numpy.ma module, we will create a new array, this time masking the invalid values:\n",
    "\n",
    "from numpy import ma\n",
    "nbcases_ma = ma.masked_values(nbcases, -1)"
   ]
  },
  {
   "cell_type": "code",
   "execution_count": 93,
   "metadata": {},
   "outputs": [
    {
     "data": {
      "text/plain": [
       "masked_array(\n",
       "  data=[[258, 270, 375, ..., 7153, 9074, 11177],\n",
       "        [14, 17, 26, ..., 520, 604, 683],\n",
       "        [--, 1, 1, ..., 422, 493, 566],\n",
       "        ...,\n",
       "        [--, --, --, ..., --, --, --],\n",
       "        [--, --, --, ..., --, --, --],\n",
       "        [--, --, --, ..., --, --, --]],\n",
       "  mask=[[False, False, False, ..., False, False, False],\n",
       "        [False, False, False, ..., False, False, False],\n",
       "        [ True, False, False, ..., False, False, False],\n",
       "        ...,\n",
       "        [ True,  True,  True, ...,  True,  True,  True],\n",
       "        [ True,  True,  True, ...,  True,  True,  True],\n",
       "        [ True,  True,  True, ...,  True,  True,  True]],\n",
       "  fill_value=-1)"
      ]
     },
     "execution_count": 93,
     "metadata": {},
     "output_type": "execute_result"
    }
   ],
   "source": [
    "nbcases_ma"
   ]
  },
  {
   "cell_type": "code",
   "execution_count": 94,
   "metadata": {},
   "outputs": [
    {
     "data": {
      "text/plain": [
       "Text(0.5, 1.0, 'COVID-19 cumulative cases from jan 21 to feb 3')"
      ]
     },
     "execution_count": 94,
     "metadata": {},
     "output_type": "execute_result"
    },
    {
     "data": {
      "image/png": "[encoded data removed]",
      "text/plain": [
       "<Figure size 640x480 with 1 Axes>"
      ]
     },
     "metadata": {},
     "output_type": "display_data"
    }
   ],
   "source": [
    "# we can see that this is a different kind of array. As mentioned in the introduction, it has three attributes (data, mask) and fill_value_. Keep in mind that the mask attribute  has a True value for elemnts corresponding to invalid data\n",
    "\n",
    "plt.plot(dates, nbcases_ma[1:].T, \"--\")\n",
    "plt.xticks(selected_dates, dates[selected_dates])\n",
    "plt.title('COVID-19 cumulative cases from jan 21 to feb 3')"
   ]
  },
  {
   "cell_type": "code",
   "execution_count": 95,
   "metadata": {},
   "outputs": [
    {
     "data": {
      "text/plain": [
       "masked_array(data=[278, 309, 574, 835, 10, 10, 17, 22, 23, 25, 28, 11821,\n",
       "                   14411, 17238],\n",
       "             mask=[False, False, False, False, False, False, False, False,\n",
       "                   False, False, False, False, False, False],\n",
       "       fill_value=999999)"
      ]
     },
     "execution_count": 95,
     "metadata": {},
     "output_type": "execute_result"
    }
   ],
   "source": [
    "#Now that our data has been masked lets try summing up all the cases in China\n",
    "\n",
    "china_masked = nbcases_ma[locations[:,1] == \"China\"].sum(axis=0)\n",
    "china_masked"
   ]
  },
  {
   "cell_type": "code",
   "execution_count": 96,
   "metadata": {},
   "outputs": [
    {
     "data": {
      "text/plain": [
       "array([  278,   309,   574,   835,    10,    10,    17,    22,    23,\n",
       "          25,    28, 11821, 14411, 17238])"
      ]
     },
     "execution_count": 96,
     "metadata": {},
     "output_type": "execute_result"
    }
   ],
   "source": [
    "# the  china_masked is a masked array, sot it has a different data structure than a regular numpy array.Now we can access its data directly by using the .data attribute\n",
    "\n",
    "\n",
    "china_total = china_masked.data\n",
    "china_total"
   ]
  },
  {
   "cell_type": "code",
   "execution_count": 97,
   "metadata": {},
   "outputs": [],
   "source": [
    "# That is better: no more negative values. However we can still see that for some day, the cumulative number of cases seems to go down , which does not agree with the definition of cumulative data. If we look more closely at the data we can see whta in the period where there was missing data in mainland china, there was valid data for HongKong, Taiwan Macau and \"Unspecified \" regions of China. Maybe we can remove those from the total sum of cases in China, to get a better understanding of the data\n",
    "\n",
    "\n",
    "china_mask = (\n",
    "    (locations[:,1] == \"China\")\n",
    "    & (locations[:, 0] != \"Hong Kong\")\n",
    "    & (locations[:, 0] != \"Taiwan\")\n",
    "    & (locations[:, 0] != \"Macau\")\n",
    "    & (locations[:, 0] != \"Unspecified\")\n",
    ")"
   ]
  },
  {
   "cell_type": "code",
   "execution_count": 98,
   "metadata": {},
   "outputs": [
    {
     "data": {
      "text/plain": [
       "(array([ 0,  1,  2,  3,  4,  5,  6,  7,  8,  9, 10, 11, 12, 13, 14, 15, 16,\n",
       "        17, 18, 19, 20, 21, 22, 23, 25, 26, 27, 28, 29, 31, 33, 34]),)"
      ]
     },
     "execution_count": 98,
     "metadata": {},
     "output_type": "execute_result"
    }
   ],
   "source": [
    "china_mask.nonzero()"
   ]
  },
  {
   "cell_type": "code",
   "execution_count": 99,
   "metadata": {},
   "outputs": [
    {
     "data": {
      "text/plain": [
       "masked_array(data=[278, 308, 571, 830, --, --, --, --, --, --, --, 11791,\n",
       "                   14380, 17205],\n",
       "             mask=[False, False, False, False,  True,  True,  True,  True,\n",
       "                    True,  True,  True, False, False, False],\n",
       "       fill_value=999999)"
      ]
     },
     "execution_count": 99,
     "metadata": {},
     "output_type": "execute_result"
    }
   ],
   "source": [
    "# Now we can correctly sum entries for mainland China:\n",
    "\n",
    "china_total = nbcases_ma[china_mask].sum(axis=0)\n",
    "china_total"
   ]
  },
  {
   "cell_type": "code",
   "execution_count": 100,
   "metadata": {},
   "outputs": [
    {
     "data": {
      "text/plain": [
       "Text(0.5, 1.0, 'COVID-19 cumulative cases from jan 21 to feb 3 - Mainland China')"
      ]
     },
     "execution_count": 100,
     "metadata": {},
     "output_type": "execute_result"
    },
    {
     "data": {
      "image/png": "[encoded data removed]",
      "text/plain": [
       "<Figure size 640x480 with 1 Axes>"
      ]
     },
     "metadata": {},
     "output_type": "display_data"
    }
   ],
   "source": [
    "plt.plot(dates, china_total.T, \"--\")\n",
    "plt.xticks(selected_dates, dates[selected_dates])\n",
    "plt.title(\"COVID-19 cumulative cases from jan 21 to feb 3 - Mainland China\")\n"
   ]
  },
  {
   "cell_type": "code",
   "execution_count": 101,
   "metadata": {},
   "outputs": [],
   "source": [
    "# Quite clear that masked arrays are the right solution here. We cannot represent the missing data wihout mischaracterizing the evolution of the curve."
   ]
  },
  {
   "cell_type": "markdown",
   "metadata": {},
   "source": [
    "## Fitting Data"
   ]
  },
  {
   "cell_type": "code",
   "execution_count": 102,
   "metadata": {},
   "outputs": [
    {
     "data": {
      "text/plain": [
       "masked_array(data=[--, --, --, --, --, --, --],\n",
       "             mask=[ True,  True,  True,  True,  True,  True,  True],\n",
       "       fill_value=999999,\n",
       "            dtype=int64)"
      ]
     },
     "execution_count": 102,
     "metadata": {},
     "output_type": "execute_result"
    }
   ],
   "source": [
    "# One possibility we can think of is to interpolate the missing data to estimate the number of cases in late jan. Observe that we can select the masked elements using the .mask attribute:\n",
    "\n",
    "\n",
    "china_total.mask\n",
    "invalid = china_total[china_total.mask]\n",
    "invalid"
   ]
  },
  {
   "cell_type": "code",
   "execution_count": 103,
   "metadata": {},
   "outputs": [
    {
     "data": {
      "text/plain": [
       "masked_array(data=[278, 308, 571, 830, 11791, 14380, 17205],\n",
       "             mask=[False, False, False, False, False, False, False],\n",
       "       fill_value=999999)"
      ]
     },
     "execution_count": 103,
     "metadata": {},
     "output_type": "execute_result"
    }
   ],
   "source": [
    "# We can also access teh valid entries by using the logival negation for this mask:\n",
    "\n",
    "valid = china_total[~china_total.mask]\n",
    "valid"
   ]
  },
  {
   "cell_type": "code",
   "execution_count": 104,
   "metadata": {},
   "outputs": [
    {
     "data": {
      "text/plain": [
       "array(['1/21/20', '1/22/20', '1/23/20', '1/24/20', '2/1/20', '2/2/20',\n",
       "       '2/3/20'], dtype='<U7')"
      ]
     },
     "execution_count": 104,
     "metadata": {},
     "output_type": "execute_result"
    }
   ],
   "source": [
    "# Now if we want to creat a very simple approximation for this data, we should take into account the valid entries around the invalid ones. SO first lets  select the dates for which the data is valid. Note that we can use the mask from the china_toal masked array to index the dates array:\n",
    "\n",
    "\n",
    "dates[~china_total.mask]"
   ]
  },
  {
   "cell_type": "code",
   "execution_count": 106,
   "metadata": {},
   "outputs": [
    {
     "data": {
      "text/plain": [
       "[<matplotlib.lines.Line2D at 0x7fb1440a6790>]"
      ]
     },
     "execution_count": 106,
     "metadata": {},
     "output_type": "execute_result"
    },
    {
     "data": {
      "image/png": "[encoded data removed]",
      "text/plain": [
       "<Figure size 640x480 with 1 Axes>"
      ]
     },
     "metadata": {},
     "output_type": "display_data"
    }
   ],
   "source": [
    "# Finally we can also use the fitting funcitonality of the np.polynomial package to create a cubic polynomial model that fits the data as best as possibile:\n",
    "\n",
    "\n",
    "t = np.arange(len(china_total))\n",
    "model = np.polynomial.Polynomial.fit(t[~china_total.mask], valid, deg=3)\n",
    "plt.plot(t, china_total)\n",
    "plt.plot(t, model(t), \"--\")"
   ]
  },
  {
   "cell_type": "code",
   "execution_count": 108,
   "metadata": {},
   "outputs": [
    {
     "ename": "ConversionError",
     "evalue": "Failed to convert value(s) to axis units: ['Mainland China', 'cubic estimate', '7 days after start']",
     "output_type": "error",
     "traceback": [
      "\u001b[0;31m---------------------------------------------------------------------------\u001b[0m",
      "\u001b[0;31mValueError\u001b[0m                                Traceback (most recent call last)",
      "File \u001b[0;32m~/Macos/py3.11/lib/python3.11/site-packages/matplotlib/axis.py:1769\u001b[0m, in \u001b[0;36mAxis.convert_units\u001b[0;34m(self, x)\u001b[0m\n\u001b[1;32m   1768\u001b[0m \u001b[39mtry\u001b[39;00m:\n\u001b[0;32m-> 1769\u001b[0m     ret \u001b[39m=\u001b[39m \u001b[39mself\u001b[39;49m\u001b[39m.\u001b[39;49mconverter\u001b[39m.\u001b[39;49mconvert(x, \u001b[39mself\u001b[39;49m\u001b[39m.\u001b[39;49munits, \u001b[39mself\u001b[39;49m)\n\u001b[1;32m   1770\u001b[0m \u001b[39mexcept\u001b[39;00m \u001b[39mException\u001b[39;00m \u001b[39mas\u001b[39;00m e:\n",
      "File \u001b[0;32m~/Macos/py3.11/lib/python3.11/site-packages/matplotlib/category.py:49\u001b[0m, in \u001b[0;36mStrCategoryConverter.convert\u001b[0;34m(value, unit, axis)\u001b[0m\n\u001b[1;32m     48\u001b[0m \u001b[39mif\u001b[39;00m unit \u001b[39mis\u001b[39;00m \u001b[39mNone\u001b[39;00m:\n\u001b[0;32m---> 49\u001b[0m     \u001b[39mraise\u001b[39;00m \u001b[39mValueError\u001b[39;00m(\n\u001b[1;32m     50\u001b[0m         \u001b[39m'\u001b[39m\u001b[39mMissing category information for StrCategoryConverter; \u001b[39m\u001b[39m'\u001b[39m\n\u001b[1;32m     51\u001b[0m         \u001b[39m'\u001b[39m\u001b[39mthis might be caused by unintendedly mixing categorical and \u001b[39m\u001b[39m'\u001b[39m\n\u001b[1;32m     52\u001b[0m         \u001b[39m'\u001b[39m\u001b[39mnumeric data\u001b[39m\u001b[39m'\u001b[39m)\n\u001b[1;32m     53\u001b[0m StrCategoryConverter\u001b[39m.\u001b[39m_validate_unit(unit)\n",
      "\u001b[0;31mValueError\u001b[0m: Missing category information for StrCategoryConverter; this might be caused by unintendedly mixing categorical and numeric data",
      "\nThe above exception was the direct cause of the following exception:\n",
      "\u001b[0;31mConversionError\u001b[0m                           Traceback (most recent call last)",
      "\u001b[1;32m/home/susearc/Documents/github/Py_QuickNotes/numpy/Masked_Arrays.ipynb Cell 43\u001b[0m line \u001b[0;36m8\n\u001b[1;32m      <a href='vscode-notebook-cell:/home/susearc/Documents/github/Py_QuickNotes/numpy/Masked_Arrays.ipynb#X63sZmlsZQ%3D%3D?line=5'>6</a>\u001b[0m plt\u001b[39m.\u001b[39mplot(\u001b[39m7\u001b[39m, model(\u001b[39m7\u001b[39m), \u001b[39m'\u001b[39m\u001b[39mr*\u001b[39m\u001b[39m'\u001b[39m)\n\u001b[1;32m      <a href='vscode-notebook-cell:/home/susearc/Documents/github/Py_QuickNotes/numpy/Masked_Arrays.ipynb#X63sZmlsZQ%3D%3D?line=6'>7</a>\u001b[0m plt\u001b[39m.\u001b[39mxticks([\u001b[39m0\u001b[39m,\u001b[39m7\u001b[39m,\u001b[39m13\u001b[39m], dates[[\u001b[39m0\u001b[39m,\u001b[39m7\u001b[39m,\u001b[39m13\u001b[39m]])\n\u001b[0;32m----> <a href='vscode-notebook-cell:/home/susearc/Documents/github/Py_QuickNotes/numpy/Masked_Arrays.ipynb#X63sZmlsZQ%3D%3D?line=7'>8</a>\u001b[0m plt\u001b[39m.\u001b[39;49myticks([\u001b[39m'\u001b[39;49m\u001b[39mMainland China\u001b[39;49m\u001b[39m'\u001b[39;49m, \u001b[39m\"\u001b[39;49m\u001b[39mcubic estimate\u001b[39;49m\u001b[39m\"\u001b[39;49m, \u001b[39m\"\u001b[39;49m\u001b[39m7 days after start\u001b[39;49m\u001b[39m\"\u001b[39;49m])\n\u001b[1;32m      <a href='vscode-notebook-cell:/home/susearc/Documents/github/Py_QuickNotes/numpy/Masked_Arrays.ipynb#X63sZmlsZQ%3D%3D?line=8'>9</a>\u001b[0m plt\u001b[39m.\u001b[39mtitle(\u001b[39m\"\u001b[39m\u001b[39m\"\u001b[39m)\n",
      "File \u001b[0;32m~/Macos/py3.11/lib/python3.11/site-packages/matplotlib/pyplot.py:2116\u001b[0m, in \u001b[0;36myticks\u001b[0;34m(ticks, labels, minor, **kwargs)\u001b[0m\n\u001b[1;32m   2113\u001b[0m         \u001b[39mraise\u001b[39;00m \u001b[39mTypeError\u001b[39;00m(\u001b[39m\"\u001b[39m\u001b[39myticks(): Parameter \u001b[39m\u001b[39m'\u001b[39m\u001b[39mlabels\u001b[39m\u001b[39m'\u001b[39m\u001b[39m can\u001b[39m\u001b[39m'\u001b[39m\u001b[39mt be set \u001b[39m\u001b[39m\"\u001b[39m\n\u001b[1;32m   2114\u001b[0m                         \u001b[39m\"\u001b[39m\u001b[39mwithout setting \u001b[39m\u001b[39m'\u001b[39m\u001b[39mticks\u001b[39m\u001b[39m'\u001b[39m\u001b[39m\"\u001b[39m)\n\u001b[1;32m   2115\u001b[0m \u001b[39melse\u001b[39;00m:\n\u001b[0;32m-> 2116\u001b[0m     locs \u001b[39m=\u001b[39m ax\u001b[39m.\u001b[39;49mset_yticks(ticks, minor\u001b[39m=\u001b[39;49mminor)\n\u001b[1;32m   2118\u001b[0m labels_out: \u001b[39mlist\u001b[39m[Text] \u001b[39m=\u001b[39m []\n\u001b[1;32m   2119\u001b[0m \u001b[39mif\u001b[39;00m labels \u001b[39mis\u001b[39;00m \u001b[39mNone\u001b[39;00m:\n",
      "File \u001b[0;32m~/Macos/py3.11/lib/python3.11/site-packages/matplotlib/axes/_base.py:73\u001b[0m, in \u001b[0;36m_axis_method_wrapper.__set_name__.<locals>.wrapper\u001b[0;34m(self, *args, **kwargs)\u001b[0m\n\u001b[1;32m     72\u001b[0m \u001b[39mdef\u001b[39;00m \u001b[39mwrapper\u001b[39m(\u001b[39mself\u001b[39m, \u001b[39m*\u001b[39margs, \u001b[39m*\u001b[39m\u001b[39m*\u001b[39mkwargs):\n\u001b[0;32m---> 73\u001b[0m     \u001b[39mreturn\u001b[39;00m get_method(\u001b[39mself\u001b[39;49m)(\u001b[39m*\u001b[39;49margs, \u001b[39m*\u001b[39;49m\u001b[39m*\u001b[39;49mkwargs)\n",
      "File \u001b[0;32m~/Macos/py3.11/lib/python3.11/site-packages/matplotlib/axis.py:2138\u001b[0m, in \u001b[0;36mAxis.set_ticks\u001b[0;34m(self, ticks, labels, minor, **kwargs)\u001b[0m\n\u001b[1;32m   2133\u001b[0m     first_key \u001b[39m=\u001b[39m \u001b[39mnext\u001b[39m(\u001b[39miter\u001b[39m(kwargs))\n\u001b[1;32m   2134\u001b[0m     \u001b[39mraise\u001b[39;00m \u001b[39mValueError\u001b[39;00m(\n\u001b[1;32m   2135\u001b[0m         \u001b[39mf\u001b[39m\u001b[39m\"\u001b[39m\u001b[39mIncorrect use of keyword argument \u001b[39m\u001b[39m{\u001b[39;00mfirst_key\u001b[39m!r}\u001b[39;00m\u001b[39m. Keyword arguments \u001b[39m\u001b[39m\"\u001b[39m\n\u001b[1;32m   2136\u001b[0m         \u001b[39m\"\u001b[39m\u001b[39mother than \u001b[39m\u001b[39m'\u001b[39m\u001b[39mminor\u001b[39m\u001b[39m'\u001b[39m\u001b[39m modify the text labels and can only be used if \u001b[39m\u001b[39m\"\u001b[39m\n\u001b[1;32m   2137\u001b[0m         \u001b[39m\"\u001b[39m\u001b[39m'\u001b[39m\u001b[39mlabels\u001b[39m\u001b[39m'\u001b[39m\u001b[39m are passed as well.\u001b[39m\u001b[39m\"\u001b[39m)\n\u001b[0;32m-> 2138\u001b[0m result \u001b[39m=\u001b[39m \u001b[39mself\u001b[39;49m\u001b[39m.\u001b[39;49m_set_tick_locations(ticks, minor\u001b[39m=\u001b[39;49mminor)\n\u001b[1;32m   2139\u001b[0m \u001b[39mif\u001b[39;00m labels \u001b[39mis\u001b[39;00m \u001b[39mnot\u001b[39;00m \u001b[39mNone\u001b[39;00m:\n\u001b[1;32m   2140\u001b[0m     \u001b[39mself\u001b[39m\u001b[39m.\u001b[39mset_ticklabels(labels, minor\u001b[39m=\u001b[39mminor, \u001b[39m*\u001b[39m\u001b[39m*\u001b[39mkwargs)\n",
      "File \u001b[0;32m~/Macos/py3.11/lib/python3.11/site-packages/matplotlib/axis.py:2077\u001b[0m, in \u001b[0;36mAxis._set_tick_locations\u001b[0;34m(self, ticks, minor)\u001b[0m\n\u001b[1;32m   2073\u001b[0m \u001b[39mdef\u001b[39;00m \u001b[39m_set_tick_locations\u001b[39m(\u001b[39mself\u001b[39m, ticks, \u001b[39m*\u001b[39m, minor\u001b[39m=\u001b[39m\u001b[39mFalse\u001b[39;00m):\n\u001b[1;32m   2074\u001b[0m     \u001b[39m# see docstring of set_ticks\u001b[39;00m\n\u001b[1;32m   2075\u001b[0m \n\u001b[1;32m   2076\u001b[0m     \u001b[39m# XXX if the user changes units, the information will be lost here\u001b[39;00m\n\u001b[0;32m-> 2077\u001b[0m     ticks \u001b[39m=\u001b[39m \u001b[39mself\u001b[39;49m\u001b[39m.\u001b[39;49mconvert_units(ticks)\n\u001b[1;32m   2078\u001b[0m     locator \u001b[39m=\u001b[39m mticker\u001b[39m.\u001b[39mFixedLocator(ticks)  \u001b[39m# validate ticks early.\u001b[39;00m\n\u001b[1;32m   2079\u001b[0m     \u001b[39mif\u001b[39;00m \u001b[39mlen\u001b[39m(ticks):\n",
      "File \u001b[0;32m~/Macos/py3.11/lib/python3.11/site-packages/matplotlib/axis.py:1771\u001b[0m, in \u001b[0;36mAxis.convert_units\u001b[0;34m(self, x)\u001b[0m\n\u001b[1;32m   1769\u001b[0m     ret \u001b[39m=\u001b[39m \u001b[39mself\u001b[39m\u001b[39m.\u001b[39mconverter\u001b[39m.\u001b[39mconvert(x, \u001b[39mself\u001b[39m\u001b[39m.\u001b[39munits, \u001b[39mself\u001b[39m)\n\u001b[1;32m   1770\u001b[0m \u001b[39mexcept\u001b[39;00m \u001b[39mException\u001b[39;00m \u001b[39mas\u001b[39;00m e:\n\u001b[0;32m-> 1771\u001b[0m     \u001b[39mraise\u001b[39;00m munits\u001b[39m.\u001b[39mConversionError(\u001b[39m'\u001b[39m\u001b[39mFailed to convert value(s) to axis \u001b[39m\u001b[39m'\u001b[39m\n\u001b[1;32m   1772\u001b[0m                                  \u001b[39mf\u001b[39m\u001b[39m'\u001b[39m\u001b[39munits: \u001b[39m\u001b[39m{\u001b[39;00mx\u001b[39m!r}\u001b[39;00m\u001b[39m'\u001b[39m) \u001b[39mfrom\u001b[39;00m \u001b[39me\u001b[39;00m\n\u001b[1;32m   1773\u001b[0m \u001b[39mreturn\u001b[39;00m ret\n",
      "\u001b[0;31mConversionError\u001b[0m: Failed to convert value(s) to axis units: ['Mainland China', 'cubic estimate', '7 days after start']"
     ]
    },
    {
     "data": {
      "image/png": "[encoded data removed]",
      "text/plain": [
       "<Figure size 640x480 with 1 Axes>"
      ]
     },
     "metadata": {},
     "output_type": "display_data"
    }
   ],
   "source": [
    "# This plot is not so readable since the liens seem to be over each other, so lets summarize in amore elaborate plot. WE will plot the real data when available, and show the cubic fit for unavailable data, using this fit to compute an estimate to the observed number of cases on jan, 7 days after the beginning of the records\n",
    "\n",
    "\n",
    "plt.plot(t, china_total)\n",
    "plt.plot(t[china_total.mask], model(t)[china_total.mask], '--', color='orange')\n",
    "plt.plot(7, model(7), 'r*')\n",
    "plt.xticks([0,7,13], dates[[0,7,13]])\n",
    "plt.yticks(['Mainland China', \"cubic estimate\", \"7 days after start\"])\n",
    "plt.title(\"\")"
   ]
  },
  {
   "cell_type": "code",
   "execution_count": null,
   "metadata": {},
   "outputs": [],
   "source": []
  }
 ],
 "metadata": {
  "kernelspec": {
   "display_name": "Python 3",
   "language": "python",
   "name": "python3"
  },
  "language_info": {
   "codemirror_mode": {
    "name": "ipython",
    "version": 3
   },
   "file_extension": ".py",
   "mimetype": "text/x-python",
   "name": "python",
   "nbconvert_exporter": "python",
   "pygments_lexer": "ipython3",
   "version": "3.11.6"
  }
 },
 "nbformat": 4,
 "nbformat_minor": 2
}
